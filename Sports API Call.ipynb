{
 "cells": [
  {
   "cell_type": "code",
   "execution_count": 1,
   "id": "968ed89d",
   "metadata": {},
   "outputs": [],
   "source": [
    "import requests\n",
    "import json\n",
    "import pandas as pd\n",
    "\n",
    "from config import sports_key \n"
   ]
  },
  {
   "cell_type": "code",
   "execution_count": 2,
   "id": "2e8fa90a",
   "metadata": {
    "scrolled": false
   },
   "outputs": [
    {
     "name": "stdout",
     "output_type": "stream",
     "text": [
      "List of in season sports: [{'key': 'americanfootball_nfl_super_bowl_winner', 'group': 'American Football', 'title': 'NFL Super Bowl Winner', 'description': 'Super Bowl Winner 2022/2023', 'active': True, 'has_outrights': True}, {'key': 'aussierules_afl', 'group': 'Aussie Rules', 'title': 'AFL', 'description': 'Aussie Football', 'active': True, 'has_outrights': False}, {'key': 'baseball_mlb_world_series_winner', 'group': 'Baseball', 'title': 'MLB World Series Winner', 'description': 'World Series Winner 2022', 'active': True, 'has_outrights': True}, {'key': 'basketball_nba', 'group': 'Basketball', 'title': 'NBA', 'description': 'US Basketball', 'active': True, 'has_outrights': False}, {'key': 'basketball_nba_championship_winner', 'group': 'Basketball', 'title': 'NBA Championship Winner', 'description': 'Championship Winner 2021/2022', 'active': True, 'has_outrights': True}, {'key': 'basketball_ncaab', 'group': 'Basketball', 'title': 'NCAAB', 'description': 'US College Basketball', 'active': True, 'has_outrights': False}, {'key': 'cricket_test_match', 'group': 'Cricket', 'title': 'Test Matches', 'description': 'International Test Matches', 'active': True, 'has_outrights': False}, {'key': 'golf_masters_tournament_winner', 'group': 'Golf', 'title': 'Masters Tournament Winner', 'description': '2022 Winner', 'active': True, 'has_outrights': True}, {'key': 'golf_pga_championship_winner', 'group': 'Golf', 'title': 'PGA Championship Winner', 'description': '2022 Winner', 'active': True, 'has_outrights': True}, {'key': 'golf_the_open_championship_winner', 'group': 'Golf', 'title': 'The Open Winner', 'description': '2022 Winner', 'active': True, 'has_outrights': True}, {'key': 'golf_us_open_winner', 'group': 'Golf', 'title': 'US Open Winner', 'description': '2022 Winner', 'active': True, 'has_outrights': True}, {'key': 'icehockey_nhl', 'group': 'Ice Hockey', 'title': 'NHL', 'description': 'US Ice Hockey', 'active': True, 'has_outrights': False}, {'key': 'icehockey_nhl_championship_winner', 'group': 'Ice Hockey', 'title': 'NHL Championship Winner', 'description': 'Stanley Cup Winner 2021/2022', 'active': True, 'has_outrights': True}, {'key': 'icehockey_sweden_allsvenskan', 'group': 'Ice Hockey', 'title': 'HockeyAllsvenskan', 'description': 'Swedish Hockey Allsvenskan', 'active': True, 'has_outrights': False}, {'key': 'icehockey_sweden_hockey_league', 'group': 'Ice Hockey', 'title': 'SHL', 'description': 'Swedish Hockey League', 'active': True, 'has_outrights': False}, {'key': 'mma_mixed_martial_arts', 'group': 'Mixed Martial Arts', 'title': 'MMA', 'description': 'Mixed Martial Arts', 'active': True, 'has_outrights': False}, {'key': 'rugbyleague_nrl', 'group': 'Rugby League', 'title': 'NRL', 'description': 'Aussie Rugby League', 'active': True, 'has_outrights': False}, {'key': 'soccer_argentina_primera_division', 'group': 'Soccer', 'title': 'Primera División - Argentina', 'description': 'Argentine Primera División', 'active': True, 'has_outrights': False}, {'key': 'soccer_australia_aleague', 'group': 'Soccer', 'title': 'A-League', 'description': 'Aussie Soccer', 'active': True, 'has_outrights': False}, {'key': 'soccer_belgium_first_div', 'group': 'Soccer', 'title': 'Belgium First Div', 'description': 'Belgian First Division A', 'active': True, 'has_outrights': False}, {'key': 'soccer_brazil_campeonato', 'group': 'Soccer', 'title': 'Brazil Série A', 'description': 'Brasileirão Série A', 'active': True, 'has_outrights': False}, {'key': 'soccer_denmark_superliga', 'group': 'Soccer', 'title': 'Denmark Superliga', 'description': '', 'active': True, 'has_outrights': False}, {'key': 'soccer_efl_champ', 'group': 'Soccer', 'title': 'Championship', 'description': 'EFL Championship', 'active': True, 'has_outrights': False}, {'key': 'soccer_england_league1', 'group': 'Soccer', 'title': 'League 1', 'description': 'EFL League 1', 'active': True, 'has_outrights': False}, {'key': 'soccer_england_league2', 'group': 'Soccer', 'title': 'League 2', 'description': 'EFL League 2 ', 'active': True, 'has_outrights': False}, {'key': 'soccer_epl', 'group': 'Soccer', 'title': 'EPL', 'description': 'English Premier League', 'active': True, 'has_outrights': False}, {'key': 'soccer_fa_cup', 'group': 'Soccer', 'title': 'FA Cup', 'description': 'Football Association Challenge Cup', 'active': True, 'has_outrights': False}, {'key': 'soccer_france_ligue_one', 'group': 'Soccer', 'title': 'Ligue 1 - France', 'description': '', 'active': True, 'has_outrights': False}, {'key': 'soccer_france_ligue_two', 'group': 'Soccer', 'title': 'Ligue 2 - France', 'description': 'French Soccer', 'active': True, 'has_outrights': False}, {'key': 'soccer_germany_bundesliga', 'group': 'Soccer', 'title': 'Bundesliga - Germany', 'description': 'German Soccer', 'active': True, 'has_outrights': False}, {'key': 'soccer_germany_bundesliga2', 'group': 'Soccer', 'title': 'Bundesliga 2 - Germany', 'description': 'German Soccer', 'active': True, 'has_outrights': False}, {'key': 'soccer_italy_serie_a', 'group': 'Soccer', 'title': 'Serie A - Italy', 'description': 'Italian Soccer', 'active': True, 'has_outrights': False}, {'key': 'soccer_italy_serie_b', 'group': 'Soccer', 'title': 'Serie B - Italy', 'description': 'Italian Soccer', 'active': True, 'has_outrights': False}, {'key': 'soccer_japan_j_league', 'group': 'Soccer', 'title': 'J League', 'description': 'Japan Soccer League', 'active': True, 'has_outrights': False}, {'key': 'soccer_korea_kleague1', 'group': 'Soccer', 'title': 'K League 1', 'description': 'Korean Soccer', 'active': True, 'has_outrights': False}, {'key': 'soccer_league_of_ireland', 'group': 'Soccer', 'title': 'League of Ireland', 'description': 'Airtricity League Premier Division', 'active': True, 'has_outrights': False}, {'key': 'soccer_mexico_ligamx', 'group': 'Soccer', 'title': 'Liga MX', 'description': 'Mexican Soccer', 'active': True, 'has_outrights': False}, {'key': 'soccer_netherlands_eredivisie', 'group': 'Soccer', 'title': 'Dutch Eredivisie', 'description': 'Dutch Soccer', 'active': True, 'has_outrights': False}, {'key': 'soccer_norway_eliteserien', 'group': 'Soccer', 'title': 'Eliteserien - Norway', 'description': 'Norwegian Soccer', 'active': True, 'has_outrights': False}, {'key': 'soccer_portugal_primeira_liga', 'group': 'Soccer', 'title': 'Primeira Liga - Portugal', 'description': 'Portugese Soccer', 'active': True, 'has_outrights': False}, {'key': 'soccer_spain_la_liga', 'group': 'Soccer', 'title': 'La Liga - Spain', 'description': 'Spanish Soccer', 'active': True, 'has_outrights': False}, {'key': 'soccer_spain_segunda_division', 'group': 'Soccer', 'title': 'La Liga 2 - Spain', 'description': 'Spanish Soccer', 'active': True, 'has_outrights': False}, {'key': 'soccer_spl', 'group': 'Soccer', 'title': 'Premiership - Scotland', 'description': 'Scottish Premiership', 'active': True, 'has_outrights': False}, {'key': 'soccer_sweden_allsvenskan', 'group': 'Soccer', 'title': 'Allsvenskan - Sweden', 'description': 'Swedish Soccer', 'active': True, 'has_outrights': False}, {'key': 'soccer_sweden_superettan', 'group': 'Soccer', 'title': 'Superettan - Sweden', 'description': 'Swedish Soccer', 'active': True, 'has_outrights': False}, {'key': 'soccer_switzerland_superleague', 'group': 'Soccer', 'title': 'Swiss Superleague', 'description': 'Swiss Soccer', 'active': True, 'has_outrights': False}, {'key': 'soccer_turkey_super_league', 'group': 'Soccer', 'title': 'Turkey Super League', 'description': 'Turkish Soccer', 'active': True, 'has_outrights': False}, {'key': 'soccer_uefa_champs_league', 'group': 'Soccer', 'title': 'UEFA Champions', 'description': 'European Champions League', 'active': True, 'has_outrights': False}, {'key': 'soccer_uefa_europa_league', 'group': 'Soccer', 'title': 'UEFA Europa', 'description': 'European Europa League', 'active': True, 'has_outrights': False}, {'key': 'soccer_usa_mls', 'group': 'Soccer', 'title': 'MLS', 'description': 'Major League Soccer', 'active': True, 'has_outrights': False}]\n",
      "Number of events: 7\n",
      "[{'id': '51500b931b765eff54be33eb147ff68b', 'sport_key': 'basketball_nba', 'sport_title': 'NBA', 'commence_time': '2022-03-05T03:16:10Z', 'home_team': 'Phoenix Suns', 'away_team': 'New York Knicks', 'bookmakers': [{'key': 'fanduel', 'title': 'FanDuel', 'last_update': '2022-03-05T05:07:47Z', 'markets': [{'key': 'spreads', 'outcomes': [{'name': 'New York Knicks', 'price': -125, 'point': -6.5}, {'name': 'Phoenix Suns', 'price': -102, 'point': 6.5}]}]}, {'key': 'draftkings', 'title': 'DraftKings', 'last_update': '2022-03-05T05:07:47Z', 'markets': [{'key': 'spreads', 'outcomes': [{'name': 'New York Knicks', 'price': -130, 'point': -7.5}, {'name': 'Phoenix Suns', 'price': 100, 'point': 7.5}]}]}, {'key': 'betmgm', 'title': 'BetMGM', 'last_update': '2022-03-05T05:07:48Z', 'markets': [{'key': 'spreads', 'outcomes': [{'name': 'New York Knicks', 'price': -125, 'point': -7.5}, {'name': 'Phoenix Suns', 'price': 100, 'point': 7.5}]}]}, {'key': 'foxbet', 'title': 'FOX Bet', 'last_update': '2022-03-05T05:07:47Z', 'markets': [{'key': 'spreads', 'outcomes': [{'name': 'New York Knicks', 'price': 100, 'point': -9.5}, {'name': 'Phoenix Suns', 'price': -139, 'point': 9.5}]}]}, {'key': 'twinspires', 'title': 'TwinSpires', 'last_update': '2022-03-05T05:07:48Z', 'markets': [{'key': 'spreads', 'outcomes': [{'name': 'New York Knicks', 'price': -110, 'point': -7.5}, {'name': 'Phoenix Suns', 'price': -115, 'point': 7.5}]}]}, {'key': 'sugarhouse', 'title': 'SugarHouse', 'last_update': '2022-03-05T05:07:49Z', 'markets': [{'key': 'spreads', 'outcomes': [{'name': 'New York Knicks', 'price': -110, 'point': -7.5}, {'name': 'Phoenix Suns', 'price': -115, 'point': 7.5}]}]}, {'key': 'barstool', 'title': 'Barstool Sportsbook', 'last_update': '2022-03-05T05:07:48Z', 'markets': [{'key': 'spreads', 'outcomes': [{'name': 'New York Knicks', 'price': -110, 'point': -7.5}, {'name': 'Phoenix Suns', 'price': -115, 'point': 7.5}]}]}, {'key': 'unibet', 'title': 'Unibet', 'last_update': '2022-03-05T05:07:42Z', 'markets': [{'key': 'spreads', 'outcomes': [{'name': 'New York Knicks', 'price': -110, 'point': -7.5}, {'name': 'Phoenix Suns', 'price': -115, 'point': 7.5}]}]}, {'key': 'pointsbetus', 'title': 'PointsBet (US)', 'last_update': '2022-03-05T05:07:47Z', 'markets': [{'key': 'spreads', 'outcomes': [{'name': 'New York Knicks', 'price': -110, 'point': -8.0}, {'name': 'Phoenix Suns', 'price': -110, 'point': 8.0}]}]}, {'key': 'bovada', 'title': 'Bovada', 'last_update': '2022-03-05T05:07:46Z', 'markets': [{'key': 'spreads', 'outcomes': [{'name': 'New York Knicks', 'price': -115, 'point': -7.5}, {'name': 'Phoenix Suns', 'price': -115, 'point': 7.5}]}]}, {'key': 'gtbets', 'title': 'GTbets', 'last_update': '2022-03-05T05:07:46Z', 'markets': [{'key': 'spreads', 'outcomes': [{'name': 'New York Knicks', 'price': -113, 'point': -7.5}, {'name': 'Phoenix Suns', 'price': -113, 'point': 7.5}]}]}, {'key': 'mybookieag', 'title': 'MyBookie.ag', 'last_update': '2022-03-05T05:07:49Z', 'markets': [{'key': 'spreads', 'outcomes': [{'name': 'New York Knicks', 'price': -113, 'point': 5.5}, {'name': 'Phoenix Suns', 'price': -112, 'point': -5.5}]}]}]}, {'id': '3e6443834f16ff8a8f4a93afc3752b7a', 'sport_key': 'basketball_nba', 'sport_title': 'NBA', 'commence_time': '2022-03-05T22:10:00Z', 'home_team': 'Dallas Mavericks', 'away_team': 'Sacramento Kings', 'bookmakers': [{'key': 'fanduel', 'title': 'FanDuel', 'last_update': '2022-03-05T05:07:47Z', 'markets': [{'key': 'spreads', 'outcomes': [{'name': 'Dallas Mavericks', 'price': -110, 'point': -7.5}, {'name': 'Sacramento Kings', 'price': -110, 'point': 7.5}]}]}, {'key': 'wynnbet', 'title': 'WynnBET', 'last_update': '2022-03-05T05:07:48Z', 'markets': [{'key': 'spreads', 'outcomes': [{'name': 'Dallas Mavericks', 'price': -110, 'point': -7.5}, {'name': 'Sacramento Kings', 'price': -110, 'point': 7.5}]}]}, {'key': 'foxbet', 'title': 'FOX Bet', 'last_update': '2022-03-05T05:07:47Z', 'markets': [{'key': 'spreads', 'outcomes': [{'name': 'Dallas Mavericks', 'price': -118, 'point': -7.0}, {'name': 'Sacramento Kings', 'price': 100, 'point': 7.0}]}]}, {'key': 'betmgm', 'title': 'BetMGM', 'last_update': '2022-03-05T05:07:48Z', 'markets': [{'key': 'spreads', 'outcomes': [{'name': 'Dallas Mavericks', 'price': -110, 'point': -7.5}, {'name': 'Sacramento Kings', 'price': -110, 'point': 7.5}]}]}, {'key': 'unibet', 'title': 'Unibet', 'last_update': '2022-03-05T05:07:42Z', 'markets': [{'key': 'spreads', 'outcomes': [{'name': 'Dallas Mavericks', 'price': -110, 'point': -7.5}, {'name': 'Sacramento Kings', 'price': -110, 'point': 7.5}]}]}, {'key': 'barstool', 'title': 'Barstool Sportsbook', 'last_update': '2022-03-05T05:07:48Z', 'markets': [{'key': 'spreads', 'outcomes': [{'name': 'Dallas Mavericks', 'price': -110, 'point': -7.5}, {'name': 'Sacramento Kings', 'price': -110, 'point': 7.5}]}]}, {'key': 'sugarhouse', 'title': 'SugarHouse', 'last_update': '2022-03-05T05:07:49Z', 'markets': [{'key': 'spreads', 'outcomes': [{'name': 'Dallas Mavericks', 'price': -110, 'point': -7.5}, {'name': 'Sacramento Kings', 'price': -110, 'point': 7.5}]}]}, {'key': 'twinspires', 'title': 'TwinSpires', 'last_update': '2022-03-05T05:07:48Z', 'markets': [{'key': 'spreads', 'outcomes': [{'name': 'Dallas Mavericks', 'price': -110, 'point': -7.5}, {'name': 'Sacramento Kings', 'price': -110, 'point': 7.5}]}]}, {'key': 'betrivers', 'title': 'BetRivers', 'last_update': '2022-03-05T05:07:47Z', 'markets': [{'key': 'spreads', 'outcomes': [{'name': 'Dallas Mavericks', 'price': -110, 'point': -7.5}, {'name': 'Sacramento Kings', 'price': -110, 'point': 7.5}]}]}]}, {'id': '82cd0ec599fbcb3e2a2bf672acf86f37', 'sport_key': 'basketball_nba', 'sport_title': 'NBA', 'commence_time': '2022-03-06T00:10:00Z', 'home_team': 'Charlotte Hornets', 'away_team': 'San Antonio Spurs', 'bookmakers': [{'key': 'betonlineag', 'title': 'BetOnline.ag', 'last_update': '2022-03-05T05:07:45Z', 'markets': [{'key': 'spreads', 'outcomes': [{'name': 'Charlotte Hornets', 'price': -115, 'point': -3.5}, {'name': 'San Antonio Spurs', 'price': -105, 'point': 3.5}]}]}, {'key': 'foxbet', 'title': 'FOX Bet', 'last_update': '2022-03-05T05:07:47Z', 'markets': [{'key': 'spreads', 'outcomes': [{'name': 'Charlotte Hornets', 'price': -110, 'point': -4.0}, {'name': 'San Antonio Spurs', 'price': -110, 'point': 4.0}]}]}, {'key': 'pointsbetus', 'title': 'PointsBet (US)', 'last_update': '2022-03-05T05:07:47Z', 'markets': [{'key': 'spreads', 'outcomes': [{'name': 'Charlotte Hornets', 'price': -115, 'point': -3.5}, {'name': 'San Antonio Spurs', 'price': -105, 'point': 3.5}]}]}, {'key': 'fanduel', 'title': 'FanDuel', 'last_update': '2022-03-05T05:07:47Z', 'markets': [{'key': 'spreads', 'outcomes': [{'name': 'Charlotte Hornets', 'price': -112, 'point': -3.5}, {'name': 'San Antonio Spurs', 'price': -108, 'point': 3.5}]}]}, {'key': 'wynnbet', 'title': 'WynnBET', 'last_update': '2022-03-05T05:07:48Z', 'markets': [{'key': 'spreads', 'outcomes': [{'name': 'Charlotte Hornets', 'price': -110, 'point': -3.0}, {'name': 'San Antonio Spurs', 'price': -110, 'point': 3.0}]}]}, {'key': 'betmgm', 'title': 'BetMGM', 'last_update': '2022-03-05T05:07:48Z', 'markets': [{'key': 'spreads', 'outcomes': [{'name': 'Charlotte Hornets', 'price': -110, 'point': -3.5}, {'name': 'San Antonio Spurs', 'price': -110, 'point': 3.5}]}]}, {'key': 'lowvig', 'title': 'LowVig.ag', 'last_update': '2022-03-05T05:07:51Z', 'markets': [{'key': 'spreads', 'outcomes': [{'name': 'Charlotte Hornets', 'price': -110, 'point': -3.5}, {'name': 'San Antonio Spurs', 'price': 100, 'point': 3.5}]}]}, {'key': 'williamhill_us', 'title': 'William Hill (US)', 'last_update': '2022-03-05T05:07:48Z', 'markets': [{'key': 'spreads', 'outcomes': [{'name': 'Charlotte Hornets', 'price': -110, 'point': -3.5}, {'name': 'San Antonio Spurs', 'price': -110, 'point': 3.5}]}]}, {'key': 'draftkings', 'title': 'DraftKings', 'last_update': '2022-03-05T05:07:47Z', 'markets': [{'key': 'spreads', 'outcomes': [{'name': 'Charlotte Hornets', 'price': -110, 'point': -4.0}, {'name': 'San Antonio Spurs', 'price': -110, 'point': 4.0}]}]}, {'key': 'bovada', 'title': 'Bovada', 'last_update': '2022-03-05T05:07:46Z', 'markets': [{'key': 'spreads', 'outcomes': [{'name': 'Charlotte Hornets', 'price': -115, 'point': -3.5}, {'name': 'San Antonio Spurs', 'price': -105, 'point': 3.5}]}]}, {'key': 'unibet', 'title': 'Unibet', 'last_update': '2022-03-05T05:07:42Z', 'markets': [{'key': 'spreads', 'outcomes': [{'name': 'Charlotte Hornets', 'price': -111, 'point': -4.0}, {'name': 'San Antonio Spurs', 'price': -109, 'point': 4.0}]}]}, {'key': 'sugarhouse', 'title': 'SugarHouse', 'last_update': '2022-03-05T05:07:49Z', 'markets': [{'key': 'spreads', 'outcomes': [{'name': 'Charlotte Hornets', 'price': -112, 'point': -4.0}, {'name': 'San Antonio Spurs', 'price': -109, 'point': 4.0}]}]}, {'key': 'barstool', 'title': 'Barstool Sportsbook', 'last_update': '2022-03-05T05:07:48Z', 'markets': [{'key': 'spreads', 'outcomes': [{'name': 'Charlotte Hornets', 'price': -112, 'point': -4.0}, {'name': 'San Antonio Spurs', 'price': -109, 'point': 4.0}]}]}, {'key': 'twinspires', 'title': 'TwinSpires', 'last_update': '2022-03-05T05:07:48Z', 'markets': [{'key': 'spreads', 'outcomes': [{'name': 'Charlotte Hornets', 'price': -112, 'point': -4.0}, {'name': 'San Antonio Spurs', 'price': -109, 'point': 4.0}]}]}, {'key': 'betrivers', 'title': 'BetRivers', 'last_update': '2022-03-05T05:07:47Z', 'markets': [{'key': 'spreads', 'outcomes': [{'name': 'Charlotte Hornets', 'price': -112, 'point': -4.0}, {'name': 'San Antonio Spurs', 'price': -109, 'point': 4.0}]}]}, {'key': 'mybookieag', 'title': 'MyBookie.ag', 'last_update': '2022-03-05T05:07:49Z', 'markets': [{'key': 'spreads', 'outcomes': [{'name': 'Charlotte Hornets', 'price': -110, 'point': -3.5}, {'name': 'San Antonio Spurs', 'price': -110, 'point': 3.5}]}]}, {'key': 'gtbets', 'title': 'GTbets', 'last_update': '2022-03-05T05:07:46Z', 'markets': [{'key': 'spreads', 'outcomes': [{'name': 'Charlotte Hornets', 'price': -109, 'point': -3.5}, {'name': 'San Antonio Spurs', 'price': -109, 'point': 3.5}]}]}]}, {'id': 'ecead2342bc38df9adcf8200ede1dc43', 'sport_key': 'basketball_nba', 'sport_title': 'NBA', 'commence_time': '2022-03-06T01:10:00Z', 'home_team': 'Memphis Grizzlies', 'away_team': 'Orlando Magic', 'bookmakers': [{'key': 'wynnbet', 'title': 'WynnBET', 'last_update': '2022-03-05T05:07:48Z', 'markets': [{'key': 'spreads', 'outcomes': [{'name': 'Memphis Grizzlies', 'price': -110, 'point': -16.0}, {'name': 'Orlando Magic', 'price': -110, 'point': 16.0}]}]}, {'key': 'fanduel', 'title': 'FanDuel', 'last_update': '2022-03-05T05:07:47Z', 'markets': [{'key': 'spreads', 'outcomes': [{'name': 'Memphis Grizzlies', 'price': -112, 'point': -15.5}, {'name': 'Orlando Magic', 'price': -108, 'point': 15.5}]}]}, {'key': 'foxbet', 'title': 'FOX Bet', 'last_update': '2022-03-05T05:07:47Z', 'markets': [{'key': 'spreads', 'outcomes': [{'name': 'Memphis Grizzlies', 'price': -110, 'point': -15.5}, {'name': 'Orlando Magic', 'price': -110, 'point': 15.5}]}]}, {'key': 'unibet', 'title': 'Unibet', 'last_update': '2022-03-05T05:07:42Z', 'markets': [{'key': 'spreads', 'outcomes': [{'name': 'Memphis Grizzlies', 'price': -111, 'point': -15.5}, {'name': 'Orlando Magic', 'price': -110, 'point': 15.5}]}]}, {'key': 'betrivers', 'title': 'BetRivers', 'last_update': '2022-03-05T05:07:47Z', 'markets': [{'key': 'spreads', 'outcomes': [{'name': 'Memphis Grizzlies', 'price': -112, 'point': -15.5}, {'name': 'Orlando Magic', 'price': -110, 'point': 15.5}]}]}, {'key': 'sugarhouse', 'title': 'SugarHouse', 'last_update': '2022-03-05T05:07:49Z', 'markets': [{'key': 'spreads', 'outcomes': [{'name': 'Memphis Grizzlies', 'price': -112, 'point': -15.5}, {'name': 'Orlando Magic', 'price': -110, 'point': 15.5}]}]}, {'key': 'barstool', 'title': 'Barstool Sportsbook', 'last_update': '2022-03-05T05:07:48Z', 'markets': [{'key': 'spreads', 'outcomes': [{'name': 'Memphis Grizzlies', 'price': -112, 'point': -15.5}, {'name': 'Orlando Magic', 'price': -110, 'point': 15.5}]}]}, {'key': 'twinspires', 'title': 'TwinSpires', 'last_update': '2022-03-05T05:07:48Z', 'markets': [{'key': 'spreads', 'outcomes': [{'name': 'Memphis Grizzlies', 'price': -112, 'point': -15.5}, {'name': 'Orlando Magic', 'price': -110, 'point': 15.5}]}]}]}, {'id': '30e61d039a2bf2af7994c3a14278fce0', 'sport_key': 'basketball_nba', 'sport_title': 'NBA', 'commence_time': '2022-03-06T01:10:00Z', 'home_team': 'Miami Heat', 'away_team': 'Philadelphia 76ers', 'bookmakers': [{'key': 'fanduel', 'title': 'FanDuel', 'last_update': '2022-03-05T05:07:47Z', 'markets': [{'key': 'spreads', 'outcomes': [{'name': 'Miami Heat', 'price': -102, 'point': -1.0}, {'name': 'Philadelphia 76ers', 'price': -120, 'point': 1.0}]}]}, {'key': 'wynnbet', 'title': 'WynnBET', 'last_update': '2022-03-05T05:07:48Z', 'markets': [{'key': 'spreads', 'outcomes': [{'name': 'Miami Heat', 'price': -110, 'point': -1.5}, {'name': 'Philadelphia 76ers', 'price': -110, 'point': 1.5}]}]}, {'key': 'foxbet', 'title': 'FOX Bet', 'last_update': '2022-03-05T05:07:47Z', 'markets': [{'key': 'spreads', 'outcomes': [{'name': 'Miami Heat', 'price': -110, 'point': 0.0}, {'name': 'Philadelphia 76ers', 'price': -110, 'point': -0.0}]}]}, {'key': 'betmgm', 'title': 'BetMGM', 'last_update': '2022-03-05T05:07:48Z', 'markets': [{'key': 'spreads', 'outcomes': [{'name': 'Miami Heat', 'price': -105, 'point': -1.5}, {'name': 'Philadelphia 76ers', 'price': -115, 'point': 1.5}]}]}, {'key': 'unibet', 'title': 'Unibet', 'last_update': '2022-03-05T05:07:42Z', 'markets': [{'key': 'spreads', 'outcomes': [{'name': 'Miami Heat', 'price': -112, 'point': 1.0}, {'name': 'Philadelphia 76ers', 'price': -108, 'point': -1.0}]}]}, {'key': 'sugarhouse', 'title': 'SugarHouse', 'last_update': '2022-03-05T05:07:49Z', 'markets': [{'key': 'spreads', 'outcomes': [{'name': 'Miami Heat', 'price': -113, 'point': 1.0}, {'name': 'Philadelphia 76ers', 'price': -108, 'point': -1.0}]}]}, {'key': 'barstool', 'title': 'Barstool Sportsbook', 'last_update': '2022-03-05T05:07:48Z', 'markets': [{'key': 'spreads', 'outcomes': [{'name': 'Miami Heat', 'price': -113, 'point': 1.0}, {'name': 'Philadelphia 76ers', 'price': -108, 'point': -1.0}]}]}, {'key': 'twinspires', 'title': 'TwinSpires', 'last_update': '2022-03-05T05:07:48Z', 'markets': [{'key': 'spreads', 'outcomes': [{'name': 'Miami Heat', 'price': -113, 'point': 1.0}, {'name': 'Philadelphia 76ers', 'price': -108, 'point': -1.0}]}]}, {'key': 'betrivers', 'title': 'BetRivers', 'last_update': '2022-03-05T05:07:47Z', 'markets': [{'key': 'spreads', 'outcomes': [{'name': 'Miami Heat', 'price': -113, 'point': 1.0}, {'name': 'Philadelphia 76ers', 'price': -108, 'point': -1.0}]}]}]}, {'id': '8374507f19d35bf75c630b1bcda705a4', 'sport_key': 'basketball_nba', 'sport_title': 'NBA', 'commence_time': '2022-03-06T01:10:00Z', 'home_team': 'Minnesota Timberwolves', 'away_team': 'Portland Trail Blazers', 'bookmakers': [{'key': 'fanduel', 'title': 'FanDuel', 'last_update': '2022-03-05T05:07:47Z', 'markets': [{'key': 'spreads', 'outcomes': [{'name': 'Minnesota Timberwolves', 'price': -110, 'point': -13.0}, {'name': 'Portland Trail Blazers', 'price': -110, 'point': 13.0}]}]}, {'key': 'wynnbet', 'title': 'WynnBET', 'last_update': '2022-03-05T05:07:48Z', 'markets': [{'key': 'spreads', 'outcomes': [{'name': 'Minnesota Timberwolves', 'price': -110, 'point': -13.0}, {'name': 'Portland Trail Blazers', 'price': -110, 'point': 13.0}]}]}, {'key': 'foxbet', 'title': 'FOX Bet', 'last_update': '2022-03-05T05:07:47Z', 'markets': [{'key': 'spreads', 'outcomes': [{'name': 'Minnesota Timberwolves', 'price': -118, 'point': -13.0}, {'name': 'Portland Trail Blazers', 'price': 100, 'point': 13.0}]}]}, {'key': 'betmgm', 'title': 'BetMGM', 'last_update': '2022-03-05T05:07:48Z', 'markets': [{'key': 'spreads', 'outcomes': [{'name': 'Minnesota Timberwolves', 'price': -110, 'point': -13.5}, {'name': 'Portland Trail Blazers', 'price': -110, 'point': 13.5}]}]}, {'key': 'draftkings', 'title': 'DraftKings', 'last_update': '2022-03-05T05:07:47Z', 'markets': [{'key': 'spreads', 'outcomes': [{'name': 'Minnesota Timberwolves', 'price': -110, 'point': -13.0}, {'name': 'Portland Trail Blazers', 'price': -110, 'point': 13.0}]}]}, {'key': 'unibet', 'title': 'Unibet', 'last_update': '2022-03-05T05:07:42Z', 'markets': [{'key': 'spreads', 'outcomes': [{'name': 'Minnesota Timberwolves', 'price': -111, 'point': -13.5}, {'name': 'Portland Trail Blazers', 'price': -109, 'point': 13.5}]}]}, {'key': 'sugarhouse', 'title': 'SugarHouse', 'last_update': '2022-03-05T05:07:49Z', 'markets': [{'key': 'spreads', 'outcomes': [{'name': 'Minnesota Timberwolves', 'price': -112, 'point': -13.5}, {'name': 'Portland Trail Blazers', 'price': -109, 'point': 13.5}]}]}, {'key': 'barstool', 'title': 'Barstool Sportsbook', 'last_update': '2022-03-05T05:07:48Z', 'markets': [{'key': 'spreads', 'outcomes': [{'name': 'Minnesota Timberwolves', 'price': -112, 'point': -13.5}, {'name': 'Portland Trail Blazers', 'price': -109, 'point': 13.5}]}]}, {'key': 'twinspires', 'title': 'TwinSpires', 'last_update': '2022-03-05T05:07:48Z', 'markets': [{'key': 'spreads', 'outcomes': [{'name': 'Minnesota Timberwolves', 'price': -112, 'point': -13.5}, {'name': 'Portland Trail Blazers', 'price': -109, 'point': 13.5}]}]}, {'key': 'betrivers', 'title': 'BetRivers', 'last_update': '2022-03-05T05:07:47Z', 'markets': [{'key': 'spreads', 'outcomes': [{'name': 'Minnesota Timberwolves', 'price': -112, 'point': -13.5}, {'name': 'Portland Trail Blazers', 'price': -109, 'point': 13.5}]}]}]}, {'id': '66c9e4e0127c3ebd28b9e2284d1d6d17', 'sport_key': 'basketball_nba', 'sport_title': 'NBA', 'commence_time': '2022-03-06T01:40:00Z', 'home_team': 'Los Angeles Lakers', 'away_team': 'Golden State Warriors', 'bookmakers': [{'key': 'betonlineag', 'title': 'BetOnline.ag', 'last_update': '2022-03-05T05:07:45Z', 'markets': [{'key': 'spreads', 'outcomes': [{'name': 'Golden State Warriors', 'price': -115, 'point': -5.5}, {'name': 'Los Angeles Lakers', 'price': -105, 'point': 5.5}]}]}, {'key': 'foxbet', 'title': 'FOX Bet', 'last_update': '2022-03-05T05:07:47Z', 'markets': [{'key': 'spreads', 'outcomes': [{'name': 'Golden State Warriors', 'price': -110, 'point': -6.0}, {'name': 'Los Angeles Lakers', 'price': -110, 'point': 6.0}]}]}, {'key': 'pointsbetus', 'title': 'PointsBet (US)', 'last_update': '2022-03-05T05:07:47Z', 'markets': [{'key': 'spreads', 'outcomes': [{'name': 'Golden State Warriors', 'price': -110, 'point': -5.5}, {'name': 'Los Angeles Lakers', 'price': -110, 'point': 5.5}]}]}, {'key': 'fanduel', 'title': 'FanDuel', 'last_update': '2022-03-05T05:07:47Z', 'markets': [{'key': 'spreads', 'outcomes': [{'name': 'Golden State Warriors', 'price': -112, 'point': -6.0}, {'name': 'Los Angeles Lakers', 'price': -108, 'point': 6.0}]}]}, {'key': 'wynnbet', 'title': 'WynnBET', 'last_update': '2022-03-05T05:07:48Z', 'markets': [{'key': 'spreads', 'outcomes': [{'name': 'Golden State Warriors', 'price': -110, 'point': -5.5}, {'name': 'Los Angeles Lakers', 'price': -110, 'point': 5.5}]}]}, {'key': 'betmgm', 'title': 'BetMGM', 'last_update': '2022-03-05T05:07:48Z', 'markets': [{'key': 'spreads', 'outcomes': [{'name': 'Golden State Warriors', 'price': -110, 'point': -5.5}, {'name': 'Los Angeles Lakers', 'price': -110, 'point': 5.5}]}]}, {'key': 'lowvig', 'title': 'LowVig.ag', 'last_update': '2022-03-05T05:07:51Z', 'markets': [{'key': 'spreads', 'outcomes': [{'name': 'Golden State Warriors', 'price': -110, 'point': -5.5}, {'name': 'Los Angeles Lakers', 'price': 100, 'point': 5.5}]}]}, {'key': 'williamhill_us', 'title': 'William Hill (US)', 'last_update': '2022-03-05T05:07:48Z', 'markets': [{'key': 'spreads', 'outcomes': [{'name': 'Golden State Warriors', 'price': -110, 'point': -5.5}, {'name': 'Los Angeles Lakers', 'price': -110, 'point': 5.5}]}]}, {'key': 'draftkings', 'title': 'DraftKings', 'last_update': '2022-03-05T05:07:47Z', 'markets': [{'key': 'spreads', 'outcomes': [{'name': 'Golden State Warriors', 'price': -110, 'point': -5.5}, {'name': 'Los Angeles Lakers', 'price': -110, 'point': 5.5}]}]}, {'key': 'bovada', 'title': 'Bovada', 'last_update': '2022-03-05T05:07:46Z', 'markets': [{'key': 'spreads', 'outcomes': [{'name': 'Golden State Warriors', 'price': -115, 'point': -5.5}, {'name': 'Los Angeles Lakers', 'price': -105, 'point': 5.5}]}]}, {'key': 'unibet', 'title': 'Unibet', 'last_update': '2022-03-05T05:07:42Z', 'markets': [{'key': 'spreads', 'outcomes': [{'name': 'Golden State Warriors', 'price': -110, 'point': -6.0}, {'name': 'Los Angeles Lakers', 'price': -110, 'point': 6.0}]}]}, {'key': 'sugarhouse', 'title': 'SugarHouse', 'last_update': '2022-03-05T05:07:49Z', 'markets': [{'key': 'spreads', 'outcomes': [{'name': 'Golden State Warriors', 'price': -110, 'point': -6.0}, {'name': 'Los Angeles Lakers', 'price': -110, 'point': 6.0}]}]}, {'key': 'barstool', 'title': 'Barstool Sportsbook', 'last_update': '2022-03-05T05:07:48Z', 'markets': [{'key': 'spreads', 'outcomes': [{'name': 'Golden State Warriors', 'price': -110, 'point': -6.0}, {'name': 'Los Angeles Lakers', 'price': -110, 'point': 6.0}]}]}, {'key': 'twinspires', 'title': 'TwinSpires', 'last_update': '2022-03-05T05:07:48Z', 'markets': [{'key': 'spreads', 'outcomes': [{'name': 'Golden State Warriors', 'price': -110, 'point': -6.0}, {'name': 'Los Angeles Lakers', 'price': -110, 'point': 6.0}]}]}, {'key': 'betrivers', 'title': 'BetRivers', 'last_update': '2022-03-05T05:07:47Z', 'markets': [{'key': 'spreads', 'outcomes': [{'name': 'Golden State Warriors', 'price': -110, 'point': -6.0}, {'name': 'Los Angeles Lakers', 'price': -110, 'point': 6.0}]}]}, {'key': 'mybookieag', 'title': 'MyBookie.ag', 'last_update': '2022-03-05T05:07:49Z', 'markets': [{'key': 'spreads', 'outcomes': [{'name': 'Golden State Warriors', 'price': -110, 'point': -5.5}, {'name': 'Los Angeles Lakers', 'price': -110, 'point': 5.5}]}]}, {'key': 'gtbets', 'title': 'GTbets', 'last_update': '2022-03-05T05:07:46Z', 'markets': [{'key': 'spreads', 'outcomes': [{'name': 'Golden State Warriors', 'price': -109, 'point': -5.5}, {'name': 'Los Angeles Lakers', 'price': -109, 'point': 5.5}]}]}]}]\n",
      "Remaining requests 497\n",
      "Used requests 3\n"
     ]
    }
   ],
   "source": [
    "# An api key is emailed to you when you sign up to a plan\n",
    "# Get a free API key at https://api.the-odds-api.com/\n",
    "#API_KEY = 'YOUR_API_KEY'\n",
    "\n",
    "SPORT = 'basketball_nba' # use the sport_key from the /sports endpoint below, or use 'upcoming' to see the next 8 games across all sports\n",
    "\n",
    "REGIONS = 'us' # uk | us | eu | au. Multiple can be specified if comma delimited\n",
    "\n",
    "MARKETS = 'spreads' # h2h | spreads | totals. Multiple can be specified if comma delimited\n",
    "\n",
    "ODDS_FORMAT = 'american' # decimal | american\n",
    "\n",
    "DATE_FORMAT = 'iso' # iso | unix\n",
    "\n",
    "# # # # # # # # # # # # # # # # # # # # # # # # # # # # # # # # # # # # \n",
    "#\n",
    "# First get a list of in-season sports\n",
    "#   The sport 'key' from the response can be used to get odds in the next request\n",
    "#\n",
    "# # # # # # # # # # # # # # # # # # # # # # # # # # # # # # # # # # # # \n",
    "\n",
    "sports_response = requests.get(\n",
    "    'https://api.the-odds-api.com/v4/sports', \n",
    "    params={\n",
    "        'api_key': sports_key\n",
    "    }\n",
    ")\n",
    "\n",
    "\n",
    "if sports_response.status_code != 200:\n",
    "    print(f'Failed to get sports: status_code {sports_response.status_code}, response body {sports_response.text}')\n",
    "\n",
    "else:\n",
    "    print('List of in season sports:', sports_response.json())\n",
    "\n",
    "\n",
    "\n",
    "# # # # # # # # # # # # # # # # # # # # # # # # # # # # # # # # # # # # \n",
    "#\n",
    "# Now get a list of live & upcoming games for the sport you want, along with odds for different bookmakers\n",
    "# This will deduct from the usage quota\n",
    "# The usage quota cost = [number of markets specified] x [number of regions specified]\n",
    "# For examples of usage quota costs, see https://the-odds-api.com/liveapi/guides/v4/#usage-quota-costs\n",
    "#\n",
    "# # # # # # # # # # # # # # # # # # # # # # # # # # # # # # # # # # # # \n",
    "\n",
    "odds_response = requests.get(\n",
    "    f'https://api.the-odds-api.com/v4/sports/{SPORT}/odds',\n",
    "    params={\n",
    "        'api_key': sports_key,\n",
    "        'regions': REGIONS,\n",
    "        'markets': MARKETS,\n",
    "        'oddsFormat': ODDS_FORMAT,\n",
    "        'dateFormat': DATE_FORMAT,\n",
    "    }\n",
    ")\n",
    "\n",
    "\n",
    "\n",
    "if odds_response.status_code != 200:\n",
    "    print(f'Failed to get odds: status_code {odds_response.status_code}, response body {odds_response.text}')\n",
    "\n",
    "else:\n",
    "    odds_json = odds_response.json()\n",
    "    print('Number of events:', len(odds_json))\n",
    "    print(odds_json)\n",
    "\n",
    "    # Check the usage quota\n",
    "    print('Remaining requests', odds_response.headers['x-requests-remaining'])\n",
    "    print('Used requests', odds_response.headers['x-requests-used'])\n"
   ]
  },
  {
   "cell_type": "code",
   "execution_count": 3,
   "id": "679af6f1",
   "metadata": {},
   "outputs": [
    {
     "data": {
      "text/plain": [
       "{'id': '51500b931b765eff54be33eb147ff68b',\n",
       " 'sport_key': 'basketball_nba',\n",
       " 'sport_title': 'NBA',\n",
       " 'commence_time': '2022-03-05T03:16:10Z',\n",
       " 'home_team': 'Phoenix Suns',\n",
       " 'away_team': 'New York Knicks',\n",
       " 'bookmakers': [{'key': 'fanduel',\n",
       "   'title': 'FanDuel',\n",
       "   'last_update': '2022-03-05T05:07:47Z',\n",
       "   'markets': [{'key': 'spreads',\n",
       "     'outcomes': [{'name': 'New York Knicks', 'price': -125, 'point': -6.5},\n",
       "      {'name': 'Phoenix Suns', 'price': -102, 'point': 6.5}]}]},\n",
       "  {'key': 'draftkings',\n",
       "   'title': 'DraftKings',\n",
       "   'last_update': '2022-03-05T05:07:47Z',\n",
       "   'markets': [{'key': 'spreads',\n",
       "     'outcomes': [{'name': 'New York Knicks', 'price': -130, 'point': -7.5},\n",
       "      {'name': 'Phoenix Suns', 'price': 100, 'point': 7.5}]}]},\n",
       "  {'key': 'betmgm',\n",
       "   'title': 'BetMGM',\n",
       "   'last_update': '2022-03-05T05:07:48Z',\n",
       "   'markets': [{'key': 'spreads',\n",
       "     'outcomes': [{'name': 'New York Knicks', 'price': -125, 'point': -7.5},\n",
       "      {'name': 'Phoenix Suns', 'price': 100, 'point': 7.5}]}]},\n",
       "  {'key': 'foxbet',\n",
       "   'title': 'FOX Bet',\n",
       "   'last_update': '2022-03-05T05:07:47Z',\n",
       "   'markets': [{'key': 'spreads',\n",
       "     'outcomes': [{'name': 'New York Knicks', 'price': 100, 'point': -9.5},\n",
       "      {'name': 'Phoenix Suns', 'price': -139, 'point': 9.5}]}]},\n",
       "  {'key': 'twinspires',\n",
       "   'title': 'TwinSpires',\n",
       "   'last_update': '2022-03-05T05:07:48Z',\n",
       "   'markets': [{'key': 'spreads',\n",
       "     'outcomes': [{'name': 'New York Knicks', 'price': -110, 'point': -7.5},\n",
       "      {'name': 'Phoenix Suns', 'price': -115, 'point': 7.5}]}]},\n",
       "  {'key': 'sugarhouse',\n",
       "   'title': 'SugarHouse',\n",
       "   'last_update': '2022-03-05T05:07:49Z',\n",
       "   'markets': [{'key': 'spreads',\n",
       "     'outcomes': [{'name': 'New York Knicks', 'price': -110, 'point': -7.5},\n",
       "      {'name': 'Phoenix Suns', 'price': -115, 'point': 7.5}]}]},\n",
       "  {'key': 'barstool',\n",
       "   'title': 'Barstool Sportsbook',\n",
       "   'last_update': '2022-03-05T05:07:48Z',\n",
       "   'markets': [{'key': 'spreads',\n",
       "     'outcomes': [{'name': 'New York Knicks', 'price': -110, 'point': -7.5},\n",
       "      {'name': 'Phoenix Suns', 'price': -115, 'point': 7.5}]}]},\n",
       "  {'key': 'unibet',\n",
       "   'title': 'Unibet',\n",
       "   'last_update': '2022-03-05T05:07:42Z',\n",
       "   'markets': [{'key': 'spreads',\n",
       "     'outcomes': [{'name': 'New York Knicks', 'price': -110, 'point': -7.5},\n",
       "      {'name': 'Phoenix Suns', 'price': -115, 'point': 7.5}]}]},\n",
       "  {'key': 'pointsbetus',\n",
       "   'title': 'PointsBet (US)',\n",
       "   'last_update': '2022-03-05T05:07:47Z',\n",
       "   'markets': [{'key': 'spreads',\n",
       "     'outcomes': [{'name': 'New York Knicks', 'price': -110, 'point': -8.0},\n",
       "      {'name': 'Phoenix Suns', 'price': -110, 'point': 8.0}]}]},\n",
       "  {'key': 'bovada',\n",
       "   'title': 'Bovada',\n",
       "   'last_update': '2022-03-05T05:07:46Z',\n",
       "   'markets': [{'key': 'spreads',\n",
       "     'outcomes': [{'name': 'New York Knicks', 'price': -115, 'point': -7.5},\n",
       "      {'name': 'Phoenix Suns', 'price': -115, 'point': 7.5}]}]},\n",
       "  {'key': 'gtbets',\n",
       "   'title': 'GTbets',\n",
       "   'last_update': '2022-03-05T05:07:46Z',\n",
       "   'markets': [{'key': 'spreads',\n",
       "     'outcomes': [{'name': 'New York Knicks', 'price': -113, 'point': -7.5},\n",
       "      {'name': 'Phoenix Suns', 'price': -113, 'point': 7.5}]}]},\n",
       "  {'key': 'mybookieag',\n",
       "   'title': 'MyBookie.ag',\n",
       "   'last_update': '2022-03-05T05:07:49Z',\n",
       "   'markets': [{'key': 'spreads',\n",
       "     'outcomes': [{'name': 'New York Knicks', 'price': -113, 'point': 5.5},\n",
       "      {'name': 'Phoenix Suns', 'price': -112, 'point': -5.5}]}]}]}"
      ]
     },
     "execution_count": 3,
     "metadata": {},
     "output_type": "execute_result"
    }
   ],
   "source": [
    "# odds_json\n",
    "\n",
    "odds_json[0]"
   ]
  },
  {
   "cell_type": "code",
   "execution_count": 17,
   "id": "67e8bf63",
   "metadata": {
    "scrolled": true
   },
   "outputs": [
    {
     "name": "stdout",
     "output_type": "stream",
     "text": [
      "{'key': 'wynnbet', 'title': 'WynnBET', 'last_update': '2022-03-05T05:07:48Z', 'markets': [{'key': 'spreads', 'outcomes': [{'name': 'Dallas Mavericks', 'price': -110, 'point': -7.5}, {'name': 'Sacramento Kings', 'price': -110, 'point': 7.5}]}]}\n"
     ]
    }
   ],
   "source": [
    "# print(odds_json[1][\"bookmakers\"][0][\"markets\"][0][\"outcomes\"][1][\"point\"])\n",
    "print(odds_json[1][\"bookmakers\"][1])"
   ]
  },
  {
   "cell_type": "code",
   "execution_count": null,
   "id": "553923b9",
   "metadata": {},
   "outputs": [],
   "source": [
    "len(odds_json)"
   ]
  },
  {
   "cell_type": "code",
   "execution_count": 30,
   "id": "b6f674ca",
   "metadata": {},
   "outputs": [
    {
     "name": "stdout",
     "output_type": "stream",
     "text": [
      "FANDUEL LIVE ODDS\n",
      "\n",
      "----------------------\n",
      "Phoenix Suns 7.5\n",
      "----------------------\n",
      "New York Knicks -7.5\n",
      "                      \n",
      "----------------------\n",
      "Dallas Mavericks 7.5\n",
      "----------------------\n",
      "Sacramento Kings -7.5\n",
      "                      \n",
      "----------------------\n",
      "Charlotte Hornets 4.0\n",
      "----------------------\n",
      "San Antonio Spurs -4.0\n",
      "                      \n",
      "----------------------\n",
      "Memphis Grizzlies 15.5\n",
      "----------------------\n",
      "Orlando Magic -15.5\n",
      "                      \n",
      "----------------------\n",
      "Miami Heat 1.5\n",
      "----------------------\n",
      "Philadelphia 76ers -1.5\n",
      "                      \n",
      "----------------------\n",
      "Minnesota Timberwolves 13.0\n",
      "----------------------\n",
      "Portland Trail Blazers -13.0\n",
      "                      \n",
      "----------------------\n",
      "Los Angeles Lakers 6.0\n",
      "----------------------\n",
      "Golden State Warriors -6.0\n",
      "                      \n"
     ]
    }
   ],
   "source": [
    "# Create for loop to iterate through each basketball game.  We want home team, \n",
    "print(\"FANDUEL LIVE ODDS\")\n",
    "print(\"\")\n",
    "for x in range(len(odds_json)):\n",
    "    print(\"----------------------\")\n",
    "    print(odds_json[x][\"home_team\"],odds_json[x][\"bookmakers\"][1][\"markets\"][0][\"outcomes\"][1][\"point\"])\n",
    "    print(\"----------------------\")\n",
    "    print(odds_json[x][\"away_team\"],odds_json[x][\"bookmakers\"][1][\"markets\"][0][\"outcomes\"][0][\"point\"])\n",
    "    print(\"                      \")\n",
    "    \n",
    "    \n",
    "    "
   ]
  },
  {
   "cell_type": "code",
   "execution_count": 22,
   "id": "fa5df0b3",
   "metadata": {},
   "outputs": [
    {
     "data": {
      "text/plain": [
       "['Phoenix Suns',\n",
       " 'Dallas Mavericks',\n",
       " 'Charlotte Hornets',\n",
       " 'Memphis Grizzlies',\n",
       " 'Miami Heat',\n",
       " 'Minnesota Timberwolves',\n",
       " 'Los Angeles Lakers']"
      ]
     },
     "execution_count": 22,
     "metadata": {},
     "output_type": "execute_result"
    }
   ],
   "source": [
    "home_team_list=[]\n",
    "\n",
    "for x in range(len(odds_json)):\n",
    "    home_team = (odds_json[x][\"home_team\"])\n",
    "    if home_team not in home_team_list:\n",
    "                 home_team_list.append(home_team)\n",
    "                     \n",
    "home_team_list\n",
    "    \n",
    "    \n",
    "#     odds_json[x][\"bookmakers\"][x][\"markets\"][0][\"outcomes\"][1][\"point\"])\n",
    "#     print(\"----------------------\")\n",
    "#     print(odds_json[x][\"away_team\"])\n",
    "#     print(\"                      \")\n",
    "    "
   ]
  },
  {
   "cell_type": "code",
   "execution_count": 49,
   "id": "9fcebd26",
   "metadata": {},
   "outputs": [
    {
     "data": {
      "text/plain": [
       "['New York Knicks',\n",
       " 'Sacramento Kings',\n",
       " 'San Antonio Spurs',\n",
       " 'Orlando Magic',\n",
       " 'Philadelphia 76ers',\n",
       " 'Portland Trail Blazers',\n",
       " 'Golden State Warriors']"
      ]
     },
     "execution_count": 49,
     "metadata": {},
     "output_type": "execute_result"
    }
   ],
   "source": [
    "away_team_list=[]\n",
    "\n",
    "\n",
    "for x in range(len(odds_json)):\n",
    "    away_team = (odds_json[x][\"away_team\"])\n",
    "    if away_team not in away_team_list:\n",
    "                 away_team_list.append(away_team)\n",
    "                     \n",
    "away_team_list"
   ]
  },
  {
   "cell_type": "code",
   "execution_count": 48,
   "id": "9106c34a",
   "metadata": {},
   "outputs": [
    {
     "name": "stdout",
     "output_type": "stream",
     "text": [
      "[6.5, 7.5, 3.5, 16.0, 1.0, 13.0, 5.5]\n",
      "[-6.5, -7.5, -3.5, -16.0, -1.0, -13.0, -5.5]\n"
     ]
    }
   ],
   "source": [
    "home_team_spread=[]\n",
    "\n",
    "for x in range(len(odds_json)):\n",
    "    home_spread = odds_json[x][\"bookmakers\"][0][\"markets\"][0][\"outcomes\"][1][\"point\"]\n",
    "    if home_spread not in home_team_spread:\n",
    "                 home_team_spread.append(home_spread)\n",
    "\n",
    "home_team_spread\n",
    "\n",
    "\n",
    "away_team_spread=[]\n",
    "\n",
    "for x in range(len(odds_json)):\n",
    "    away_spread = odds_json[x][\"bookmakers\"][0][\"markets\"][0][\"outcomes\"][0][\"point\"]\n",
    "    if away_spread not in away_team_spread:\n",
    "                 away_team_spread.append(away_spread)\n",
    "\n",
    "away_team_spread\n",
    "\n",
    "print(home_team_spread)\n",
    "print(away_team_spread)\n"
   ]
  },
  {
   "cell_type": "code",
   "execution_count": 47,
   "id": "0cae4eee",
   "metadata": {},
   "outputs": [
    {
     "data": {
      "text/plain": [
       "-5.5"
      ]
     },
     "execution_count": 47,
     "metadata": {},
     "output_type": "execute_result"
    }
   ],
   "source": [
    "odds_json[x][\"bookmakers\"][0][\"markets\"][0][\"outcomes\"][0][\"point\"]\n"
   ]
  },
  {
   "cell_type": "code",
   "execution_count": 50,
   "id": "744ba102",
   "metadata": {},
   "outputs": [
    {
     "data": {
      "text/plain": [
       "{'Home Team': ['Phoenix Suns',\n",
       "  'Dallas Mavericks',\n",
       "  'Charlotte Hornets',\n",
       "  'Memphis Grizzlies',\n",
       "  'Miami Heat',\n",
       "  'Minnesota Timberwolves',\n",
       "  'Los Angeles Lakers'],\n",
       " 'Home Team Spread': [6.5, 7.5, 3.5, 16.0, 1.0, 13.0, 5.5],\n",
       " 'Away Team': ['New York Knicks',\n",
       "  'Sacramento Kings',\n",
       "  'San Antonio Spurs',\n",
       "  'Orlando Magic',\n",
       "  'Philadelphia 76ers',\n",
       "  'Portland Trail Blazers',\n",
       "  'Golden State Warriors'],\n",
       " 'Away Team Spread': [-6.5, -7.5, -3.5, -16.0, -1.0, -13.0, -5.5]}"
      ]
     },
     "execution_count": 50,
     "metadata": {},
     "output_type": "execute_result"
    }
   ],
   "source": [
    "Daily_Spread_Dict={\"Home Team\":home_team_list, \"Home Team Spread\":home_team_spread, \"Away Team\":away_team_list, \"Away Team Spread\":away_team_spread}\n",
    "Daily_Spread_Dict"
   ]
  },
  {
   "cell_type": "code",
   "execution_count": null,
   "id": "a35d9aa3",
   "metadata": {},
   "outputs": [],
   "source": []
  },
  {
   "cell_type": "code",
   "execution_count": null,
   "id": "1daa546b",
   "metadata": {},
   "outputs": [],
   "source": [
    "Home_Team=odds_json[0]['home_team']\n",
    "Away_Team=odds_json[0]['away_team']\n",
    "Away_ML=Bookmakers=odds_json[0]['bookmakers'][4]['markets'][0]['outcomes'][0]['price']\n",
    "\n",
    "\n",
    "print(Home_Team)\n",
    "print(Away_Team)\n",
    "print(Away_ML)"
   ]
  },
  {
   "cell_type": "code",
   "execution_count": null,
   "id": "5dc2ca5b",
   "metadata": {},
   "outputs": [],
   "source": [
    "Bookmakers"
   ]
  },
  {
   "cell_type": "code",
   "execution_count": null,
   "id": "e05b3cf4",
   "metadata": {},
   "outputs": [],
   "source": [
    "Spurs_DF=pd.DataFrame(SB_Operator)\n",
    "Spurs_DF.head()"
   ]
  },
  {
   "cell_type": "code",
   "execution_count": null,
   "id": "0125bbc3",
   "metadata": {
    "scrolled": true
   },
   "outputs": [],
   "source": [
    "sports_odds_df = pd.DataFrame(odds_json)\n",
    "sports_odds_df.head(10)"
   ]
  },
  {
   "cell_type": "code",
   "execution_count": null,
   "id": "7f843b41",
   "metadata": {},
   "outputs": [],
   "source": []
  },
  {
   "cell_type": "code",
   "execution_count": null,
   "id": "94b1d983",
   "metadata": {},
   "outputs": [],
   "source": [
    "# Create the output file (CSV).\n",
    "output_data_file = \"SportsBook_Data.csv\"\n",
    "# Export the City_Data into a CSV.\n",
    "sports_odds_df.to_csv(output_data_file, index_label=\"id\")"
   ]
  },
  {
   "cell_type": "code",
   "execution_count": null,
   "id": "8ea3cfb3",
   "metadata": {},
   "outputs": [],
   "source": []
  }
 ],
 "metadata": {
  "kernelspec": {
   "display_name": "PythonData",
   "language": "python",
   "name": "pythondata"
  },
  "language_info": {
   "codemirror_mode": {
    "name": "ipython",
    "version": 3
   },
   "file_extension": ".py",
   "mimetype": "text/x-python",
   "name": "python",
   "nbconvert_exporter": "python",
   "pygments_lexer": "ipython3",
   "version": "3.9.7"
  }
 },
 "nbformat": 4,
 "nbformat_minor": 5
}
