{
 "cells": [
  {
   "cell_type": "code",
   "execution_count": 1,
   "id": "968ed89d",
   "metadata": {},
   "outputs": [],
   "source": [
    "import requests\n",
    "import json\n",
    "import pandas as pd\n",
    "\n",
    "from config import sports_key \n"
   ]
  },
  {
   "cell_type": "code",
   "execution_count": 5,
   "id": "2e8fa90a",
   "metadata": {
    "scrolled": false
   },
   "outputs": [
    {
     "name": "stdout",
     "output_type": "stream",
     "text": [
      "List of in season sports: [{'key': 'americanfootball_nfl', 'group': 'American Football', 'title': 'NFL', 'description': 'US Football', 'active': True, 'has_outrights': False}, {'key': 'americanfootball_nfl_super_bowl_winner', 'group': 'American Football', 'title': 'NFL Super Bowl Winner', 'description': 'Super Bowl Winner 2021/2022', 'active': True, 'has_outrights': True}, {'key': 'aussierules_afl', 'group': 'Aussie Rules', 'title': 'AFL', 'description': 'Aussie Football', 'active': True, 'has_outrights': False}, {'key': 'baseball_mlb_world_series_winner', 'group': 'Baseball', 'title': 'MLB World Series Winner', 'description': 'World Series Winner 2022', 'active': True, 'has_outrights': True}, {'key': 'basketball_euroleague', 'group': 'Basketball', 'title': 'Basketball Euroleague', 'description': 'Basketball Euroleague', 'active': True, 'has_outrights': False}, {'key': 'basketball_nba', 'group': 'Basketball', 'title': 'NBA', 'description': 'US Basketball', 'active': True, 'has_outrights': False}, {'key': 'basketball_nba_championship_winner', 'group': 'Basketball', 'title': 'NBA Championship Winner', 'description': 'Championship Winner 2021/2022', 'active': True, 'has_outrights': True}, {'key': 'basketball_ncaab', 'group': 'Basketball', 'title': 'NCAAB', 'description': 'US College Basketball', 'active': True, 'has_outrights': False}, {'key': 'cricket_odi', 'group': 'Cricket', 'title': 'One Day Internationals', 'description': 'One Day Internationals', 'active': True, 'has_outrights': False}, {'key': 'cricket_test_match', 'group': 'Cricket', 'title': 'Test Matches', 'description': 'International Test Matches', 'active': True, 'has_outrights': False}, {'key': 'golf_masters_tournament_winner', 'group': 'Golf', 'title': 'Masters Tournament Winner', 'description': '2022 Winner', 'active': True, 'has_outrights': True}, {'key': 'golf_pga_championship_winner', 'group': 'Golf', 'title': 'PGA Championship Winner', 'description': '2022 Winner', 'active': True, 'has_outrights': True}, {'key': 'golf_the_open_championship_winner', 'group': 'Golf', 'title': 'The Open Winner', 'description': '2022 Winner', 'active': True, 'has_outrights': True}, {'key': 'golf_us_open_winner', 'group': 'Golf', 'title': 'US Open Winner', 'description': '2022 Winner', 'active': True, 'has_outrights': True}, {'key': 'icehockey_nhl', 'group': 'Ice Hockey', 'title': 'NHL', 'description': 'US Ice Hockey', 'active': True, 'has_outrights': False}, {'key': 'icehockey_nhl_championship_winner', 'group': 'Ice Hockey', 'title': 'NHL Championship Winner', 'description': 'Stanley Cup Winner 2021/2022', 'active': True, 'has_outrights': True}, {'key': 'icehockey_sweden_allsvenskan', 'group': 'Ice Hockey', 'title': 'HockeyAllsvenskan', 'description': 'Swedish Hockey Allsvenskan', 'active': True, 'has_outrights': False}, {'key': 'icehockey_sweden_hockey_league', 'group': 'Ice Hockey', 'title': 'SHL', 'description': 'Swedish Hockey League', 'active': True, 'has_outrights': False}, {'key': 'mma_mixed_martial_arts', 'group': 'Mixed Martial Arts', 'title': 'MMA', 'description': 'Mixed Martial Arts', 'active': True, 'has_outrights': False}, {'key': 'rugbyleague_nrl', 'group': 'Rugby League', 'title': 'NRL', 'description': 'Aussie Rugby League', 'active': True, 'has_outrights': False}, {'key': 'soccer_africa_cup_of_nations', 'group': 'Soccer', 'title': 'Africa Cup of Nations', 'description': 'Africa Cup of Nations', 'active': True, 'has_outrights': False}, {'key': 'soccer_australia_aleague', 'group': 'Soccer', 'title': 'A-League', 'description': 'Aussie Soccer', 'active': True, 'has_outrights': False}, {'key': 'soccer_belgium_first_div', 'group': 'Soccer', 'title': 'Belgium First Div', 'description': 'Belgian First Division A', 'active': True, 'has_outrights': False}, {'key': 'soccer_denmark_superliga', 'group': 'Soccer', 'title': 'Denmark Superliga', 'description': '', 'active': True, 'has_outrights': False}, {'key': 'soccer_efl_champ', 'group': 'Soccer', 'title': 'Championship', 'description': 'EFL Championship', 'active': True, 'has_outrights': False}, {'key': 'soccer_england_efl_cup', 'group': 'Soccer', 'title': 'EFL Cup', 'description': 'League Cup', 'active': True, 'has_outrights': False}, {'key': 'soccer_england_league1', 'group': 'Soccer', 'title': 'League 1', 'description': 'EFL League 1', 'active': True, 'has_outrights': False}, {'key': 'soccer_england_league2', 'group': 'Soccer', 'title': 'League 2', 'description': 'EFL League 2 ', 'active': True, 'has_outrights': False}, {'key': 'soccer_epl', 'group': 'Soccer', 'title': 'EPL', 'description': 'English Premier League', 'active': True, 'has_outrights': False}, {'key': 'soccer_fa_cup', 'group': 'Soccer', 'title': 'FA Cup', 'description': 'Football Association Challenge Cup', 'active': True, 'has_outrights': False}, {'key': 'soccer_france_ligue_one', 'group': 'Soccer', 'title': 'Ligue 1 - France', 'description': '', 'active': True, 'has_outrights': False}, {'key': 'soccer_france_ligue_two', 'group': 'Soccer', 'title': 'Ligue 2 - France', 'description': 'French Soccer', 'active': True, 'has_outrights': False}, {'key': 'soccer_germany_bundesliga', 'group': 'Soccer', 'title': 'Bundesliga - Germany', 'description': 'German Soccer', 'active': True, 'has_outrights': False}, {'key': 'soccer_germany_bundesliga2', 'group': 'Soccer', 'title': 'Bundesliga 2 - Germany', 'description': 'German Soccer', 'active': True, 'has_outrights': False}, {'key': 'soccer_italy_serie_a', 'group': 'Soccer', 'title': 'Serie A - Italy', 'description': 'Italian Soccer', 'active': True, 'has_outrights': False}, {'key': 'soccer_italy_serie_b', 'group': 'Soccer', 'title': 'Serie B - Italy', 'description': 'Italian Soccer', 'active': True, 'has_outrights': False}, {'key': 'soccer_japan_j_league', 'group': 'Soccer', 'title': 'J League', 'description': 'Japan Soccer League', 'active': True, 'has_outrights': False}, {'key': 'soccer_korea_kleague1', 'group': 'Soccer', 'title': 'K League 1', 'description': 'Korean Soccer', 'active': True, 'has_outrights': False}, {'key': 'soccer_mexico_ligamx', 'group': 'Soccer', 'title': 'Liga MX', 'description': 'Mexican Soccer', 'active': True, 'has_outrights': False}, {'key': 'soccer_netherlands_eredivisie', 'group': 'Soccer', 'title': 'Dutch Eredivisie', 'description': 'Dutch Soccer', 'active': True, 'has_outrights': False}, {'key': 'soccer_portugal_primeira_liga', 'group': 'Soccer', 'title': 'Primeira Liga - Portugal', 'description': 'Portugese Soccer', 'active': True, 'has_outrights': False}, {'key': 'soccer_russia_premier_league', 'group': 'Soccer', 'title': 'Premier League - Russia', 'description': 'Russian Soccer', 'active': True, 'has_outrights': False}, {'key': 'soccer_spain_la_liga', 'group': 'Soccer', 'title': 'La Liga - Spain', 'description': 'Spanish Soccer', 'active': True, 'has_outrights': False}, {'key': 'soccer_spain_segunda_division', 'group': 'Soccer', 'title': 'La Liga 2 - Spain', 'description': 'Spanish Soccer', 'active': True, 'has_outrights': False}, {'key': 'soccer_spl', 'group': 'Soccer', 'title': 'Premiership - Scotland', 'description': 'Scottish Premiership', 'active': True, 'has_outrights': False}, {'key': 'soccer_sweden_allsvenskan', 'group': 'Soccer', 'title': 'Allsvenskan - Sweden', 'description': 'Swedish Soccer', 'active': True, 'has_outrights': False}, {'key': 'soccer_sweden_superettan', 'group': 'Soccer', 'title': 'Superettan - Sweden', 'description': 'Swedish Soccer', 'active': True, 'has_outrights': False}, {'key': 'soccer_switzerland_superleague', 'group': 'Soccer', 'title': 'Swiss Superleague', 'description': 'Swiss Soccer', 'active': True, 'has_outrights': False}, {'key': 'soccer_turkey_super_league', 'group': 'Soccer', 'title': 'Turkey Super League', 'description': 'Turkish Soccer', 'active': True, 'has_outrights': False}, {'key': 'soccer_uefa_champs_league', 'group': 'Soccer', 'title': 'UEFA Champions', 'description': 'European Champions League', 'active': True, 'has_outrights': False}, {'key': 'soccer_uefa_europa_league', 'group': 'Soccer', 'title': 'UEFA Europa', 'description': 'European Europa League', 'active': True, 'has_outrights': False}, {'key': 'soccer_usa_mls', 'group': 'Soccer', 'title': 'MLS', 'description': 'Major League Soccer', 'active': True, 'has_outrights': False}]\n"
     ]
    },
    {
     "name": "stdout",
     "output_type": "stream",
     "text": [
      "Number of events: 9\n",
      "[{'id': '1d62d0f7bec4c48ae1e4cc6a9d0aa3cc', 'sport_key': 'basketball_nba', 'sport_title': 'NBA', 'commence_time': '2022-02-03T00:10:24Z', 'home_team': 'Indiana Pacers', 'away_team': 'Orlando Magic', 'bookmakers': [{'key': 'fanduel', 'title': 'FanDuel', 'last_update': '2022-02-03T01:27:17Z', 'markets': [{'key': 'spreads', 'outcomes': [{'name': 'Indiana Pacers', 'price': -128, 'point': -10.5}, {'name': 'Orlando Magic', 'price': 100, 'point': 10.5}]}]}, {'key': 'foxbet', 'title': 'FOX Bet', 'last_update': '2022-02-03T01:26:52Z', 'markets': [{'key': 'spreads', 'outcomes': [{'name': 'Indiana Pacers', 'price': -105, 'point': -10.5}, {'name': 'Orlando Magic', 'price': -118, 'point': 10.5}]}]}, {'key': 'pointsbetus', 'title': 'PointsBet (US)', 'last_update': '2022-02-03T01:27:31Z', 'markets': [{'key': 'spreads', 'outcomes': [{'name': 'Indiana Pacers', 'price': -110, 'point': -13.5}, {'name': 'Orlando Magic', 'price': -110, 'point': 13.5}]}]}, {'key': 'betmgm', 'title': 'BetMGM', 'last_update': '2022-02-03T01:27:33Z', 'markets': [{'key': 'spreads', 'outcomes': [{'name': 'Indiana Pacers', 'price': -110, 'point': -13.5}, {'name': 'Orlando Magic', 'price': -115, 'point': 13.5}]}]}, {'key': 'draftkings', 'title': 'DraftKings', 'last_update': '2022-02-03T01:27:31Z', 'markets': [{'key': 'spreads', 'outcomes': [{'name': 'Indiana Pacers', 'price': -115, 'point': -13.5}, {'name': 'Orlando Magic', 'price': -115, 'point': 13.5}]}]}, {'key': 'sugarhouse', 'title': 'SugarHouse', 'last_update': '2022-02-03T01:27:31Z', 'markets': [{'key': 'spreads', 'outcomes': [{'name': 'Indiana Pacers', 'price': -113, 'point': -12.5}, {'name': 'Orlando Magic', 'price': -114, 'point': 12.5}]}]}, {'key': 'barstool', 'title': 'Barstool Sportsbook', 'last_update': '2022-02-03T01:27:13Z', 'markets': [{'key': 'spreads', 'outcomes': [{'name': 'Indiana Pacers', 'price': -113, 'point': -12.5}, {'name': 'Orlando Magic', 'price': -114, 'point': 12.5}]}]}, {'key': 'unibet', 'title': 'Unibet', 'last_update': '2022-02-03T01:27:28Z', 'markets': [{'key': 'spreads', 'outcomes': [{'name': 'Indiana Pacers', 'price': -112, 'point': -12.5}, {'name': 'Orlando Magic', 'price': -114, 'point': 12.5}]}]}, {'key': 'twinspires', 'title': 'TwinSpires', 'last_update': '2022-02-03T01:27:32Z', 'markets': [{'key': 'spreads', 'outcomes': [{'name': 'Indiana Pacers', 'price': -113, 'point': -12.5}, {'name': 'Orlando Magic', 'price': -114, 'point': 12.5}]}]}, {'key': 'gtbets', 'title': 'GTbets', 'last_update': '2022-02-03T01:27:32Z', 'markets': [{'key': 'spreads', 'outcomes': [{'name': 'Indiana Pacers', 'price': -108, 'point': -13.5}, {'name': 'Orlando Magic', 'price': -118, 'point': 13.5}]}]}, {'key': 'bovada', 'title': 'Bovada', 'last_update': '2022-02-03T01:27:03Z', 'markets': [{'key': 'spreads', 'outcomes': [{'name': 'Indiana Pacers', 'price': -110, 'point': -13.5}, {'name': 'Orlando Magic', 'price': -120, 'point': 13.5}]}]}, {'key': 'mybookieag', 'title': 'MyBookie.ag', 'last_update': '2022-02-03T01:27:05Z', 'markets': [{'key': 'spreads', 'outcomes': [{'name': 'Indiana Pacers', 'price': -110, 'point': -3.5}, {'name': 'Orlando Magic', 'price': -110, 'point': 3.5}]}]}]}, {'id': '05343fa6debb14ea6bd74f2089c95777', 'sport_key': 'basketball_nba', 'sport_title': 'NBA', 'commence_time': '2022-02-03T00:10:55Z', 'home_team': 'Philadelphia 76ers', 'away_team': 'Washington Wizards', 'bookmakers': [{'key': 'fanduel', 'title': 'FanDuel', 'last_update': '2022-02-03T01:27:17Z', 'markets': [{'key': 'spreads', 'outcomes': [{'name': 'Philadelphia 76ers', 'price': -113, 'point': -7.5}, {'name': 'Washington Wizards', 'price': -113, 'point': 7.5}]}]}, {'key': 'betmgm', 'title': 'BetMGM', 'last_update': '2022-02-03T01:27:33Z', 'markets': [{'key': 'spreads', 'outcomes': [{'name': 'Philadelphia 76ers', 'price': -120, 'point': -6.5}, {'name': 'Washington Wizards', 'price': -105, 'point': 6.5}]}]}, {'key': 'draftkings', 'title': 'DraftKings', 'last_update': '2022-02-03T01:27:31Z', 'markets': [{'key': 'spreads', 'outcomes': [{'name': 'Philadelphia 76ers', 'price': -115, 'point': -6.5}, {'name': 'Washington Wizards', 'price': -115, 'point': 6.5}]}]}, {'key': 'foxbet', 'title': 'FOX Bet', 'last_update': '2022-02-03T01:26:52Z', 'markets': [{'key': 'spreads', 'outcomes': [{'name': 'Philadelphia 76ers', 'price': -120, 'point': -6.5}, {'name': 'Washington Wizards', 'price': -105, 'point': 6.5}]}]}, {'key': 'unibet', 'title': 'Unibet', 'last_update': '2022-02-03T01:27:28Z', 'markets': [{'key': 'spreads', 'outcomes': [{'name': 'Philadelphia 76ers', 'price': -116, 'point': -8.0}, {'name': 'Washington Wizards', 'price': -109, 'point': 8.0}]}]}, {'key': 'twinspires', 'title': 'TwinSpires', 'last_update': '2022-02-03T01:27:32Z', 'markets': [{'key': 'spreads', 'outcomes': [{'name': 'Philadelphia 76ers', 'price': -117, 'point': -8.0}, {'name': 'Washington Wizards', 'price': -109, 'point': 8.0}]}]}, {'key': 'sugarhouse', 'title': 'SugarHouse', 'last_update': '2022-02-03T01:27:31Z', 'markets': [{'key': 'spreads', 'outcomes': [{'name': 'Philadelphia 76ers', 'price': -117, 'point': -8.0}, {'name': 'Washington Wizards', 'price': -109, 'point': 8.0}]}]}, {'key': 'barstool', 'title': 'Barstool Sportsbook', 'last_update': '2022-02-03T01:27:13Z', 'markets': [{'key': 'spreads', 'outcomes': [{'name': 'Philadelphia 76ers', 'price': -110, 'point': -7.0}, {'name': 'Washington Wizards', 'price': -115, 'point': 7.0}]}]}, {'key': 'pointsbetus', 'title': 'PointsBet (US)', 'last_update': '2022-02-03T01:27:31Z', 'markets': [{'key': 'spreads', 'outcomes': [{'name': 'Philadelphia 76ers', 'price': -110, 'point': -7.0}, {'name': 'Washington Wizards', 'price': -110, 'point': 7.0}]}]}, {'key': 'bovada', 'title': 'Bovada', 'last_update': '2022-02-03T01:27:03Z', 'markets': [{'key': 'spreads', 'outcomes': [{'name': 'Philadelphia 76ers', 'price': -115, 'point': -5.5}, {'name': 'Washington Wizards', 'price': -115, 'point': 5.5}]}]}, {'key': 'gtbets', 'title': 'GTbets', 'last_update': '2022-02-03T01:27:32Z', 'markets': [{'key': 'spreads', 'outcomes': [{'name': 'Philadelphia 76ers', 'price': -113, 'point': -6.5}, {'name': 'Washington Wizards', 'price': -113, 'point': 6.5}]}]}, {'key': 'mybookieag', 'title': 'MyBookie.ag', 'last_update': '2022-02-03T01:27:05Z', 'markets': [{'key': 'spreads', 'outcomes': [{'name': 'Philadelphia 76ers', 'price': -110, 'point': -10.0}, {'name': 'Washington Wizards', 'price': -110, 'point': 10.0}]}]}]}, {'id': 'b4717c272b39a8443882700516a7ac75', 'sport_key': 'basketball_nba', 'sport_title': 'NBA', 'commence_time': '2022-02-03T00:40:39Z', 'home_team': 'Boston Celtics', 'away_team': 'Charlotte Hornets', 'bookmakers': [{'key': 'fanduel', 'title': 'FanDuel', 'last_update': '2022-02-03T01:27:17Z', 'markets': [{'key': 'spreads', 'outcomes': [{'name': 'Boston Celtics', 'price': -106, 'point': -4.5}, {'name': 'Charlotte Hornets', 'price': -120, 'point': 4.5}]}]}, {'key': 'draftkings', 'title': 'DraftKings', 'last_update': '2022-02-03T01:27:31Z', 'markets': [{'key': 'spreads', 'outcomes': [{'name': 'Boston Celtics', 'price': -120, 'point': -3.5}, {'name': 'Charlotte Hornets', 'price': -110, 'point': 3.5}]}]}, {'key': 'betmgm', 'title': 'BetMGM', 'last_update': '2022-02-03T01:27:33Z', 'markets': [{'key': 'spreads', 'outcomes': [{'name': 'Boston Celtics', 'price': -110, 'point': -3.5}, {'name': 'Charlotte Hornets', 'price': -115, 'point': 3.5}]}]}, {'key': 'foxbet', 'title': 'FOX Bet', 'last_update': '2022-02-03T01:26:52Z', 'markets': [{'key': 'spreads', 'outcomes': [{'name': 'Boston Celtics', 'price': -120, 'point': -5.5}, {'name': 'Charlotte Hornets', 'price': -105, 'point': 5.5}]}]}, {'key': 'unibet', 'title': 'Unibet', 'last_update': '2022-02-03T01:27:28Z', 'markets': [{'key': 'spreads', 'outcomes': [{'name': 'Boston Celtics', 'price': -118, 'point': -3.5}, {'name': 'Charlotte Hornets', 'price': -108, 'point': 3.5}]}]}, {'key': 'twinspires', 'title': 'TwinSpires', 'last_update': '2022-02-03T01:27:32Z', 'markets': [{'key': 'spreads', 'outcomes': [{'name': 'Boston Celtics', 'price': -118, 'point': -3.5}, {'name': 'Charlotte Hornets', 'price': -108, 'point': 3.5}]}]}, {'key': 'sugarhouse', 'title': 'SugarHouse', 'last_update': '2022-02-03T01:27:31Z', 'markets': [{'key': 'spreads', 'outcomes': [{'name': 'Boston Celtics', 'price': -118, 'point': -3.5}, {'name': 'Charlotte Hornets', 'price': -108, 'point': 3.5}]}]}, {'key': 'barstool', 'title': 'Barstool Sportsbook', 'last_update': '2022-02-03T01:27:13Z', 'markets': [{'key': 'spreads', 'outcomes': [{'name': 'Boston Celtics', 'price': -110, 'point': -3.5}, {'name': 'Charlotte Hornets', 'price': -115, 'point': 3.5}]}]}, {'key': 'pointsbetus', 'title': 'PointsBet (US)', 'last_update': '2022-02-03T01:27:31Z', 'markets': [{'key': 'spreads', 'outcomes': [{'name': 'Boston Celtics', 'price': -110, 'point': -3.0}, {'name': 'Charlotte Hornets', 'price': -110, 'point': 3.0}]}]}, {'key': 'gtbets', 'title': 'GTbets', 'last_update': '2022-02-03T01:27:32Z', 'markets': [{'key': 'spreads', 'outcomes': [{'name': 'Boston Celtics', 'price': -108, 'point': -3.5}, {'name': 'Charlotte Hornets', 'price': -118, 'point': 3.5}]}]}, {'key': 'bovada', 'title': 'Bovada', 'last_update': '2022-02-03T01:27:03Z', 'markets': [{'key': 'spreads', 'outcomes': [{'name': 'Boston Celtics', 'price': -120, 'point': -3.5}, {'name': 'Charlotte Hornets', 'price': -110, 'point': 3.5}]}]}, {'key': 'mybookieag', 'title': 'MyBookie.ag', 'last_update': '2022-02-03T01:27:05Z', 'markets': [{'key': 'spreads', 'outcomes': [{'name': 'Boston Celtics', 'price': -110, 'point': -6.5}, {'name': 'Charlotte Hornets', 'price': -110, 'point': 6.5}]}]}]}, {'id': '623f24d10d220404f95b29f6f1bbf79e', 'sport_key': 'basketball_nba', 'sport_title': 'NBA', 'commence_time': '2022-02-03T00:46:16Z', 'home_team': 'New York Knicks', 'away_team': 'Memphis Grizzlies', 'bookmakers': [{'key': 'fanduel', 'title': 'FanDuel', 'last_update': '2022-02-03T01:27:17Z', 'markets': [{'key': 'spreads', 'outcomes': [{'name': 'Memphis Grizzlies', 'price': -106, 'point': -11.5}, {'name': 'New York Knicks', 'price': -120, 'point': 11.5}]}]}, {'key': 'draftkings', 'title': 'DraftKings', 'last_update': '2022-02-03T01:27:31Z', 'markets': [{'key': 'spreads', 'outcomes': [{'name': 'Memphis Grizzlies', 'price': -110, 'point': -11.5}, {'name': 'New York Knicks', 'price': -120, 'point': 11.5}]}]}, {'key': 'foxbet', 'title': 'FOX Bet', 'last_update': '2022-02-03T01:26:10Z', 'markets': [{'key': 'spreads', 'outcomes': [{'name': 'Memphis Grizzlies', 'price': -118, 'point': -10.5}, {'name': 'New York Knicks', 'price': -105, 'point': 10.5}]}]}, {'key': 'pointsbetus', 'title': 'PointsBet (US)', 'last_update': '2022-02-03T01:27:31Z', 'markets': [{'key': 'spreads', 'outcomes': [{'name': 'Memphis Grizzlies', 'price': -110, 'point': 0.0}, {'name': 'New York Knicks', 'price': -110, 'point': 0.0}]}]}, {'key': 'betmgm', 'title': 'BetMGM', 'last_update': '2022-02-03T01:27:33Z', 'markets': [{'key': 'spreads', 'outcomes': [{'name': 'Memphis Grizzlies', 'price': -115, 'point': -10.5}, {'name': 'New York Knicks', 'price': -110, 'point': 10.5}]}]}, {'key': 'twinspires', 'title': 'TwinSpires', 'last_update': '2022-02-03T01:27:32Z', 'markets': [{'key': 'spreads', 'outcomes': [{'name': 'Memphis Grizzlies', 'price': -110, 'point': -11.5}, {'name': 'New York Knicks', 'price': -115, 'point': 11.5}]}]}, {'key': 'sugarhouse', 'title': 'SugarHouse', 'last_update': '2022-02-03T01:27:31Z', 'markets': [{'key': 'spreads', 'outcomes': [{'name': 'Memphis Grizzlies', 'price': -110, 'point': -11.5}, {'name': 'New York Knicks', 'price': -115, 'point': 11.5}]}]}, {'key': 'barstool', 'title': 'Barstool Sportsbook', 'last_update': '2022-02-03T01:27:13Z', 'markets': [{'key': 'spreads', 'outcomes': [{'name': 'Memphis Grizzlies', 'price': -110, 'point': -11.5}, {'name': 'New York Knicks', 'price': -115, 'point': 11.5}]}]}, {'key': 'unibet', 'title': 'Unibet', 'last_update': '2022-02-03T01:27:28Z', 'markets': [{'key': 'spreads', 'outcomes': [{'name': 'Memphis Grizzlies', 'price': -110, 'point': -11.5}, {'name': 'New York Knicks', 'price': -115, 'point': 11.5}]}]}, {'key': 'mybookieag', 'title': 'MyBookie.ag', 'last_update': '2022-02-03T01:27:05Z', 'markets': [{'key': 'spreads', 'outcomes': [{'name': 'Memphis Grizzlies', 'price': 100, 'point': -5.0}, {'name': 'New York Knicks', 'price': -120, 'point': 5.0}]}]}, {'key': 'gtbets', 'title': 'GTbets', 'last_update': '2022-02-03T01:27:32Z', 'markets': [{'key': 'spreads', 'outcomes': [{'name': 'Memphis Grizzlies', 'price': -118, 'point': -10.5}, {'name': 'New York Knicks', 'price': -108, 'point': 10.5}]}]}, {'key': 'bovada', 'title': 'Bovada', 'last_update': '2022-02-03T01:27:03Z', 'markets': [{'key': 'spreads', 'outcomes': [{'name': 'Memphis Grizzlies', 'price': -120, 'point': -10.5}, {'name': 'New York Knicks', 'price': -110, 'point': 10.5}]}]}]}, {'id': 'b7e4a7276fa29bc723688be0c6288626', 'sport_key': 'basketball_nba', 'sport_title': 'NBA', 'commence_time': '2022-02-03T01:13:39Z', 'home_team': 'Houston Rockets', 'away_team': 'Cleveland Cavaliers', 'bookmakers': [{'key': 'draftkings', 'title': 'DraftKings', 'last_update': '2022-02-03T01:27:31Z', 'markets': [{'key': 'spreads', 'outcomes': [{'name': 'Cleveland Cavaliers', 'price': -120, 'point': -6.5}, {'name': 'Houston Rockets', 'price': -110, 'point': 6.5}]}]}, {'key': 'fanduel', 'title': 'FanDuel', 'last_update': '2022-02-03T01:27:17Z', 'markets': [{'key': 'spreads', 'outcomes': [{'name': 'Cleveland Cavaliers', 'price': -113, 'point': -7.5}, {'name': 'Houston Rockets', 'price': -113, 'point': 7.5}]}]}, {'key': 'betmgm', 'title': 'BetMGM', 'last_update': '2022-02-03T01:27:33Z', 'markets': [{'key': 'spreads', 'outcomes': [{'name': 'Cleveland Cavaliers', 'price': -120, 'point': -5.5}, {'name': 'Houston Rockets', 'price': -105, 'point': 5.5}]}]}, {'key': 'foxbet', 'title': 'FOX Bet', 'last_update': '2022-02-03T01:26:52Z', 'markets': [{'key': 'spreads', 'outcomes': [{'name': 'Cleveland Cavaliers', 'price': -110, 'point': -7.5}, {'name': 'Houston Rockets', 'price': -110, 'point': 7.5}]}]}, {'key': 'sugarhouse', 'title': 'SugarHouse', 'last_update': '2022-02-03T01:27:31Z', 'markets': [{'key': 'spreads', 'outcomes': [{'name': 'Cleveland Cavaliers', 'price': -114, 'point': -7.5}, {'name': 'Houston Rockets', 'price': -112, 'point': 7.5}]}]}, {'key': 'barstool', 'title': 'Barstool Sportsbook', 'last_update': '2022-02-03T01:27:13Z', 'markets': [{'key': 'spreads', 'outcomes': [{'name': 'Cleveland Cavaliers', 'price': -112, 'point': -7.0}, {'name': 'Houston Rockets', 'price': -114, 'point': 7.0}]}]}, {'key': 'unibet', 'title': 'Unibet', 'last_update': '2022-02-03T01:27:28Z', 'markets': [{'key': 'spreads', 'outcomes': [{'name': 'Cleveland Cavaliers', 'price': -114, 'point': -7.5}, {'name': 'Houston Rockets', 'price': -111, 'point': 7.5}]}]}, {'key': 'twinspires', 'title': 'TwinSpires', 'last_update': '2022-02-03T01:27:32Z', 'markets': [{'key': 'spreads', 'outcomes': [{'name': 'Cleveland Cavaliers', 'price': -114, 'point': -7.5}, {'name': 'Houston Rockets', 'price': -112, 'point': 7.5}]}]}, {'key': 'pointsbetus', 'title': 'PointsBet (US)', 'last_update': '2022-02-03T01:27:31Z', 'markets': [{'key': 'spreads', 'outcomes': [{'name': 'Cleveland Cavaliers', 'price': -110, 'point': -7.0}, {'name': 'Houston Rockets', 'price': -110, 'point': 7.0}]}]}, {'key': 'lowvig', 'title': 'LowVig.ag', 'last_update': '2022-02-03T01:14:05Z', 'markets': [{'key': 'spreads', 'outcomes': [{'name': 'Cleveland Cavaliers', 'price': -105, 'point': -5.0}, {'name': 'Houston Rockets', 'price': -105, 'point': 5.0}]}]}, {'key': 'betonlineag', 'title': 'BetOnline.ag', 'last_update': '2022-02-03T01:13:24Z', 'markets': [{'key': 'spreads', 'outcomes': [{'name': 'Cleveland Cavaliers', 'price': -111, 'point': -5.0}, {'name': 'Houston Rockets', 'price': -111, 'point': 5.0}]}]}, {'key': 'gtbets', 'title': 'GTbets', 'last_update': '2022-02-03T01:27:32Z', 'markets': [{'key': 'spreads', 'outcomes': [{'name': 'Cleveland Cavaliers', 'price': -118, 'point': -6.5}, {'name': 'Houston Rockets', 'price': -108, 'point': 6.5}]}]}, {'key': 'betus', 'title': 'BetUS', 'last_update': '2022-02-03T01:13:23Z', 'markets': [{'key': 'spreads', 'outcomes': [{'name': 'Cleveland Cavaliers', 'price': -110, 'point': -5.0}, {'name': 'Houston Rockets', 'price': -110, 'point': 5.0}]}]}, {'key': 'bovada', 'title': 'Bovada', 'last_update': '2022-02-03T01:27:03Z', 'markets': [{'key': 'spreads', 'outcomes': [{'name': 'Cleveland Cavaliers', 'price': -110, 'point': -7.5}, {'name': 'Houston Rockets', 'price': -120, 'point': 7.5}]}]}, {'key': 'mybookieag', 'title': 'MyBookie.ag', 'last_update': '2022-02-03T01:27:05Z', 'markets': [{'key': 'spreads', 'outcomes': [{'name': 'Cleveland Cavaliers', 'price': -110, 'point': -4.5}, {'name': 'Houston Rockets', 'price': -110, 'point': 4.5}]}]}]}, {'id': '6dd4535753bae8632f5da7aee6ce8a83', 'sport_key': 'basketball_nba', 'sport_title': 'NBA', 'commence_time': '2022-02-03T01:40:00Z', 'home_team': 'Dallas Mavericks', 'away_team': 'Oklahoma City Thunder', 'bookmakers': [{'key': 'draftkings', 'title': 'DraftKings', 'last_update': '2022-02-03T01:27:31Z', 'markets': [{'key': 'spreads', 'outcomes': [{'name': 'Dallas Mavericks', 'price': -110, 'point': -12.5}, {'name': 'Oklahoma City Thunder', 'price': -110, 'point': 12.5}]}]}, {'key': 'fanduel', 'title': 'FanDuel', 'last_update': '2022-02-03T01:27:17Z', 'markets': [{'key': 'spreads', 'outcomes': [{'name': 'Dallas Mavericks', 'price': -110, 'point': -12.0}, {'name': 'Oklahoma City Thunder', 'price': -110, 'point': 12.0}]}]}, {'key': 'betmgm', 'title': 'BetMGM', 'last_update': '2022-02-03T01:27:33Z', 'markets': [{'key': 'spreads', 'outcomes': [{'name': 'Dallas Mavericks', 'price': -110, 'point': -12.5}, {'name': 'Oklahoma City Thunder', 'price': -110, 'point': 12.5}]}]}, {'key': 'foxbet', 'title': 'FOX Bet', 'last_update': '2022-02-03T01:26:52Z', 'markets': [{'key': 'spreads', 'outcomes': [{'name': 'Dallas Mavericks', 'price': -110, 'point': -12.0}, {'name': 'Oklahoma City Thunder', 'price': -110, 'point': 12.0}]}]}, {'key': 'sugarhouse', 'title': 'SugarHouse', 'last_update': '2022-02-03T01:27:31Z', 'markets': [{'key': 'spreads', 'outcomes': [{'name': 'Dallas Mavericks', 'price': -112, 'point': -12.0}, {'name': 'Oklahoma City Thunder', 'price': -110, 'point': 12.0}]}]}, {'key': 'barstool', 'title': 'Barstool Sportsbook', 'last_update': '2022-02-03T01:27:13Z', 'markets': [{'key': 'spreads', 'outcomes': [{'name': 'Dallas Mavericks', 'price': -112, 'point': -12.0}, {'name': 'Oklahoma City Thunder', 'price': -110, 'point': 12.0}]}]}, {'key': 'unibet', 'title': 'Unibet', 'last_update': '2022-02-03T01:27:28Z', 'markets': [{'key': 'spreads', 'outcomes': [{'name': 'Dallas Mavericks', 'price': -111, 'point': -12.0}, {'name': 'Oklahoma City Thunder', 'price': -110, 'point': 12.0}]}]}, {'key': 'twinspires', 'title': 'TwinSpires', 'last_update': '2022-02-03T01:27:32Z', 'markets': [{'key': 'spreads', 'outcomes': [{'name': 'Dallas Mavericks', 'price': -112, 'point': -12.0}, {'name': 'Oklahoma City Thunder', 'price': -110, 'point': 12.0}]}]}, {'key': 'betrivers', 'title': 'BetRivers', 'last_update': '2022-02-03T01:27:11Z', 'markets': [{'key': 'spreads', 'outcomes': [{'name': 'Dallas Mavericks', 'price': -112, 'point': -12.0}, {'name': 'Oklahoma City Thunder', 'price': -110, 'point': 12.0}]}]}, {'key': 'pointsbetus', 'title': 'PointsBet (US)', 'last_update': '2022-02-03T01:27:31Z', 'markets': [{'key': 'spreads', 'outcomes': [{'name': 'Dallas Mavericks', 'price': -110, 'point': -12.0}, {'name': 'Oklahoma City Thunder', 'price': -110, 'point': 12.0}]}]}, {'key': 'betonlineag', 'title': 'BetOnline.ag', 'last_update': '2022-02-03T01:27:30Z', 'markets': [{'key': 'spreads', 'outcomes': [{'name': 'Dallas Mavericks', 'price': -111, 'point': -12.0}, {'name': 'Oklahoma City Thunder', 'price': -111, 'point': 12.0}]}]}, {'key': 'williamhill_us', 'title': 'William Hill (US)', 'last_update': '2022-02-03T01:27:20Z', 'markets': [{'key': 'spreads', 'outcomes': [{'name': 'Dallas Mavericks', 'price': -110, 'point': -12.0}, {'name': 'Oklahoma City Thunder', 'price': -110, 'point': 12.0}]}]}, {'key': 'lowvig', 'title': 'LowVig.ag', 'last_update': '2022-02-03T01:27:34Z', 'markets': [{'key': 'spreads', 'outcomes': [{'name': 'Dallas Mavericks', 'price': -105, 'point': -12.0}, {'name': 'Oklahoma City Thunder', 'price': -105, 'point': 12.0}]}]}, {'key': 'gtbets', 'title': 'GTbets', 'last_update': '2022-02-03T01:27:32Z', 'markets': [{'key': 'spreads', 'outcomes': [{'name': 'Dallas Mavericks', 'price': -109, 'point': -12.0}, {'name': 'Oklahoma City Thunder', 'price': -109, 'point': 12.0}]}]}, {'key': 'betus', 'title': 'BetUS', 'last_update': '2022-02-03T01:27:07Z', 'markets': [{'key': 'spreads', 'outcomes': [{'name': 'Dallas Mavericks', 'price': -110, 'point': -12.0}, {'name': 'Oklahoma City Thunder', 'price': -110, 'point': 12.0}]}]}, {'key': 'bovada', 'title': 'Bovada', 'last_update': '2022-02-03T01:27:03Z', 'markets': [{'key': 'spreads', 'outcomes': [{'name': 'Dallas Mavericks', 'price': -110, 'point': -12.5}, {'name': 'Oklahoma City Thunder', 'price': -110, 'point': 12.5}]}]}, {'key': 'mybookieag', 'title': 'MyBookie.ag', 'last_update': '2022-02-03T01:27:05Z', 'markets': [{'key': 'spreads', 'outcomes': [{'name': 'Dallas Mavericks', 'price': -110, 'point': -12.0}, {'name': 'Oklahoma City Thunder', 'price': -110, 'point': 12.0}]}]}]}, {'id': '178e2097ce33e1e069bdf35700adcf20', 'sport_key': 'basketball_nba', 'sport_title': 'NBA', 'commence_time': '2022-02-03T03:10:00Z', 'home_team': 'Sacramento Kings', 'away_team': 'Brooklyn Nets', 'bookmakers': [{'key': 'fanduel', 'title': 'FanDuel', 'last_update': '2022-02-03T01:27:17Z', 'markets': [{'key': 'spreads', 'outcomes': [{'name': 'Brooklyn Nets', 'price': -110, 'point': -5.0}, {'name': 'Sacramento Kings', 'price': -110, 'point': 5.0}]}]}, {'key': 'betmgm', 'title': 'BetMGM', 'last_update': '2022-02-03T01:27:33Z', 'markets': [{'key': 'spreads', 'outcomes': [{'name': 'Brooklyn Nets', 'price': -110, 'point': -4.5}, {'name': 'Sacramento Kings', 'price': -110, 'point': 4.5}]}]}, {'key': 'draftkings', 'title': 'DraftKings', 'last_update': '2022-02-03T01:27:31Z', 'markets': [{'key': 'spreads', 'outcomes': [{'name': 'Brooklyn Nets', 'price': -110, 'point': -5.0}, {'name': 'Sacramento Kings', 'price': -110, 'point': 5.0}]}]}, {'key': 'sugarhouse', 'title': 'SugarHouse', 'last_update': '2022-02-03T01:27:31Z', 'markets': [{'key': 'spreads', 'outcomes': [{'name': 'Brooklyn Nets', 'price': -113, 'point': -5.0}, {'name': 'Sacramento Kings', 'price': -108, 'point': 5.0}]}]}, {'key': 'barstool', 'title': 'Barstool Sportsbook', 'last_update': '2022-02-03T01:27:13Z', 'markets': [{'key': 'spreads', 'outcomes': [{'name': 'Brooklyn Nets', 'price': -113, 'point': -5.0}, {'name': 'Sacramento Kings', 'price': -108, 'point': 5.0}]}]}, {'key': 'unibet', 'title': 'Unibet', 'last_update': '2022-02-03T01:27:28Z', 'markets': [{'key': 'spreads', 'outcomes': [{'name': 'Brooklyn Nets', 'price': -112, 'point': -5.0}, {'name': 'Sacramento Kings', 'price': -108, 'point': 5.0}]}]}, {'key': 'twinspires', 'title': 'TwinSpires', 'last_update': '2022-02-03T01:27:32Z', 'markets': [{'key': 'spreads', 'outcomes': [{'name': 'Brooklyn Nets', 'price': -113, 'point': -5.0}, {'name': 'Sacramento Kings', 'price': -108, 'point': 5.0}]}]}, {'key': 'foxbet', 'title': 'FOX Bet', 'last_update': '2022-02-03T01:26:52Z', 'markets': [{'key': 'spreads', 'outcomes': [{'name': 'Brooklyn Nets', 'price': -110, 'point': -5.0}, {'name': 'Sacramento Kings', 'price': -110, 'point': 5.0}]}]}, {'key': 'pointsbetus', 'title': 'PointsBet (US)', 'last_update': '2022-02-03T01:27:31Z', 'markets': [{'key': 'spreads', 'outcomes': [{'name': 'Brooklyn Nets', 'price': -105, 'point': -5.0}, {'name': 'Sacramento Kings', 'price': -115, 'point': 5.0}]}]}, {'key': 'betrivers', 'title': 'BetRivers', 'last_update': '2022-02-03T01:27:11Z', 'markets': [{'key': 'spreads', 'outcomes': [{'name': 'Brooklyn Nets', 'price': -113, 'point': -5.0}, {'name': 'Sacramento Kings', 'price': -108, 'point': 5.0}]}]}, {'key': 'williamhill_us', 'title': 'William Hill (US)', 'last_update': '2022-02-03T01:27:20Z', 'markets': [{'key': 'spreads', 'outcomes': [{'name': 'Brooklyn Nets', 'price': -110, 'point': -4.5}, {'name': 'Sacramento Kings', 'price': -110, 'point': 4.5}]}]}, {'key': 'lowvig', 'title': 'LowVig.ag', 'last_update': '2022-02-03T01:27:34Z', 'markets': [{'key': 'spreads', 'outcomes': [{'name': 'Brooklyn Nets', 'price': -105, 'point': -5.0}, {'name': 'Sacramento Kings', 'price': -105, 'point': 5.0}]}]}, {'key': 'betonlineag', 'title': 'BetOnline.ag', 'last_update': '2022-02-03T01:27:30Z', 'markets': [{'key': 'spreads', 'outcomes': [{'name': 'Brooklyn Nets', 'price': -111, 'point': -5.0}, {'name': 'Sacramento Kings', 'price': -111, 'point': 5.0}]}]}, {'key': 'gtbets', 'title': 'GTbets', 'last_update': '2022-02-03T01:27:32Z', 'markets': [{'key': 'spreads', 'outcomes': [{'name': 'Brooklyn Nets', 'price': -109, 'point': -4.5}, {'name': 'Sacramento Kings', 'price': -109, 'point': 4.5}]}]}, {'key': 'betus', 'title': 'BetUS', 'last_update': '2022-02-03T01:27:07Z', 'markets': [{'key': 'spreads', 'outcomes': [{'name': 'Brooklyn Nets', 'price': -110, 'point': -5.0}, {'name': 'Sacramento Kings', 'price': -110, 'point': 5.0}]}]}, {'key': 'bovada', 'title': 'Bovada', 'last_update': '2022-02-03T01:27:03Z', 'markets': [{'key': 'spreads', 'outcomes': [{'name': 'Brooklyn Nets', 'price': -105, 'point': -5.0}, {'name': 'Sacramento Kings', 'price': -115, 'point': 5.0}]}]}, {'key': 'mybookieag', 'title': 'MyBookie.ag', 'last_update': '2022-02-03T01:27:05Z', 'markets': [{'key': 'spreads', 'outcomes': [{'name': 'Brooklyn Nets', 'price': -115, 'point': -4.5}, {'name': 'Sacramento Kings', 'price': -105, 'point': 4.5}]}]}]}, {'id': 'a1103869abc4b2693d23627e8ca3ee5c', 'sport_key': 'basketball_nba', 'sport_title': 'NBA', 'commence_time': '2022-02-03T03:10:00Z', 'home_team': 'Utah Jazz', 'away_team': 'Denver Nuggets', 'bookmakers': [{'key': 'fanduel', 'title': 'FanDuel', 'last_update': '2022-02-03T01:27:17Z', 'markets': [{'key': 'spreads', 'outcomes': [{'name': 'Denver Nuggets', 'price': -110, 'point': 3.5}, {'name': 'Utah Jazz', 'price': -110, 'point': -3.5}]}]}, {'key': 'betmgm', 'title': 'BetMGM', 'last_update': '2022-02-03T01:27:33Z', 'markets': [{'key': 'spreads', 'outcomes': [{'name': 'Denver Nuggets', 'price': -110, 'point': 3.5}, {'name': 'Utah Jazz', 'price': -110, 'point': -3.5}]}]}, {'key': 'draftkings', 'title': 'DraftKings', 'last_update': '2022-02-03T01:27:31Z', 'markets': [{'key': 'spreads', 'outcomes': [{'name': 'Denver Nuggets', 'price': -105, 'point': 3.0}, {'name': 'Utah Jazz', 'price': -115, 'point': -3.0}]}]}, {'key': 'twinspires', 'title': 'TwinSpires', 'last_update': '2022-02-03T01:27:32Z', 'markets': [{'key': 'spreads', 'outcomes': [{'name': 'Denver Nuggets', 'price': -109, 'point': 3.5}, {'name': 'Utah Jazz', 'price': -112, 'point': -3.5}]}]}, {'key': 'barstool', 'title': 'Barstool Sportsbook', 'last_update': '2022-02-03T01:27:13Z', 'markets': [{'key': 'spreads', 'outcomes': [{'name': 'Denver Nuggets', 'price': -109, 'point': 3.5}, {'name': 'Utah Jazz', 'price': -112, 'point': -3.5}]}]}, {'key': 'sugarhouse', 'title': 'SugarHouse', 'last_update': '2022-02-03T01:27:31Z', 'markets': [{'key': 'spreads', 'outcomes': [{'name': 'Denver Nuggets', 'price': -109, 'point': 3.5}, {'name': 'Utah Jazz', 'price': -112, 'point': -3.5}]}]}, {'key': 'unibet', 'title': 'Unibet', 'last_update': '2022-02-03T01:27:28Z', 'markets': [{'key': 'spreads', 'outcomes': [{'name': 'Denver Nuggets', 'price': -109, 'point': 3.5}, {'name': 'Utah Jazz', 'price': -111, 'point': -3.5}]}]}, {'key': 'foxbet', 'title': 'FOX Bet', 'last_update': '2022-02-03T01:23:25Z', 'markets': [{'key': 'spreads', 'outcomes': [{'name': 'Denver Nuggets', 'price': -118, 'point': 4.0}, {'name': 'Utah Jazz', 'price': 100, 'point': -4.0}]}]}, {'key': 'pointsbetus', 'title': 'PointsBet (US)', 'last_update': '2022-02-03T01:27:31Z', 'markets': [{'key': 'spreads', 'outcomes': [{'name': 'Denver Nuggets', 'price': -110, 'point': 3.0}, {'name': 'Utah Jazz', 'price': -110, 'point': -3.0}]}]}, {'key': 'betrivers', 'title': 'BetRivers', 'last_update': '2022-02-03T01:27:11Z', 'markets': [{'key': 'spreads', 'outcomes': [{'name': 'Denver Nuggets', 'price': -109, 'point': 3.5}, {'name': 'Utah Jazz', 'price': -112, 'point': -3.5}]}]}, {'key': 'betonlineag', 'title': 'BetOnline.ag', 'last_update': '2022-02-03T01:27:30Z', 'markets': [{'key': 'spreads', 'outcomes': [{'name': 'Denver Nuggets', 'price': -115, 'point': 3.5}, {'name': 'Utah Jazz', 'price': -105, 'point': -3.5}]}]}, {'key': 'williamhill_us', 'title': 'William Hill (US)', 'last_update': '2022-02-03T01:27:20Z', 'markets': [{'key': 'spreads', 'outcomes': [{'name': 'Denver Nuggets', 'price': -110, 'point': 3.5}, {'name': 'Utah Jazz', 'price': -110, 'point': -3.5}]}]}, {'key': 'lowvig', 'title': 'LowVig.ag', 'last_update': '2022-02-03T01:27:34Z', 'markets': [{'key': 'spreads', 'outcomes': [{'name': 'Denver Nuggets', 'price': -110, 'point': 3.5}, {'name': 'Utah Jazz', 'price': 100, 'point': -3.5}]}]}, {'key': 'gtbets', 'title': 'GTbets', 'last_update': '2022-02-03T01:27:32Z', 'markets': [{'key': 'spreads', 'outcomes': [{'name': 'Denver Nuggets', 'price': -109, 'point': 3.5}, {'name': 'Utah Jazz', 'price': -109, 'point': -3.5}]}]}, {'key': 'betus', 'title': 'BetUS', 'last_update': '2022-02-03T01:27:07Z', 'markets': [{'key': 'spreads', 'outcomes': [{'name': 'Denver Nuggets', 'price': -110, 'point': 3.5}, {'name': 'Utah Jazz', 'price': -110, 'point': -3.5}]}]}, {'key': 'bovada', 'title': 'Bovada', 'last_update': '2022-02-03T01:27:03Z', 'markets': [{'key': 'spreads', 'outcomes': [{'name': 'Denver Nuggets', 'price': -110, 'point': 3.5}, {'name': 'Utah Jazz', 'price': -110, 'point': -3.5}]}]}, {'key': 'mybookieag', 'title': 'MyBookie.ag', 'last_update': '2022-02-03T01:27:05Z', 'markets': [{'key': 'spreads', 'outcomes': [{'name': 'Denver Nuggets', 'price': -110, 'point': 3.5}, {'name': 'Utah Jazz', 'price': -110, 'point': -3.5}]}]}]}, {'id': 'f925040f3ca516f2ff8bc63167ecb6e8', 'sport_key': 'basketball_nba', 'sport_title': 'NBA', 'commence_time': '2022-02-03T03:40:00Z', 'home_team': 'Los Angeles Lakers', 'away_team': 'Portland Trail Blazers', 'bookmakers': [{'key': 'draftkings', 'title': 'DraftKings', 'last_update': '2022-02-03T01:27:31Z', 'markets': [{'key': 'spreads', 'outcomes': [{'name': 'Los Angeles Lakers', 'price': -110, 'point': -4.0}, {'name': 'Portland Trail Blazers', 'price': -110, 'point': 4.0}]}]}, {'key': 'williamhill_us', 'title': 'William Hill (US)', 'last_update': '2022-02-03T01:27:20Z', 'markets': [{'key': 'spreads', 'outcomes': [{'name': 'Los Angeles Lakers', 'price': -110, 'point': -4.0}, {'name': 'Portland Trail Blazers', 'price': -110, 'point': 4.0}]}]}, {'key': 'fanduel', 'title': 'FanDuel', 'last_update': '2022-02-03T01:27:17Z', 'markets': [{'key': 'spreads', 'outcomes': [{'name': 'Los Angeles Lakers', 'price': -110, 'point': -4.0}, {'name': 'Portland Trail Blazers', 'price': -110, 'point': 4.0}]}]}, {'key': 'betonlineag', 'title': 'BetOnline.ag', 'last_update': '2022-02-03T01:27:30Z', 'markets': [{'key': 'spreads', 'outcomes': [{'name': 'Los Angeles Lakers', 'price': -114, 'point': -4.0}, {'name': 'Portland Trail Blazers', 'price': -108, 'point': 4.0}]}]}, {'key': 'lowvig', 'title': 'LowVig.ag', 'last_update': '2022-02-03T01:27:34Z', 'markets': [{'key': 'spreads', 'outcomes': [{'name': 'Los Angeles Lakers', 'price': -108, 'point': -4.0}, {'name': 'Portland Trail Blazers', 'price': -102, 'point': 4.0}]}]}, {'key': 'foxbet', 'title': 'FOX Bet', 'last_update': '2022-02-03T01:26:52Z', 'markets': [{'key': 'spreads', 'outcomes': [{'name': 'Los Angeles Lakers', 'price': -110, 'point': -4.0}, {'name': 'Portland Trail Blazers', 'price': -110, 'point': 4.0}]}]}, {'key': 'pointsbetus', 'title': 'PointsBet (US)', 'last_update': '2022-02-03T01:27:31Z', 'markets': [{'key': 'spreads', 'outcomes': [{'name': 'Los Angeles Lakers', 'price': -105, 'point': -4.0}, {'name': 'Portland Trail Blazers', 'price': -115, 'point': 4.0}]}]}, {'key': 'twinspires', 'title': 'TwinSpires', 'last_update': '2022-02-03T01:27:32Z', 'markets': [{'key': 'spreads', 'outcomes': [{'name': 'Los Angeles Lakers', 'price': -112, 'point': -4.0}, {'name': 'Portland Trail Blazers', 'price': -109, 'point': 4.0}]}]}, {'key': 'barstool', 'title': 'Barstool Sportsbook', 'last_update': '2022-02-03T01:27:13Z', 'markets': [{'key': 'spreads', 'outcomes': [{'name': 'Los Angeles Lakers', 'price': -112, 'point': -4.0}, {'name': 'Portland Trail Blazers', 'price': -109, 'point': 4.0}]}]}, {'key': 'sugarhouse', 'title': 'SugarHouse', 'last_update': '2022-02-03T01:27:31Z', 'markets': [{'key': 'spreads', 'outcomes': [{'name': 'Los Angeles Lakers', 'price': -112, 'point': -4.0}, {'name': 'Portland Trail Blazers', 'price': -109, 'point': 4.0}]}]}, {'key': 'unibet', 'title': 'Unibet', 'last_update': '2022-02-03T01:27:28Z', 'markets': [{'key': 'spreads', 'outcomes': [{'name': 'Los Angeles Lakers', 'price': -111, 'point': -4.0}, {'name': 'Portland Trail Blazers', 'price': -109, 'point': 4.0}]}]}, {'key': 'betrivers', 'title': 'BetRivers', 'last_update': '2022-02-03T01:27:11Z', 'markets': [{'key': 'spreads', 'outcomes': [{'name': 'Los Angeles Lakers', 'price': -112, 'point': -4.0}, {'name': 'Portland Trail Blazers', 'price': -109, 'point': 4.0}]}]}, {'key': 'mybookieag', 'title': 'MyBookie.ag', 'last_update': '2022-02-03T01:27:05Z', 'markets': [{'key': 'spreads', 'outcomes': [{'name': 'Los Angeles Lakers', 'price': -115, 'point': -4.0}, {'name': 'Portland Trail Blazers', 'price': -105, 'point': 4.0}]}]}, {'key': 'gtbets', 'title': 'GTbets', 'last_update': '2022-02-03T01:27:32Z', 'markets': [{'key': 'spreads', 'outcomes': [{'name': 'Los Angeles Lakers', 'price': -109, 'point': -4.0}, {'name': 'Portland Trail Blazers', 'price': -109, 'point': 4.0}]}]}, {'key': 'bovada', 'title': 'Bovada', 'last_update': '2022-02-03T01:27:03Z', 'markets': [{'key': 'spreads', 'outcomes': [{'name': 'Los Angeles Lakers', 'price': -115, 'point': -4.0}, {'name': 'Portland Trail Blazers', 'price': -105, 'point': 4.0}]}]}, {'key': 'betus', 'title': 'BetUS', 'last_update': '2022-02-03T01:27:07Z', 'markets': [{'key': 'spreads', 'outcomes': [{'name': 'Los Angeles Lakers', 'price': -110, 'point': -4.0}, {'name': 'Portland Trail Blazers', 'price': -110, 'point': 4.0}]}]}]}]\n",
      "Remaining requests 498\n",
      "Used requests 2\n"
     ]
    }
   ],
   "source": [
    "# An api key is emailed to you when you sign up to a plan\n",
    "# Get a free API key at https://api.the-odds-api.com/\n",
    "#API_KEY = 'YOUR_API_KEY'\n",
    "\n",
    "SPORT = 'basketball_nba' # use the sport_key from the /sports endpoint below, or use 'upcoming' to see the next 8 games across all sports\n",
    "\n",
    "REGIONS = 'us' # uk | us | eu | au. Multiple can be specified if comma delimited\n",
    "\n",
    "MARKETS = 'spreads' # h2h | spreads | totals. Multiple can be specified if comma delimited\n",
    "\n",
    "ODDS_FORMAT = 'american' # decimal | american\n",
    "\n",
    "DATE_FORMAT = 'iso' # iso | unix\n",
    "\n",
    "# # # # # # # # # # # # # # # # # # # # # # # # # # # # # # # # # # # # \n",
    "#\n",
    "# First get a list of in-season sports\n",
    "#   The sport 'key' from the response can be used to get odds in the next request\n",
    "#\n",
    "# # # # # # # # # # # # # # # # # # # # # # # # # # # # # # # # # # # # \n",
    "\n",
    "sports_response = requests.get(\n",
    "    'https://api.the-odds-api.com/v4/sports', \n",
    "    params={\n",
    "        'api_key': sports_key\n",
    "    }\n",
    ")\n",
    "\n",
    "\n",
    "if sports_response.status_code != 200:\n",
    "    print(f'Failed to get sports: status_code {sports_response.status_code}, response body {sports_response.text}')\n",
    "\n",
    "else:\n",
    "    print('List of in season sports:', sports_response.json())\n",
    "\n",
    "\n",
    "\n",
    "# # # # # # # # # # # # # # # # # # # # # # # # # # # # # # # # # # # # \n",
    "#\n",
    "# Now get a list of live & upcoming games for the sport you want, along with odds for different bookmakers\n",
    "# This will deduct from the usage quota\n",
    "# The usage quota cost = [number of markets specified] x [number of regions specified]\n",
    "# For examples of usage quota costs, see https://the-odds-api.com/liveapi/guides/v4/#usage-quota-costs\n",
    "#\n",
    "# # # # # # # # # # # # # # # # # # # # # # # # # # # # # # # # # # # # \n",
    "\n",
    "odds_response = requests.get(\n",
    "    f'https://api.the-odds-api.com/v4/sports/{SPORT}/odds',\n",
    "    params={\n",
    "        'api_key': sports_key,\n",
    "        'regions': REGIONS,\n",
    "        'markets': MARKETS,\n",
    "        'oddsFormat': ODDS_FORMAT,\n",
    "        'dateFormat': DATE_FORMAT,\n",
    "    }\n",
    ")\n",
    "\n",
    "\n",
    "\n",
    "if odds_response.status_code != 200:\n",
    "    print(f'Failed to get odds: status_code {odds_response.status_code}, response body {odds_response.text}')\n",
    "\n",
    "else:\n",
    "    odds_json = odds_response.json()\n",
    "    print('Number of events:', len(odds_json))\n",
    "    print(odds_json)\n",
    "\n",
    "    # Check the usage quota\n",
    "    print('Remaining requests', odds_response.headers['x-requests-remaining'])\n",
    "    print('Used requests', odds_response.headers['x-requests-used'])\n"
   ]
  },
  {
   "cell_type": "code",
   "execution_count": 86,
   "id": "67e8bf63",
   "metadata": {
    "scrolled": true
   },
   "outputs": [
    {
     "name": "stdout",
     "output_type": "stream",
     "text": [
      "-113\n",
      "7.5\n"
     ]
    }
   ],
   "source": [
    "print(odds_json[1][\"bookmakers\"][0][\"markets\"][0][\"outcomes\"][1][\"price\"])\n",
    "print(odds_json[1][\"bookmakers\"][0][\"markets\"][0][\"outcomes\"][1][\"point\"])"
   ]
  },
  {
   "cell_type": "code",
   "execution_count": 90,
   "id": "b6f674ca",
   "metadata": {},
   "outputs": [
    {
     "name": "stdout",
     "output_type": "stream",
     "text": [
      "Indiana Pacers 10.5\n",
      "----------------------\n",
      "Orlando Magic\n",
      "                      \n",
      "Philadelphia 76ers 6.5\n",
      "----------------------\n",
      "Washington Wizards\n",
      "                      \n",
      "Boston Celtics 3.5\n",
      "----------------------\n",
      "Charlotte Hornets\n",
      "                      \n",
      "New York Knicks 0.0\n",
      "----------------------\n",
      "Memphis Grizzlies\n",
      "                      \n",
      "Houston Rockets 7.5\n",
      "----------------------\n",
      "Cleveland Cavaliers\n",
      "                      \n",
      "Dallas Mavericks 12.0\n",
      "----------------------\n",
      "Oklahoma City Thunder\n",
      "                      \n",
      "Sacramento Kings 5.0\n",
      "----------------------\n",
      "Brooklyn Nets\n",
      "                      \n",
      "Utah Jazz -4.0\n",
      "----------------------\n",
      "Denver Nuggets\n",
      "                      \n",
      "Los Angeles Lakers 4.0\n",
      "----------------------\n",
      "Portland Trail Blazers\n",
      "                      \n"
     ]
    }
   ],
   "source": [
    "# Create for loop to iterate through each basketball game.  We want home team, \n",
    "for x in range(len(odds_json)):\n",
    "    print(odds_json[x][\"home_team\"],odds_json[x][\"bookmakers\"][x][\"markets\"][0][\"outcomes\"][1][\"point\"])\n",
    "    print(\"----------------------\")\n",
    "    print(odds_json[x][\"away_team\"])\n",
    "    print(\"                      \")\n",
    "#     print(odds_json[x][\"bookmakers\"][x][\"title\"])\n",
    "    "
   ]
  },
  {
   "cell_type": "code",
   "execution_count": null,
   "id": "fa5df0b3",
   "metadata": {},
   "outputs": [],
   "source": []
  },
  {
   "cell_type": "code",
   "execution_count": null,
   "id": "1daa546b",
   "metadata": {},
   "outputs": [],
   "source": [
    "Home_Team=odds_json[0]['home_team']\n",
    "Away_Team=odds_json[0]['away_team']\n",
    "Bookmakers=odds_json[0]['bookmakers'][13][=\n",
    "Away_ML=Bookmakers=odds_json[0]['bookmakers'][13]['markets'][0]['outcomes'][0]['price']\n",
    "\n",
    "print(Home_Team)\n",
    "print(Away_Team)\n",
    "print(Bookmakers)\n",
    "print(Away_ML)"
   ]
  },
  {
   "cell_type": "code",
   "execution_count": null,
   "id": "5dc2ca5b",
   "metadata": {},
   "outputs": [],
   "source": [
    "Bookmakers"
   ]
  },
  {
   "cell_type": "code",
   "execution_count": null,
   "id": "e05b3cf4",
   "metadata": {},
   "outputs": [],
   "source": [
    "Spurs_DF=pd.DataFrame(SB_Operator)\n",
    "Spurs_DF.head()"
   ]
  },
  {
   "cell_type": "code",
   "execution_count": null,
   "id": "0125bbc3",
   "metadata": {
    "scrolled": true
   },
   "outputs": [],
   "source": [
    "sports_odds_df = pd.DataFrame(odds_json)\n",
    "sports_odds_df.head(10)"
   ]
  },
  {
   "cell_type": "code",
   "execution_count": null,
   "id": "7f843b41",
   "metadata": {},
   "outputs": [],
   "source": []
  },
  {
   "cell_type": "code",
   "execution_count": null,
   "id": "94b1d983",
   "metadata": {},
   "outputs": [],
   "source": [
    "# Create the output file (CSV).\n",
    "output_data_file = \"SportsBook_Data.csv\"\n",
    "# Export the City_Data into a CSV.\n",
    "sports_odds_df.to_csv(output_data_file, index_label=\"id\")"
   ]
  },
  {
   "cell_type": "code",
   "execution_count": null,
   "id": "8ea3cfb3",
   "metadata": {},
   "outputs": [],
   "source": []
  }
 ],
 "metadata": {
  "kernelspec": {
   "display_name": "PythonData",
   "language": "python",
   "name": "pythondata"
  },
  "language_info": {
   "codemirror_mode": {
    "name": "ipython",
    "version": 3
   },
   "file_extension": ".py",
   "mimetype": "text/x-python",
   "name": "python",
   "nbconvert_exporter": "python",
   "pygments_lexer": "ipython3",
   "version": "3.8.8"
  }
 },
 "nbformat": 4,
 "nbformat_minor": 5
}
