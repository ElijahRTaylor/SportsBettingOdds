{
 "cells": [
  {
   "cell_type": "code",
   "execution_count": 1,
   "id": "968ed89d",
   "metadata": {},
   "outputs": [],
   "source": [
    "import requests\n",
    "import json\n",
    "import pandas as pd\n",
    "\n",
    "from config import sports_key \n"
   ]
  },
  {
   "cell_type": "code",
   "execution_count": 2,
   "id": "2e8fa90a",
   "metadata": {
    "scrolled": false
   },
   "outputs": [
    {
     "name": "stdout",
     "output_type": "stream",
     "text": [
      "List of in season sports: [{'key': 'americanfootball_nfl_super_bowl_winner', 'group': 'American Football', 'title': 'NFL Super Bowl Winner', 'description': 'Super Bowl Winner 2022/2023', 'active': True, 'has_outrights': True}, {'key': 'aussierules_afl', 'group': 'Aussie Rules', 'title': 'AFL', 'description': 'Aussie Football', 'active': True, 'has_outrights': False}, {'key': 'baseball_mlb_world_series_winner', 'group': 'Baseball', 'title': 'MLB World Series Winner', 'description': 'World Series Winner 2022', 'active': True, 'has_outrights': True}, {'key': 'basketball_euroleague', 'group': 'Basketball', 'title': 'Basketball Euroleague', 'description': 'Basketball Euroleague', 'active': True, 'has_outrights': False}, {'key': 'basketball_nba', 'group': 'Basketball', 'title': 'NBA', 'description': 'US Basketball', 'active': True, 'has_outrights': False}, {'key': 'basketball_nba_championship_winner', 'group': 'Basketball', 'title': 'NBA Championship Winner', 'description': 'Championship Winner 2021/2022', 'active': True, 'has_outrights': True}, {'key': 'basketball_ncaab', 'group': 'Basketball', 'title': 'NCAAB', 'description': 'US College Basketball', 'active': True, 'has_outrights': False}, {'key': 'cricket_test_match', 'group': 'Cricket', 'title': 'Test Matches', 'description': 'International Test Matches', 'active': True, 'has_outrights': False}, {'key': 'golf_masters_tournament_winner', 'group': 'Golf', 'title': 'Masters Tournament Winner', 'description': '2022 Winner', 'active': True, 'has_outrights': True}, {'key': 'golf_pga_championship_winner', 'group': 'Golf', 'title': 'PGA Championship Winner', 'description': '2022 Winner', 'active': True, 'has_outrights': True}, {'key': 'golf_the_open_championship_winner', 'group': 'Golf', 'title': 'The Open Winner', 'description': '2022 Winner', 'active': True, 'has_outrights': True}, {'key': 'golf_us_open_winner', 'group': 'Golf', 'title': 'US Open Winner', 'description': '2022 Winner', 'active': True, 'has_outrights': True}, {'key': 'icehockey_nhl', 'group': 'Ice Hockey', 'title': 'NHL', 'description': 'US Ice Hockey', 'active': True, 'has_outrights': False}, {'key': 'icehockey_nhl_championship_winner', 'group': 'Ice Hockey', 'title': 'NHL Championship Winner', 'description': 'Stanley Cup Winner 2021/2022', 'active': True, 'has_outrights': True}, {'key': 'icehockey_sweden_allsvenskan', 'group': 'Ice Hockey', 'title': 'HockeyAllsvenskan', 'description': 'Swedish Hockey Allsvenskan', 'active': True, 'has_outrights': False}, {'key': 'icehockey_sweden_hockey_league', 'group': 'Ice Hockey', 'title': 'SHL', 'description': 'Swedish Hockey League', 'active': True, 'has_outrights': False}, {'key': 'mma_mixed_martial_arts', 'group': 'Mixed Martial Arts', 'title': 'MMA', 'description': 'Mixed Martial Arts', 'active': True, 'has_outrights': False}, {'key': 'rugbyleague_nrl', 'group': 'Rugby League', 'title': 'NRL', 'description': 'Aussie Rugby League', 'active': True, 'has_outrights': False}, {'key': 'soccer_argentina_primera_division', 'group': 'Soccer', 'title': 'Primera División - Argentina', 'description': 'Argentine Primera División', 'active': True, 'has_outrights': False}, {'key': 'soccer_australia_aleague', 'group': 'Soccer', 'title': 'A-League', 'description': 'Aussie Soccer', 'active': True, 'has_outrights': False}, {'key': 'soccer_belgium_first_div', 'group': 'Soccer', 'title': 'Belgium First Div', 'description': 'Belgian First Division A', 'active': True, 'has_outrights': False}, {'key': 'soccer_brazil_campeonato', 'group': 'Soccer', 'title': 'Brazil Série A', 'description': 'Brasileirão Série A', 'active': True, 'has_outrights': False}, {'key': 'soccer_denmark_superliga', 'group': 'Soccer', 'title': 'Denmark Superliga', 'description': '', 'active': True, 'has_outrights': False}, {'key': 'soccer_efl_champ', 'group': 'Soccer', 'title': 'Championship', 'description': 'EFL Championship', 'active': True, 'has_outrights': False}, {'key': 'soccer_england_league1', 'group': 'Soccer', 'title': 'League 1', 'description': 'EFL League 1', 'active': True, 'has_outrights': False}, {'key': 'soccer_england_league2', 'group': 'Soccer', 'title': 'League 2', 'description': 'EFL League 2 ', 'active': True, 'has_outrights': False}, {'key': 'soccer_epl', 'group': 'Soccer', 'title': 'EPL', 'description': 'English Premier League', 'active': True, 'has_outrights': False}, {'key': 'soccer_fa_cup', 'group': 'Soccer', 'title': 'FA Cup', 'description': 'Football Association Challenge Cup', 'active': True, 'has_outrights': False}, {'key': 'soccer_france_ligue_one', 'group': 'Soccer', 'title': 'Ligue 1 - France', 'description': '', 'active': True, 'has_outrights': False}, {'key': 'soccer_france_ligue_two', 'group': 'Soccer', 'title': 'Ligue 2 - France', 'description': 'French Soccer', 'active': True, 'has_outrights': False}, {'key': 'soccer_germany_bundesliga', 'group': 'Soccer', 'title': 'Bundesliga - Germany', 'description': 'German Soccer', 'active': True, 'has_outrights': False}, {'key': 'soccer_germany_bundesliga2', 'group': 'Soccer', 'title': 'Bundesliga 2 - Germany', 'description': 'German Soccer', 'active': True, 'has_outrights': False}, {'key': 'soccer_italy_serie_a', 'group': 'Soccer', 'title': 'Serie A - Italy', 'description': 'Italian Soccer', 'active': True, 'has_outrights': False}, {'key': 'soccer_italy_serie_b', 'group': 'Soccer', 'title': 'Serie B - Italy', 'description': 'Italian Soccer', 'active': True, 'has_outrights': False}, {'key': 'soccer_japan_j_league', 'group': 'Soccer', 'title': 'J League', 'description': 'Japan Soccer League', 'active': True, 'has_outrights': False}, {'key': 'soccer_korea_kleague1', 'group': 'Soccer', 'title': 'K League 1', 'description': 'Korean Soccer', 'active': True, 'has_outrights': False}, {'key': 'soccer_league_of_ireland', 'group': 'Soccer', 'title': 'League of Ireland', 'description': 'Airtricity League Premier Division', 'active': True, 'has_outrights': False}, {'key': 'soccer_mexico_ligamx', 'group': 'Soccer', 'title': 'Liga MX', 'description': 'Mexican Soccer', 'active': True, 'has_outrights': False}, {'key': 'soccer_netherlands_eredivisie', 'group': 'Soccer', 'title': 'Dutch Eredivisie', 'description': 'Dutch Soccer', 'active': True, 'has_outrights': False}, {'key': 'soccer_norway_eliteserien', 'group': 'Soccer', 'title': 'Eliteserien - Norway', 'description': 'Norwegian Soccer', 'active': True, 'has_outrights': False}, {'key': 'soccer_portugal_primeira_liga', 'group': 'Soccer', 'title': 'Primeira Liga - Portugal', 'description': 'Portugese Soccer', 'active': True, 'has_outrights': False}, {'key': 'soccer_russia_premier_league', 'group': 'Soccer', 'title': 'Premier League - Russia', 'description': 'Russian Soccer', 'active': True, 'has_outrights': False}, {'key': 'soccer_spain_la_liga', 'group': 'Soccer', 'title': 'La Liga - Spain', 'description': 'Spanish Soccer', 'active': True, 'has_outrights': False}, {'key': 'soccer_spain_segunda_division', 'group': 'Soccer', 'title': 'La Liga 2 - Spain', 'description': 'Spanish Soccer', 'active': True, 'has_outrights': False}, {'key': 'soccer_spl', 'group': 'Soccer', 'title': 'Premiership - Scotland', 'description': 'Scottish Premiership', 'active': True, 'has_outrights': False}, {'key': 'soccer_sweden_allsvenskan', 'group': 'Soccer', 'title': 'Allsvenskan - Sweden', 'description': 'Swedish Soccer', 'active': True, 'has_outrights': False}, {'key': 'soccer_sweden_superettan', 'group': 'Soccer', 'title': 'Superettan - Sweden', 'description': 'Swedish Soccer', 'active': True, 'has_outrights': False}, {'key': 'soccer_switzerland_superleague', 'group': 'Soccer', 'title': 'Swiss Superleague', 'description': 'Swiss Soccer', 'active': True, 'has_outrights': False}, {'key': 'soccer_turkey_super_league', 'group': 'Soccer', 'title': 'Turkey Super League', 'description': 'Turkish Soccer', 'active': True, 'has_outrights': False}, {'key': 'soccer_uefa_champs_league', 'group': 'Soccer', 'title': 'UEFA Champions', 'description': 'European Champions League', 'active': True, 'has_outrights': False}, {'key': 'soccer_uefa_europa_league', 'group': 'Soccer', 'title': 'UEFA Europa', 'description': 'European Europa League', 'active': True, 'has_outrights': False}, {'key': 'soccer_usa_mls', 'group': 'Soccer', 'title': 'MLS', 'description': 'Major League Soccer', 'active': True, 'has_outrights': False}]\n"
     ]
    },
    {
     "name": "stdout",
     "output_type": "stream",
     "text": [
      "Number of events: 9\n",
      "[{'id': '48b0d6a9dc5b01bb24da28a5a7054048', 'sport_key': 'basketball_nba', 'sport_title': 'NBA', 'commence_time': '2022-03-02T03:15:44Z', 'home_team': 'Los Angeles Lakers', 'away_team': 'Dallas Mavericks', 'bookmakers': [{'key': 'fanduel', 'title': 'FanDuel', 'last_update': '2022-03-02T05:11:02Z', 'markets': [{'key': 'spreads', 'outcomes': [{'name': 'Dallas Mavericks', 'price': -102, 'point': 0.5}, {'name': 'Los Angeles Lakers', 'price': -125, 'point': -0.5}]}]}, {'key': 'foxbet', 'title': 'FOX Bet', 'last_update': '2022-03-02T05:10:47Z', 'markets': [{'key': 'spreads', 'outcomes': [{'name': 'Dallas Mavericks', 'price': -118, 'point': 2.5}, {'name': 'Los Angeles Lakers', 'price': -118, 'point': -2.5}]}]}, {'key': 'betmgm', 'title': 'BetMGM', 'last_update': '2022-03-02T05:10:49Z', 'markets': [{'key': 'spreads', 'outcomes': [{'name': 'Dallas Mavericks', 'price': 100, 'point': 1.5}, {'name': 'Los Angeles Lakers', 'price': -125, 'point': -1.5}]}]}, {'key': 'pointsbetus', 'title': 'PointsBet (US)', 'last_update': '2022-03-02T05:10:49Z', 'markets': [{'key': 'spreads', 'outcomes': [{'name': 'Dallas Mavericks', 'price': -110, 'point': 2.5}, {'name': 'Los Angeles Lakers', 'price': -110, 'point': -2.5}]}]}, {'key': 'unibet', 'title': 'Unibet', 'last_update': '2022-03-02T05:11:13Z', 'markets': [{'key': 'spreads', 'outcomes': [{'name': 'Dallas Mavericks', 'price': -115, 'point': 1.5}, {'name': 'Los Angeles Lakers', 'price': -110, 'point': -1.5}]}]}, {'key': 'barstool', 'title': 'Barstool Sportsbook', 'last_update': '2022-03-02T05:11:16Z', 'markets': [{'key': 'spreads', 'outcomes': [{'name': 'Dallas Mavericks', 'price': -115, 'point': 1.5}, {'name': 'Los Angeles Lakers', 'price': -110, 'point': -1.5}]}]}, {'key': 'sugarhouse', 'title': 'SugarHouse', 'last_update': '2022-03-02T05:11:16Z', 'markets': [{'key': 'spreads', 'outcomes': [{'name': 'Dallas Mavericks', 'price': -115, 'point': 1.5}, {'name': 'Los Angeles Lakers', 'price': -110, 'point': -1.5}]}]}, {'key': 'twinspires', 'title': 'TwinSpires', 'last_update': '2022-03-02T05:10:49Z', 'markets': [{'key': 'spreads', 'outcomes': [{'name': 'Dallas Mavericks', 'price': -112, 'point': 2.5}, {'name': 'Los Angeles Lakers', 'price': -114, 'point': -2.5}]}]}, {'key': 'gtbets', 'title': 'GTbets', 'last_update': '2022-03-02T05:10:48Z', 'markets': [{'key': 'spreads', 'outcomes': [{'name': 'Dallas Mavericks', 'price': -113, 'point': 2.5}, {'name': 'Los Angeles Lakers', 'price': -113, 'point': -2.5}]}]}, {'key': 'bovada', 'title': 'Bovada', 'last_update': '2022-03-02T05:10:48Z', 'markets': [{'key': 'spreads', 'outcomes': [{'name': 'Dallas Mavericks', 'price': 110, 'point': -1.5}, {'name': 'Los Angeles Lakers', 'price': -145, 'point': 1.5}]}]}, {'key': 'mybookieag', 'title': 'MyBookie.ag', 'last_update': '2022-03-02T05:11:19Z', 'markets': [{'key': 'spreads', 'outcomes': [{'name': 'Dallas Mavericks', 'price': -115, 'point': -4.5}, {'name': 'Los Angeles Lakers', 'price': -105, 'point': 4.5}]}]}]}, {'id': '8f78cedfc37fdb72bed73d513c416ded', 'sport_key': 'basketball_nba', 'sport_title': 'NBA', 'commence_time': '2022-03-03T00:10:00Z', 'home_team': 'Cleveland Cavaliers', 'away_team': 'Charlotte Hornets', 'bookmakers': [{'key': 'fanduel', 'title': 'FanDuel', 'last_update': '2022-03-02T05:11:02Z', 'markets': [{'key': 'spreads', 'outcomes': [{'name': 'Charlotte Hornets', 'price': -110, 'point': 3.5}, {'name': 'Cleveland Cavaliers', 'price': -110, 'point': -3.5}]}]}, {'key': 'draftkings', 'title': 'DraftKings', 'last_update': '2022-03-02T05:11:02Z', 'markets': [{'key': 'spreads', 'outcomes': [{'name': 'Charlotte Hornets', 'price': -110, 'point': 3.5}, {'name': 'Cleveland Cavaliers', 'price': -110, 'point': -3.5}]}]}, {'key': 'wynnbet', 'title': 'WynnBET', 'last_update': '2022-03-02T05:10:49Z', 'markets': [{'key': 'spreads', 'outcomes': [{'name': 'Charlotte Hornets', 'price': -110, 'point': 3.5}, {'name': 'Cleveland Cavaliers', 'price': -110, 'point': -3.5}]}]}, {'key': 'foxbet', 'title': 'FOX Bet', 'last_update': '2022-03-02T05:10:47Z', 'markets': [{'key': 'spreads', 'outcomes': [{'name': 'Charlotte Hornets', 'price': -110, 'point': 3.5}, {'name': 'Cleveland Cavaliers', 'price': -110, 'point': -3.5}]}]}, {'key': 'betmgm', 'title': 'BetMGM', 'last_update': '2022-03-02T05:10:49Z', 'markets': [{'key': 'spreads', 'outcomes': [{'name': 'Charlotte Hornets', 'price': -110, 'point': 3.5}, {'name': 'Cleveland Cavaliers', 'price': -110, 'point': -3.5}]}]}, {'key': 'betrivers', 'title': 'BetRivers', 'last_update': '2022-03-02T05:11:17Z', 'markets': [{'key': 'spreads', 'outcomes': [{'name': 'Charlotte Hornets', 'price': -109, 'point': 3.5}, {'name': 'Cleveland Cavaliers', 'price': -112, 'point': -3.5}]}]}, {'key': 'sugarhouse', 'title': 'SugarHouse', 'last_update': '2022-03-02T05:11:16Z', 'markets': [{'key': 'spreads', 'outcomes': [{'name': 'Charlotte Hornets', 'price': -109, 'point': 3.5}, {'name': 'Cleveland Cavaliers', 'price': -112, 'point': -3.5}]}]}, {'key': 'barstool', 'title': 'Barstool Sportsbook', 'last_update': '2022-03-02T05:11:16Z', 'markets': [{'key': 'spreads', 'outcomes': [{'name': 'Charlotte Hornets', 'price': -109, 'point': 3.5}, {'name': 'Cleveland Cavaliers', 'price': -112, 'point': -3.5}]}]}, {'key': 'twinspires', 'title': 'TwinSpires', 'last_update': '2022-03-02T05:10:49Z', 'markets': [{'key': 'spreads', 'outcomes': [{'name': 'Charlotte Hornets', 'price': -109, 'point': 3.5}, {'name': 'Cleveland Cavaliers', 'price': -112, 'point': -3.5}]}]}, {'key': 'unibet', 'title': 'Unibet', 'last_update': '2022-03-02T05:11:13Z', 'markets': [{'key': 'spreads', 'outcomes': [{'name': 'Charlotte Hornets', 'price': -109, 'point': 3.5}, {'name': 'Cleveland Cavaliers', 'price': -111, 'point': -3.5}]}]}]}, {'id': '4d57c0c3399116b3d6c6eb9284553d41', 'sport_key': 'basketball_nba', 'sport_title': 'NBA', 'commence_time': '2022-03-03T00:10:00Z', 'home_team': 'Orlando Magic', 'away_team': 'Indiana Pacers', 'bookmakers': [{'key': 'foxbet', 'title': 'FOX Bet', 'last_update': '2022-03-02T05:10:47Z', 'markets': [{'key': 'spreads', 'outcomes': [{'name': 'Indiana Pacers', 'price': 100, 'point': 1.5}, {'name': 'Orlando Magic', 'price': -118, 'point': -1.5}]}]}, {'key': 'pointsbetus', 'title': 'PointsBet (US)', 'last_update': '2022-03-02T05:10:49Z', 'markets': [{'key': 'spreads', 'outcomes': [{'name': 'Indiana Pacers', 'price': -110, 'point': 1.5}, {'name': 'Orlando Magic', 'price': -110, 'point': -1.5}]}]}, {'key': 'draftkings', 'title': 'DraftKings', 'last_update': '2022-03-02T05:11:02Z', 'markets': [{'key': 'spreads', 'outcomes': [{'name': 'Indiana Pacers', 'price': -110, 'point': 2.0}, {'name': 'Orlando Magic', 'price': -110, 'point': -2.0}]}]}, {'key': 'wynnbet', 'title': 'WynnBET', 'last_update': '2022-03-02T05:10:49Z', 'markets': [{'key': 'spreads', 'outcomes': [{'name': 'Indiana Pacers', 'price': -110, 'point': 2.5}, {'name': 'Orlando Magic', 'price': -110, 'point': -2.5}]}]}, {'key': 'fanduel', 'title': 'FanDuel', 'last_update': '2022-03-02T05:11:02Z', 'markets': [{'key': 'spreads', 'outcomes': [{'name': 'Indiana Pacers', 'price': -108, 'point': 1.5}, {'name': 'Orlando Magic', 'price': -112, 'point': -1.5}]}]}, {'key': 'betmgm', 'title': 'BetMGM', 'last_update': '2022-03-02T05:10:49Z', 'markets': [{'key': 'spreads', 'outcomes': [{'name': 'Indiana Pacers', 'price': -110, 'point': 1.5}, {'name': 'Orlando Magic', 'price': -110, 'point': -1.5}]}]}, {'key': 'barstool', 'title': 'Barstool Sportsbook', 'last_update': '2022-03-02T05:11:16Z', 'markets': [{'key': 'spreads', 'outcomes': [{'name': 'Indiana Pacers', 'price': -110, 'point': 1.5}, {'name': 'Orlando Magic', 'price': -112, 'point': -1.5}]}]}, {'key': 'twinspires', 'title': 'TwinSpires', 'last_update': '2022-03-02T05:10:49Z', 'markets': [{'key': 'spreads', 'outcomes': [{'name': 'Indiana Pacers', 'price': -110, 'point': 1.5}, {'name': 'Orlando Magic', 'price': -112, 'point': -1.5}]}]}, {'key': 'unibet', 'title': 'Unibet', 'last_update': '2022-03-02T05:11:13Z', 'markets': [{'key': 'spreads', 'outcomes': [{'name': 'Indiana Pacers', 'price': -110, 'point': 1.5}, {'name': 'Orlando Magic', 'price': -111, 'point': -1.5}]}]}, {'key': 'sugarhouse', 'title': 'SugarHouse', 'last_update': '2022-03-02T05:11:16Z', 'markets': [{'key': 'spreads', 'outcomes': [{'name': 'Indiana Pacers', 'price': -110, 'point': 1.5}, {'name': 'Orlando Magic', 'price': -112, 'point': -1.5}]}]}, {'key': 'betrivers', 'title': 'BetRivers', 'last_update': '2022-03-02T05:11:17Z', 'markets': [{'key': 'spreads', 'outcomes': [{'name': 'Indiana Pacers', 'price': -110, 'point': 1.5}, {'name': 'Orlando Magic', 'price': -112, 'point': -1.5}]}]}]}, {'id': '97c38f709001c9b3ac68c36bbef8c1eb', 'sport_key': 'basketball_nba', 'sport_title': 'NBA', 'commence_time': '2022-03-03T00:40:00Z', 'home_team': 'Philadelphia 76ers', 'away_team': 'New York Knicks', 'bookmakers': [{'key': 'fanduel', 'title': 'FanDuel', 'last_update': '2022-03-02T05:11:02Z', 'markets': [{'key': 'spreads', 'outcomes': [{'name': 'New York Knicks', 'price': -108, 'point': 10.5}, {'name': 'Philadelphia 76ers', 'price': -112, 'point': -10.5}]}]}, {'key': 'pointsbetus', 'title': 'PointsBet (US)', 'last_update': '2022-03-02T05:10:49Z', 'markets': [{'key': 'spreads', 'outcomes': [{'name': 'New York Knicks', 'price': -110, 'point': 10.5}, {'name': 'Philadelphia 76ers', 'price': -110, 'point': -10.5}]}]}, {'key': 'draftkings', 'title': 'DraftKings', 'last_update': '2022-03-02T05:11:02Z', 'markets': [{'key': 'spreads', 'outcomes': [{'name': 'New York Knicks', 'price': -110, 'point': 10.5}, {'name': 'Philadelphia 76ers', 'price': -110, 'point': -10.5}]}]}, {'key': 'betmgm', 'title': 'BetMGM', 'last_update': '2022-03-02T05:10:49Z', 'markets': [{'key': 'spreads', 'outcomes': [{'name': 'New York Knicks', 'price': -110, 'point': 10.5}, {'name': 'Philadelphia 76ers', 'price': -110, 'point': -10.5}]}]}, {'key': 'lowvig', 'title': 'LowVig.ag', 'last_update': '2022-03-02T05:10:52Z', 'markets': [{'key': 'spreads', 'outcomes': [{'name': 'New York Knicks', 'price': -105, 'point': 10.5}, {'name': 'Philadelphia 76ers', 'price': -105, 'point': -10.5}]}]}, {'key': 'betonlineag', 'title': 'BetOnline.ag', 'last_update': '2022-03-02T05:10:47Z', 'markets': [{'key': 'spreads', 'outcomes': [{'name': 'New York Knicks', 'price': -111, 'point': 10.5}, {'name': 'Philadelphia 76ers', 'price': -111, 'point': -10.5}]}]}, {'key': 'foxbet', 'title': 'FOX Bet', 'last_update': '2022-03-02T05:10:47Z', 'markets': [{'key': 'spreads', 'outcomes': [{'name': 'New York Knicks', 'price': -110, 'point': 10.5}, {'name': 'Philadelphia 76ers', 'price': -110, 'point': -10.5}]}]}, {'key': 'gtbets', 'title': 'GTbets', 'last_update': '2022-03-02T05:10:48Z', 'markets': [{'key': 'spreads', 'outcomes': [{'name': 'New York Knicks', 'price': -109, 'point': 10.5}, {'name': 'Philadelphia 76ers', 'price': -109, 'point': -10.5}]}]}, {'key': 'wynnbet', 'title': 'WynnBET', 'last_update': '2022-03-02T05:10:49Z', 'markets': [{'key': 'spreads', 'outcomes': [{'name': 'New York Knicks', 'price': -110, 'point': 11.0}, {'name': 'Philadelphia 76ers', 'price': -110, 'point': -11.0}]}]}, {'key': 'williamhill_us', 'title': 'William Hill (US)', 'last_update': '2022-03-02T05:11:14Z', 'markets': [{'key': 'spreads', 'outcomes': [{'name': 'New York Knicks', 'price': -110, 'point': 10.5}, {'name': 'Philadelphia 76ers', 'price': -110, 'point': -10.5}]}]}, {'key': 'unibet', 'title': 'Unibet', 'last_update': '2022-03-02T05:11:13Z', 'markets': [{'key': 'spreads', 'outcomes': [{'name': 'New York Knicks', 'price': -110, 'point': 10.5}, {'name': 'Philadelphia 76ers', 'price': -110, 'point': -10.5}]}]}, {'key': 'betrivers', 'title': 'BetRivers', 'last_update': '2022-03-02T05:11:17Z', 'markets': [{'key': 'spreads', 'outcomes': [{'name': 'New York Knicks', 'price': -110, 'point': 10.5}, {'name': 'Philadelphia 76ers', 'price': -110, 'point': -10.5}]}]}, {'key': 'sugarhouse', 'title': 'SugarHouse', 'last_update': '2022-03-02T05:11:16Z', 'markets': [{'key': 'spreads', 'outcomes': [{'name': 'New York Knicks', 'price': -110, 'point': 10.5}, {'name': 'Philadelphia 76ers', 'price': -110, 'point': -10.5}]}]}, {'key': 'barstool', 'title': 'Barstool Sportsbook', 'last_update': '2022-03-02T05:11:16Z', 'markets': [{'key': 'spreads', 'outcomes': [{'name': 'New York Knicks', 'price': -110, 'point': 10.5}, {'name': 'Philadelphia 76ers', 'price': -110, 'point': -10.5}]}]}, {'key': 'twinspires', 'title': 'TwinSpires', 'last_update': '2022-03-02T05:10:49Z', 'markets': [{'key': 'spreads', 'outcomes': [{'name': 'New York Knicks', 'price': -110, 'point': 10.5}, {'name': 'Philadelphia 76ers', 'price': -110, 'point': -10.5}]}]}, {'key': 'bovada', 'title': 'Bovada', 'last_update': '2022-03-02T05:10:48Z', 'markets': [{'key': 'spreads', 'outcomes': [{'name': 'New York Knicks', 'price': -110, 'point': 10.5}, {'name': 'Philadelphia 76ers', 'price': -110, 'point': -10.5}]}]}]}, {'id': '22993ab6739961f44dee54e3d7b43e72', 'sport_key': 'basketball_nba', 'sport_title': 'NBA', 'commence_time': '2022-03-03T01:10:00Z', 'home_team': 'Houston Rockets', 'away_team': 'Utah Jazz', 'bookmakers': [{'key': 'draftkings', 'title': 'DraftKings', 'last_update': '2022-03-02T05:11:02Z', 'markets': [{'key': 'spreads', 'outcomes': [{'name': 'Houston Rockets', 'price': -110, 'point': 13.0}, {'name': 'Utah Jazz', 'price': -110, 'point': -13.0}]}]}, {'key': 'fanduel', 'title': 'FanDuel', 'last_update': '2022-03-02T05:11:02Z', 'markets': [{'key': 'spreads', 'outcomes': [{'name': 'Houston Rockets', 'price': -110, 'point': 12.5}, {'name': 'Utah Jazz', 'price': -110, 'point': -12.5}]}]}, {'key': 'wynnbet', 'title': 'WynnBET', 'last_update': '2022-03-02T05:10:49Z', 'markets': [{'key': 'spreads', 'outcomes': [{'name': 'Houston Rockets', 'price': -110, 'point': 13.0}, {'name': 'Utah Jazz', 'price': -110, 'point': -13.0}]}]}, {'key': 'foxbet', 'title': 'FOX Bet', 'last_update': '2022-03-02T05:10:47Z', 'markets': [{'key': 'spreads', 'outcomes': [{'name': 'Houston Rockets', 'price': -110, 'point': 12.5}, {'name': 'Utah Jazz', 'price': -110, 'point': -12.5}]}]}, {'key': 'betmgm', 'title': 'BetMGM', 'last_update': '2022-03-02T05:10:49Z', 'markets': [{'key': 'spreads', 'outcomes': [{'name': 'Houston Rockets', 'price': -110, 'point': 12.5}, {'name': 'Utah Jazz', 'price': -110, 'point': -12.5}]}]}, {'key': 'unibet', 'title': 'Unibet', 'last_update': '2022-03-02T05:11:13Z', 'markets': [{'key': 'spreads', 'outcomes': [{'name': 'Houston Rockets', 'price': -110, 'point': 12.5}, {'name': 'Utah Jazz', 'price': -111, 'point': -12.5}]}]}, {'key': 'betrivers', 'title': 'BetRivers', 'last_update': '2022-03-02T05:11:17Z', 'markets': [{'key': 'spreads', 'outcomes': [{'name': 'Houston Rockets', 'price': -110, 'point': 12.5}, {'name': 'Utah Jazz', 'price': -112, 'point': -12.5}]}]}, {'key': 'sugarhouse', 'title': 'SugarHouse', 'last_update': '2022-03-02T05:11:16Z', 'markets': [{'key': 'spreads', 'outcomes': [{'name': 'Houston Rockets', 'price': -110, 'point': 12.5}, {'name': 'Utah Jazz', 'price': -112, 'point': -12.5}]}]}, {'key': 'barstool', 'title': 'Barstool Sportsbook', 'last_update': '2022-03-02T05:11:16Z', 'markets': [{'key': 'spreads', 'outcomes': [{'name': 'Houston Rockets', 'price': -110, 'point': 12.5}, {'name': 'Utah Jazz', 'price': -112, 'point': -12.5}]}]}, {'key': 'twinspires', 'title': 'TwinSpires', 'last_update': '2022-03-02T05:10:49Z', 'markets': [{'key': 'spreads', 'outcomes': [{'name': 'Houston Rockets', 'price': -110, 'point': 12.5}, {'name': 'Utah Jazz', 'price': -112, 'point': -12.5}]}]}, {'key': 'pointsbetus', 'title': 'PointsBet (US)', 'last_update': '2022-03-02T05:10:49Z', 'markets': [{'key': 'spreads', 'outcomes': [{'name': 'Houston Rockets', 'price': -105, 'point': 12.5}, {'name': 'Utah Jazz', 'price': -115, 'point': -12.5}]}]}]}, {'id': 'ed60747f5ac768600a0da5cb7953299b', 'sport_key': 'basketball_nba', 'sport_title': 'NBA', 'commence_time': '2022-03-03T01:10:00Z', 'home_team': 'Milwaukee Bucks', 'away_team': 'Miami Heat', 'bookmakers': [{'key': 'fanduel', 'title': 'FanDuel', 'last_update': '2022-03-02T05:11:02Z', 'markets': [{'key': 'spreads', 'outcomes': [{'name': 'Miami Heat', 'price': -110, 'point': 4.5}, {'name': 'Milwaukee Bucks', 'price': -110, 'point': -4.5}]}]}, {'key': 'wynnbet', 'title': 'WynnBET', 'last_update': '2022-03-02T05:10:49Z', 'markets': [{'key': 'spreads', 'outcomes': [{'name': 'Miami Heat', 'price': -110, 'point': 4.5}, {'name': 'Milwaukee Bucks', 'price': -110, 'point': -4.5}]}]}, {'key': 'foxbet', 'title': 'FOX Bet', 'last_update': '2022-03-02T05:10:47Z', 'markets': [{'key': 'spreads', 'outcomes': [{'name': 'Miami Heat', 'price': -118, 'point': 5.0}, {'name': 'Milwaukee Bucks', 'price': 100, 'point': -5.0}]}]}, {'key': 'betmgm', 'title': 'BetMGM', 'last_update': '2022-03-02T05:10:49Z', 'markets': [{'key': 'spreads', 'outcomes': [{'name': 'Miami Heat', 'price': -110, 'point': 4.5}, {'name': 'Milwaukee Bucks', 'price': -110, 'point': -4.5}]}]}, {'key': 'unibet', 'title': 'Unibet', 'last_update': '2022-03-02T05:11:13Z', 'markets': [{'key': 'spreads', 'outcomes': [{'name': 'Miami Heat', 'price': -110, 'point': 5.0}, {'name': 'Milwaukee Bucks', 'price': -111, 'point': -5.0}]}]}, {'key': 'betrivers', 'title': 'BetRivers', 'last_update': '2022-03-02T05:11:17Z', 'markets': [{'key': 'spreads', 'outcomes': [{'name': 'Miami Heat', 'price': -110, 'point': 5.0}, {'name': 'Milwaukee Bucks', 'price': -112, 'point': -5.0}]}]}, {'key': 'sugarhouse', 'title': 'SugarHouse', 'last_update': '2022-03-02T05:11:16Z', 'markets': [{'key': 'spreads', 'outcomes': [{'name': 'Miami Heat', 'price': -110, 'point': 5.0}, {'name': 'Milwaukee Bucks', 'price': -112, 'point': -5.0}]}]}, {'key': 'barstool', 'title': 'Barstool Sportsbook', 'last_update': '2022-03-02T05:11:16Z', 'markets': [{'key': 'spreads', 'outcomes': [{'name': 'Miami Heat', 'price': -110, 'point': 5.0}, {'name': 'Milwaukee Bucks', 'price': -112, 'point': -5.0}]}]}, {'key': 'twinspires', 'title': 'TwinSpires', 'last_update': '2022-03-02T05:10:49Z', 'markets': [{'key': 'spreads', 'outcomes': [{'name': 'Miami Heat', 'price': -110, 'point': 5.0}, {'name': 'Milwaukee Bucks', 'price': -112, 'point': -5.0}]}]}]}, {'id': '639daa84f60b1874db88851132a8100f', 'sport_key': 'basketball_nba', 'sport_title': 'NBA', 'commence_time': '2022-03-03T01:10:00Z', 'home_team': 'New Orleans Pelicans', 'away_team': 'Sacramento Kings', 'bookmakers': [{'key': 'williamhill_us', 'title': 'William Hill (US)', 'last_update': '2022-03-02T05:11:14Z', 'markets': [{'key': 'spreads', 'outcomes': [{'name': 'New Orleans Pelicans', 'price': -110, 'point': -5.0}, {'name': 'Sacramento Kings', 'price': -110, 'point': 5.0}]}]}, {'key': 'betonlineag', 'title': 'BetOnline.ag', 'last_update': '2022-03-02T05:10:47Z', 'markets': [{'key': 'spreads', 'outcomes': [{'name': 'New Orleans Pelicans', 'price': -115, 'point': -5.0}, {'name': 'Sacramento Kings', 'price': -105, 'point': 5.0}]}]}, {'key': 'foxbet', 'title': 'FOX Bet', 'last_update': '2022-03-02T05:10:47Z', 'markets': [{'key': 'spreads', 'outcomes': [{'name': 'New Orleans Pelicans', 'price': -110, 'point': -5.0}, {'name': 'Sacramento Kings', 'price': -110, 'point': 5.0}]}]}, {'key': 'gtbets', 'title': 'GTbets', 'last_update': '2022-03-02T05:10:48Z', 'markets': [{'key': 'spreads', 'outcomes': [{'name': 'New Orleans Pelicans', 'price': -109, 'point': -5.0}, {'name': 'Sacramento Kings', 'price': -109, 'point': 5.0}]}]}, {'key': 'draftkings', 'title': 'DraftKings', 'last_update': '2022-03-02T05:11:02Z', 'markets': [{'key': 'spreads', 'outcomes': [{'name': 'New Orleans Pelicans', 'price': -110, 'point': -5.0}, {'name': 'Sacramento Kings', 'price': -110, 'point': 5.0}]}]}, {'key': 'fanduel', 'title': 'FanDuel', 'last_update': '2022-03-02T05:11:02Z', 'markets': [{'key': 'spreads', 'outcomes': [{'name': 'New Orleans Pelicans', 'price': -110, 'point': -5.0}, {'name': 'Sacramento Kings', 'price': -110, 'point': 5.0}]}]}, {'key': 'wynnbet', 'title': 'WynnBET', 'last_update': '2022-03-02T05:10:49Z', 'markets': [{'key': 'spreads', 'outcomes': [{'name': 'New Orleans Pelicans', 'price': -110, 'point': -5.0}, {'name': 'Sacramento Kings', 'price': -110, 'point': 5.0}]}]}, {'key': 'lowvig', 'title': 'LowVig.ag', 'last_update': '2022-03-02T05:10:52Z', 'markets': [{'key': 'spreads', 'outcomes': [{'name': 'New Orleans Pelicans', 'price': -110, 'point': -5.0}, {'name': 'Sacramento Kings', 'price': 100, 'point': 5.0}]}]}, {'key': 'pointsbetus', 'title': 'PointsBet (US)', 'last_update': '2022-03-02T05:10:49Z', 'markets': [{'key': 'spreads', 'outcomes': [{'name': 'New Orleans Pelicans', 'price': -110, 'point': -4.5}, {'name': 'Sacramento Kings', 'price': -110, 'point': 4.5}]}]}, {'key': 'betmgm', 'title': 'BetMGM', 'last_update': '2022-03-02T05:10:49Z', 'markets': [{'key': 'spreads', 'outcomes': [{'name': 'New Orleans Pelicans', 'price': -110, 'point': -4.5}, {'name': 'Sacramento Kings', 'price': -110, 'point': 4.5}]}]}, {'key': 'unibet', 'title': 'Unibet', 'last_update': '2022-03-02T05:11:13Z', 'markets': [{'key': 'spreads', 'outcomes': [{'name': 'New Orleans Pelicans', 'price': -111, 'point': -4.5}, {'name': 'Sacramento Kings', 'price': -109, 'point': 4.5}]}]}, {'key': 'betrivers', 'title': 'BetRivers', 'last_update': '2022-03-02T05:11:17Z', 'markets': [{'key': 'spreads', 'outcomes': [{'name': 'New Orleans Pelicans', 'price': -112, 'point': -4.5}, {'name': 'Sacramento Kings', 'price': -109, 'point': 4.5}]}]}, {'key': 'sugarhouse', 'title': 'SugarHouse', 'last_update': '2022-03-02T05:11:16Z', 'markets': [{'key': 'spreads', 'outcomes': [{'name': 'New Orleans Pelicans', 'price': -112, 'point': -4.5}, {'name': 'Sacramento Kings', 'price': -109, 'point': 4.5}]}]}, {'key': 'barstool', 'title': 'Barstool Sportsbook', 'last_update': '2022-03-02T05:11:16Z', 'markets': [{'key': 'spreads', 'outcomes': [{'name': 'New Orleans Pelicans', 'price': -112, 'point': -4.5}, {'name': 'Sacramento Kings', 'price': -109, 'point': 4.5}]}]}, {'key': 'twinspires', 'title': 'TwinSpires', 'last_update': '2022-03-02T05:10:49Z', 'markets': [{'key': 'spreads', 'outcomes': [{'name': 'New Orleans Pelicans', 'price': -112, 'point': -4.5}, {'name': 'Sacramento Kings', 'price': -109, 'point': 4.5}]}]}, {'key': 'bovada', 'title': 'Bovada', 'last_update': '2022-03-02T05:10:48Z', 'markets': [{'key': 'spreads', 'outcomes': [{'name': 'New Orleans Pelicans', 'price': -110, 'point': -5.0}, {'name': 'Sacramento Kings', 'price': -110, 'point': 5.0}]}]}]}, {'id': '72e2fbc6d9974a9bfc5c2a42240e0772', 'sport_key': 'basketball_nba', 'sport_title': 'NBA', 'commence_time': '2022-03-03T02:10:00Z', 'home_team': 'Denver Nuggets', 'away_team': 'Oklahoma City Thunder', 'bookmakers': [{'key': 'draftkings', 'title': 'DraftKings', 'last_update': '2022-03-02T05:11:02Z', 'markets': [{'key': 'spreads', 'outcomes': [{'name': 'Denver Nuggets', 'price': -110, 'point': -13.5}, {'name': 'Oklahoma City Thunder', 'price': -110, 'point': 13.5}]}]}, {'key': 'wynnbet', 'title': 'WynnBET', 'last_update': '2022-03-02T05:10:49Z', 'markets': [{'key': 'spreads', 'outcomes': [{'name': 'Denver Nuggets', 'price': -110, 'point': -14.0}, {'name': 'Oklahoma City Thunder', 'price': -110, 'point': 14.0}]}]}, {'key': 'fanduel', 'title': 'FanDuel', 'last_update': '2022-03-02T05:11:02Z', 'markets': [{'key': 'spreads', 'outcomes': [{'name': 'Denver Nuggets', 'price': -110, 'point': -13.0}, {'name': 'Oklahoma City Thunder', 'price': -110, 'point': 13.0}]}]}, {'key': 'foxbet', 'title': 'FOX Bet', 'last_update': '2022-03-02T05:10:47Z', 'markets': [{'key': 'spreads', 'outcomes': [{'name': 'Denver Nuggets', 'price': -110, 'point': -13.0}, {'name': 'Oklahoma City Thunder', 'price': -110, 'point': 13.0}]}]}, {'key': 'betmgm', 'title': 'BetMGM', 'last_update': '2022-03-02T05:10:49Z', 'markets': [{'key': 'spreads', 'outcomes': [{'name': 'Denver Nuggets', 'price': -110, 'point': -13.5}, {'name': 'Oklahoma City Thunder', 'price': -110, 'point': 13.5}]}]}, {'key': 'unibet', 'title': 'Unibet', 'last_update': '2022-03-02T05:11:13Z', 'markets': [{'key': 'spreads', 'outcomes': [{'name': 'Denver Nuggets', 'price': -111, 'point': -13.0}, {'name': 'Oklahoma City Thunder', 'price': -110, 'point': 13.0}]}]}, {'key': 'betrivers', 'title': 'BetRivers', 'last_update': '2022-03-02T05:11:17Z', 'markets': [{'key': 'spreads', 'outcomes': [{'name': 'Denver Nuggets', 'price': -112, 'point': -13.0}, {'name': 'Oklahoma City Thunder', 'price': -110, 'point': 13.0}]}]}, {'key': 'sugarhouse', 'title': 'SugarHouse', 'last_update': '2022-03-02T05:11:16Z', 'markets': [{'key': 'spreads', 'outcomes': [{'name': 'Denver Nuggets', 'price': -112, 'point': -13.0}, {'name': 'Oklahoma City Thunder', 'price': -110, 'point': 13.0}]}]}, {'key': 'barstool', 'title': 'Barstool Sportsbook', 'last_update': '2022-03-02T05:11:16Z', 'markets': [{'key': 'spreads', 'outcomes': [{'name': 'Denver Nuggets', 'price': -112, 'point': -13.0}, {'name': 'Oklahoma City Thunder', 'price': -110, 'point': 13.0}]}]}, {'key': 'twinspires', 'title': 'TwinSpires', 'last_update': '2022-03-02T05:10:49Z', 'markets': [{'key': 'spreads', 'outcomes': [{'name': 'Denver Nuggets', 'price': -112, 'point': -13.0}, {'name': 'Oklahoma City Thunder', 'price': -110, 'point': 13.0}]}]}]}, {'id': '1da80d8c9989cbbcd324a58a598240f2', 'sport_key': 'basketball_nba', 'sport_title': 'NBA', 'commence_time': '2022-03-03T03:10:00Z', 'home_team': 'Phoenix Suns', 'away_team': 'Portland Trail Blazers', 'bookmakers': [{'key': 'betonlineag', 'title': 'BetOnline.ag', 'last_update': '2022-03-02T05:10:47Z', 'markets': [{'key': 'spreads', 'outcomes': [{'name': 'Phoenix Suns', 'price': -111, 'point': -13.5}, {'name': 'Portland Trail Blazers', 'price': -111, 'point': 13.5}]}]}, {'key': 'foxbet', 'title': 'FOX Bet', 'last_update': '2022-03-02T05:10:47Z', 'markets': [{'key': 'spreads', 'outcomes': [{'name': 'Phoenix Suns', 'price': -110, 'point': -13.0}, {'name': 'Portland Trail Blazers', 'price': -110, 'point': 13.0}]}]}, {'key': 'pointsbetus', 'title': 'PointsBet (US)', 'last_update': '2022-03-02T05:10:49Z', 'markets': [{'key': 'spreads', 'outcomes': [{'name': 'Phoenix Suns', 'price': -110, 'point': -13.0}, {'name': 'Portland Trail Blazers', 'price': -110, 'point': 13.0}]}]}, {'key': 'gtbets', 'title': 'GTbets', 'last_update': '2022-03-02T05:10:48Z', 'markets': [{'key': 'spreads', 'outcomes': [{'name': 'Phoenix Suns', 'price': -109, 'point': -13.0}, {'name': 'Portland Trail Blazers', 'price': -109, 'point': 13.0}]}]}, {'key': 'fanduel', 'title': 'FanDuel', 'last_update': '2022-03-02T05:11:02Z', 'markets': [{'key': 'spreads', 'outcomes': [{'name': 'Phoenix Suns', 'price': -110, 'point': -13.0}, {'name': 'Portland Trail Blazers', 'price': -110, 'point': 13.0}]}]}, {'key': 'williamhill_us', 'title': 'William Hill (US)', 'last_update': '2022-03-02T05:11:14Z', 'markets': [{'key': 'spreads', 'outcomes': [{'name': 'Phoenix Suns', 'price': -110, 'point': -13.0}, {'name': 'Portland Trail Blazers', 'price': -110, 'point': 13.0}]}]}, {'key': 'wynnbet', 'title': 'WynnBET', 'last_update': '2022-03-02T05:10:49Z', 'markets': [{'key': 'spreads', 'outcomes': [{'name': 'Phoenix Suns', 'price': -110, 'point': -13.0}, {'name': 'Portland Trail Blazers', 'price': -110, 'point': 13.0}]}]}, {'key': 'draftkings', 'title': 'DraftKings', 'last_update': '2022-03-02T05:11:02Z', 'markets': [{'key': 'spreads', 'outcomes': [{'name': 'Phoenix Suns', 'price': -110, 'point': -13.0}, {'name': 'Portland Trail Blazers', 'price': -110, 'point': 13.0}]}]}, {'key': 'betmgm', 'title': 'BetMGM', 'last_update': '2022-03-02T05:10:49Z', 'markets': [{'key': 'spreads', 'outcomes': [{'name': 'Phoenix Suns', 'price': -110, 'point': -13.5}, {'name': 'Portland Trail Blazers', 'price': -110, 'point': 13.5}]}]}, {'key': 'lowvig', 'title': 'LowVig.ag', 'last_update': '2022-03-02T05:10:52Z', 'markets': [{'key': 'spreads', 'outcomes': [{'name': 'Phoenix Suns', 'price': -105, 'point': -13.5}, {'name': 'Portland Trail Blazers', 'price': -105, 'point': 13.5}]}]}, {'key': 'unibet', 'title': 'Unibet', 'last_update': '2022-03-02T05:11:13Z', 'markets': [{'key': 'spreads', 'outcomes': [{'name': 'Phoenix Suns', 'price': -111, 'point': -13.0}, {'name': 'Portland Trail Blazers', 'price': -110, 'point': 13.0}]}]}, {'key': 'betrivers', 'title': 'BetRivers', 'last_update': '2022-03-02T05:11:17Z', 'markets': [{'key': 'spreads', 'outcomes': [{'name': 'Phoenix Suns', 'price': -112, 'point': -13.0}, {'name': 'Portland Trail Blazers', 'price': -110, 'point': 13.0}]}]}, {'key': 'sugarhouse', 'title': 'SugarHouse', 'last_update': '2022-03-02T05:11:16Z', 'markets': [{'key': 'spreads', 'outcomes': [{'name': 'Phoenix Suns', 'price': -112, 'point': -13.0}, {'name': 'Portland Trail Blazers', 'price': -110, 'point': 13.0}]}]}, {'key': 'barstool', 'title': 'Barstool Sportsbook', 'last_update': '2022-03-02T05:11:16Z', 'markets': [{'key': 'spreads', 'outcomes': [{'name': 'Phoenix Suns', 'price': -112, 'point': -13.0}, {'name': 'Portland Trail Blazers', 'price': -110, 'point': 13.0}]}]}, {'key': 'twinspires', 'title': 'TwinSpires', 'last_update': '2022-03-02T05:10:49Z', 'markets': [{'key': 'spreads', 'outcomes': [{'name': 'Phoenix Suns', 'price': -112, 'point': -13.0}, {'name': 'Portland Trail Blazers', 'price': -110, 'point': 13.0}]}]}, {'key': 'bovada', 'title': 'Bovada', 'last_update': '2022-03-02T05:10:48Z', 'markets': [{'key': 'spreads', 'outcomes': [{'name': 'Phoenix Suns', 'price': -110, 'point': -13.0}, {'name': 'Portland Trail Blazers', 'price': -110, 'point': 13.0}]}]}]}]\n",
      "Remaining requests 499\n",
      "Used requests 1\n"
     ]
    }
   ],
   "source": [
    "# An api key is emailed to you when you sign up to a plan\n",
    "# Get a free API key at https://api.the-odds-api.com/\n",
    "#API_KEY = 'YOUR_API_KEY'\n",
    "\n",
    "SPORT = 'basketball_nba' # use the sport_key from the /sports endpoint below, or use 'upcoming' to see the next 8 games across all sports\n",
    "\n",
    "REGIONS = 'us' # uk | us | eu | au. Multiple can be specified if comma delimited\n",
    "\n",
    "MARKETS = 'spreads' # h2h | spreads | totals. Multiple can be specified if comma delimited\n",
    "\n",
    "ODDS_FORMAT = 'american' # decimal | american\n",
    "\n",
    "DATE_FORMAT = 'iso' # iso | unix\n",
    "\n",
    "# # # # # # # # # # # # # # # # # # # # # # # # # # # # # # # # # # # # \n",
    "#\n",
    "# First get a list of in-season sports\n",
    "#   The sport 'key' from the response can be used to get odds in the next request\n",
    "#\n",
    "# # # # # # # # # # # # # # # # # # # # # # # # # # # # # # # # # # # # \n",
    "\n",
    "sports_response = requests.get(\n",
    "    'https://api.the-odds-api.com/v4/sports', \n",
    "    params={\n",
    "        'api_key': sports_key\n",
    "    }\n",
    ")\n",
    "\n",
    "\n",
    "if sports_response.status_code != 200:\n",
    "    print(f'Failed to get sports: status_code {sports_response.status_code}, response body {sports_response.text}')\n",
    "\n",
    "else:\n",
    "    print('List of in season sports:', sports_response.json())\n",
    "\n",
    "\n",
    "\n",
    "# # # # # # # # # # # # # # # # # # # # # # # # # # # # # # # # # # # # \n",
    "#\n",
    "# Now get a list of live & upcoming games for the sport you want, along with odds for different bookmakers\n",
    "# This will deduct from the usage quota\n",
    "# The usage quota cost = [number of markets specified] x [number of regions specified]\n",
    "# For examples of usage quota costs, see https://the-odds-api.com/liveapi/guides/v4/#usage-quota-costs\n",
    "#\n",
    "# # # # # # # # # # # # # # # # # # # # # # # # # # # # # # # # # # # # \n",
    "\n",
    "odds_response = requests.get(\n",
    "    f'https://api.the-odds-api.com/v4/sports/{SPORT}/odds',\n",
    "    params={\n",
    "        'api_key': sports_key,\n",
    "        'regions': REGIONS,\n",
    "        'markets': MARKETS,\n",
    "        'oddsFormat': ODDS_FORMAT,\n",
    "        'dateFormat': DATE_FORMAT,\n",
    "    }\n",
    ")\n",
    "\n",
    "\n",
    "\n",
    "if odds_response.status_code != 200:\n",
    "    print(f'Failed to get odds: status_code {odds_response.status_code}, response body {odds_response.text}')\n",
    "\n",
    "else:\n",
    "    odds_json = odds_response.json()\n",
    "    print('Number of events:', len(odds_json))\n",
    "    print(odds_json)\n",
    "\n",
    "    # Check the usage quota\n",
    "    print('Remaining requests', odds_response.headers['x-requests-remaining'])\n",
    "    print('Used requests', odds_response.headers['x-requests-used'])\n"
   ]
  },
  {
   "cell_type": "code",
   "execution_count": 16,
   "id": "679af6f1",
   "metadata": {},
   "outputs": [
    {
     "data": {
      "text/plain": [
       "{'id': '48b0d6a9dc5b01bb24da28a5a7054048',\n",
       " 'sport_key': 'basketball_nba',\n",
       " 'sport_title': 'NBA',\n",
       " 'commence_time': '2022-03-02T03:15:44Z',\n",
       " 'home_team': 'Los Angeles Lakers',\n",
       " 'away_team': 'Dallas Mavericks',\n",
       " 'bookmakers': [{'key': 'fanduel',\n",
       "   'title': 'FanDuel',\n",
       "   'last_update': '2022-03-02T05:11:02Z',\n",
       "   'markets': [{'key': 'spreads',\n",
       "     'outcomes': [{'name': 'Dallas Mavericks', 'price': -102, 'point': 0.5},\n",
       "      {'name': 'Los Angeles Lakers', 'price': -125, 'point': -0.5}]}]},\n",
       "  {'key': 'foxbet',\n",
       "   'title': 'FOX Bet',\n",
       "   'last_update': '2022-03-02T05:10:47Z',\n",
       "   'markets': [{'key': 'spreads',\n",
       "     'outcomes': [{'name': 'Dallas Mavericks', 'price': -118, 'point': 2.5},\n",
       "      {'name': 'Los Angeles Lakers', 'price': -118, 'point': -2.5}]}]},\n",
       "  {'key': 'betmgm',\n",
       "   'title': 'BetMGM',\n",
       "   'last_update': '2022-03-02T05:10:49Z',\n",
       "   'markets': [{'key': 'spreads',\n",
       "     'outcomes': [{'name': 'Dallas Mavericks', 'price': 100, 'point': 1.5},\n",
       "      {'name': 'Los Angeles Lakers', 'price': -125, 'point': -1.5}]}]},\n",
       "  {'key': 'pointsbetus',\n",
       "   'title': 'PointsBet (US)',\n",
       "   'last_update': '2022-03-02T05:10:49Z',\n",
       "   'markets': [{'key': 'spreads',\n",
       "     'outcomes': [{'name': 'Dallas Mavericks', 'price': -110, 'point': 2.5},\n",
       "      {'name': 'Los Angeles Lakers', 'price': -110, 'point': -2.5}]}]},\n",
       "  {'key': 'unibet',\n",
       "   'title': 'Unibet',\n",
       "   'last_update': '2022-03-02T05:11:13Z',\n",
       "   'markets': [{'key': 'spreads',\n",
       "     'outcomes': [{'name': 'Dallas Mavericks', 'price': -115, 'point': 1.5},\n",
       "      {'name': 'Los Angeles Lakers', 'price': -110, 'point': -1.5}]}]},\n",
       "  {'key': 'barstool',\n",
       "   'title': 'Barstool Sportsbook',\n",
       "   'last_update': '2022-03-02T05:11:16Z',\n",
       "   'markets': [{'key': 'spreads',\n",
       "     'outcomes': [{'name': 'Dallas Mavericks', 'price': -115, 'point': 1.5},\n",
       "      {'name': 'Los Angeles Lakers', 'price': -110, 'point': -1.5}]}]},\n",
       "  {'key': 'sugarhouse',\n",
       "   'title': 'SugarHouse',\n",
       "   'last_update': '2022-03-02T05:11:16Z',\n",
       "   'markets': [{'key': 'spreads',\n",
       "     'outcomes': [{'name': 'Dallas Mavericks', 'price': -115, 'point': 1.5},\n",
       "      {'name': 'Los Angeles Lakers', 'price': -110, 'point': -1.5}]}]},\n",
       "  {'key': 'twinspires',\n",
       "   'title': 'TwinSpires',\n",
       "   'last_update': '2022-03-02T05:10:49Z',\n",
       "   'markets': [{'key': 'spreads',\n",
       "     'outcomes': [{'name': 'Dallas Mavericks', 'price': -112, 'point': 2.5},\n",
       "      {'name': 'Los Angeles Lakers', 'price': -114, 'point': -2.5}]}]},\n",
       "  {'key': 'gtbets',\n",
       "   'title': 'GTbets',\n",
       "   'last_update': '2022-03-02T05:10:48Z',\n",
       "   'markets': [{'key': 'spreads',\n",
       "     'outcomes': [{'name': 'Dallas Mavericks', 'price': -113, 'point': 2.5},\n",
       "      {'name': 'Los Angeles Lakers', 'price': -113, 'point': -2.5}]}]},\n",
       "  {'key': 'bovada',\n",
       "   'title': 'Bovada',\n",
       "   'last_update': '2022-03-02T05:10:48Z',\n",
       "   'markets': [{'key': 'spreads',\n",
       "     'outcomes': [{'name': 'Dallas Mavericks', 'price': 110, 'point': -1.5},\n",
       "      {'name': 'Los Angeles Lakers', 'price': -145, 'point': 1.5}]}]},\n",
       "  {'key': 'mybookieag',\n",
       "   'title': 'MyBookie.ag',\n",
       "   'last_update': '2022-03-02T05:11:19Z',\n",
       "   'markets': [{'key': 'spreads',\n",
       "     'outcomes': [{'name': 'Dallas Mavericks', 'price': -115, 'point': -4.5},\n",
       "      {'name': 'Los Angeles Lakers', 'price': -105, 'point': 4.5}]}]}]}"
      ]
     },
     "execution_count": 16,
     "metadata": {},
     "output_type": "execute_result"
    }
   ],
   "source": [
    "# odds_json\n",
    "\n",
    "odds_json[0]"
   ]
  },
  {
   "cell_type": "code",
   "execution_count": 3,
   "id": "67e8bf63",
   "metadata": {
    "scrolled": true
   },
   "outputs": [
    {
     "name": "stdout",
     "output_type": "stream",
     "text": [
      "-110\n",
      "-3.5\n"
     ]
    }
   ],
   "source": [
    "\n",
    "print(odds_json[1][\"bookmakers\"][0][\"markets\"][0][\"outcomes\"][1][\"point\"])"
   ]
  },
  {
   "cell_type": "code",
   "execution_count": 4,
   "id": "b6f674ca",
   "metadata": {},
   "outputs": [
    {
     "name": "stdout",
     "output_type": "stream",
     "text": [
      "Los Angeles Lakers -0.5\n",
      "----------------------\n",
      "Dallas Mavericks\n",
      "                      \n",
      "Cleveland Cavaliers -3.5\n",
      "----------------------\n",
      "Charlotte Hornets\n",
      "                      \n",
      "Orlando Magic -2.0\n",
      "----------------------\n",
      "Indiana Pacers\n",
      "                      \n",
      "Philadelphia 76ers -10.5\n",
      "----------------------\n",
      "New York Knicks\n",
      "                      \n",
      "Houston Rockets -12.5\n",
      "----------------------\n",
      "Utah Jazz\n",
      "                      \n",
      "Milwaukee Bucks -5.0\n",
      "----------------------\n",
      "Miami Heat\n",
      "                      \n",
      "New Orleans Pelicans 5.0\n",
      "----------------------\n",
      "Sacramento Kings\n",
      "                      \n",
      "Denver Nuggets 13.0\n",
      "----------------------\n",
      "Oklahoma City Thunder\n",
      "                      \n",
      "Phoenix Suns 13.5\n",
      "----------------------\n",
      "Portland Trail Blazers\n",
      "                      \n"
     ]
    }
   ],
   "source": [
    "# Create for loop to iterate through each basketball game.  We want home team, \n",
    "for x in range(len(odds_json)):\n",
    "    print(odds_json[x][\"home_team\"],odds_json[x][\"bookmakers\"][x][\"markets\"][0][\"outcomes\"][1][\"point\"])\n",
    "    print(\"----------------------\")\n",
    "    print(odds_json[x][\"away_team\"])\n",
    "    print(\"                      \")\n",
    "    \n",
    "    \n",
    "#     print(odds_json[x][\"bookmakers\"][x][\"title\"])\n",
    "    "
   ]
  },
  {
   "cell_type": "code",
   "execution_count": 38,
   "id": "fa5df0b3",
   "metadata": {},
   "outputs": [
    {
     "data": {
      "text/plain": [
       "['Los Angeles Lakers',\n",
       " 'Cleveland Cavaliers',\n",
       " 'Orlando Magic',\n",
       " 'Philadelphia 76ers',\n",
       " 'Houston Rockets',\n",
       " 'Milwaukee Bucks',\n",
       " 'New Orleans Pelicans',\n",
       " 'Denver Nuggets',\n",
       " 'Phoenix Suns']"
      ]
     },
     "execution_count": 38,
     "metadata": {},
     "output_type": "execute_result"
    }
   ],
   "source": [
    "home_team_list=[]\n",
    "\n",
    "for x in range(len(odds_json)):\n",
    "    home_team = (odds_json[x][\"home_team\"])\n",
    "    if home_team not in home_team_list:\n",
    "                 home_team_list.append(home_team)\n",
    "                     \n",
    "home_team_list\n",
    "    \n",
    "    \n",
    "#     odds_json[x][\"bookmakers\"][x][\"markets\"][0][\"outcomes\"][1][\"point\"])\n",
    "#     print(\"----------------------\")\n",
    "#     print(odds_json[x][\"away_team\"])\n",
    "#     print(\"                      \")\n",
    "    "
   ]
  },
  {
   "cell_type": "code",
   "execution_count": 39,
   "id": "9fcebd26",
   "metadata": {},
   "outputs": [
    {
     "data": {
      "text/plain": [
       "['Dallas Mavericks',\n",
       " 'Charlotte Hornets',\n",
       " 'Indiana Pacers',\n",
       " 'New York Knicks',\n",
       " 'Utah Jazz',\n",
       " 'Miami Heat',\n",
       " 'Sacramento Kings',\n",
       " 'Oklahoma City Thunder',\n",
       " 'Portland Trail Blazers']"
      ]
     },
     "execution_count": 39,
     "metadata": {},
     "output_type": "execute_result"
    }
   ],
   "source": [
    "away_team_list=[]\n",
    "\n",
    "\n",
    "for x in range(len(odds_json)):\n",
    "    away_team = (odds_json[x][\"away_team\"])\n",
    "    if away_team not in away_team_list:\n",
    "                 away_team_list.append(away_team)\n",
    "                     \n",
    "away_team_list"
   ]
  },
  {
   "cell_type": "code",
   "execution_count": 42,
   "id": "9106c34a",
   "metadata": {},
   "outputs": [
    {
     "data": {
      "text/plain": [
       "[-0.5, -3.5, -2.0, -10.5, -12.5, -5.0, 5.0, 13.0, 13.5]"
      ]
     },
     "execution_count": 42,
     "metadata": {},
     "output_type": "execute_result"
    }
   ],
   "source": [
    "home_team_spread=[]\n",
    "\n",
    "for x in range(len(odds_json)):\n",
    "    home_spread = odds_json[x][\"bookmakers\"][x][\"markets\"][0][\"outcomes\"][1][\"point\"]\n",
    "    if home_spread not in home_team_spread:\n",
    "                 home_team_spread.append(home_spread)\n",
    "\n",
    "home_team_spread\n",
    "\n",
    "\n",
    "away_team_spread=[]\n",
    "\n",
    "for x in range(len(odds_json)):\n",
    "    away_team_spread = odds_json[x][\"bookmakers\"][x][\"markets\"][0][\"outcomes\"][1][\"point\"]\n",
    "    if home_spread not in home_team_spread:\n",
    "                 home_team_spread.append(home_spread)\n",
    "\n",
    "home_team_spread\n",
    "\n",
    "\n"
   ]
  },
  {
   "cell_type": "code",
   "execution_count": 46,
   "id": "0cae4eee",
   "metadata": {},
   "outputs": [
    {
     "ename": "IndexError",
     "evalue": "list index out of range",
     "output_type": "error",
     "traceback": [
      "\u001b[0;31m---------------------------------------------------------------------------\u001b[0m",
      "\u001b[0;31mIndexError\u001b[0m                                Traceback (most recent call last)",
      "\u001b[0;32m/var/folders/hq/n_v9bfk51q1bd2l68g7v1fl00000gn/T/ipykernel_7790/3954663161.py\u001b[0m in \u001b[0;36m<module>\u001b[0;34m\u001b[0m\n\u001b[0;32m----> 1\u001b[0;31m \u001b[0modds_json\u001b[0m\u001b[0;34m[\u001b[0m\u001b[0mx\u001b[0m\u001b[0;34m]\u001b[0m\u001b[0;34m[\u001b[0m\u001b[0;34m\"bookmakers\"\u001b[0m\u001b[0;34m]\u001b[0m\u001b[0;34m[\u001b[0m\u001b[0mx\u001b[0m\u001b[0;34m]\u001b[0m\u001b[0;34m[\u001b[0m\u001b[0;34m\"markets\"\u001b[0m\u001b[0;34m]\u001b[0m\u001b[0;34m[\u001b[0m\u001b[0;36m1\u001b[0m\u001b[0;34m]\u001b[0m\u001b[0;34m[\u001b[0m\u001b[0;34m\"outcomes\"\u001b[0m\u001b[0;34m]\u001b[0m\u001b[0;34m[\u001b[0m\u001b[0;36m0\u001b[0m\u001b[0;34m]\u001b[0m\u001b[0;34m[\u001b[0m\u001b[0;34m\"point\"\u001b[0m\u001b[0;34m]\u001b[0m\u001b[0;34m\u001b[0m\u001b[0;34m\u001b[0m\u001b[0m\n\u001b[0m",
      "\u001b[0;31mIndexError\u001b[0m: list index out of range"
     ]
    }
   ],
   "source": []
  },
  {
   "cell_type": "code",
   "execution_count": null,
   "id": "744ba102",
   "metadata": {},
   "outputs": [],
   "source": []
  },
  {
   "cell_type": "code",
   "execution_count": null,
   "id": "a35d9aa3",
   "metadata": {},
   "outputs": [],
   "source": []
  },
  {
   "cell_type": "code",
   "execution_count": 12,
   "id": "1daa546b",
   "metadata": {},
   "outputs": [
    {
     "name": "stdout",
     "output_type": "stream",
     "text": [
      "Los Angeles Lakers\n",
      "Dallas Mavericks\n",
      "-115\n"
     ]
    }
   ],
   "source": [
    "Home_Team=odds_json[0]['home_team']\n",
    "Away_Team=odds_json[0]['away_team']\n",
    "Away_ML=Bookmakers=odds_json[0]['bookmakers'][4]['markets'][0]['outcomes'][0]['price']\n",
    "\n",
    "\n",
    "print(Home_Team)\n",
    "print(Away_Team)\n",
    "print(Away_ML)"
   ]
  },
  {
   "cell_type": "code",
   "execution_count": 10,
   "id": "5dc2ca5b",
   "metadata": {},
   "outputs": [
    {
     "data": {
      "text/plain": [
       "-115"
      ]
     },
     "execution_count": 10,
     "metadata": {},
     "output_type": "execute_result"
    }
   ],
   "source": [
    "Bookmakers"
   ]
  },
  {
   "cell_type": "code",
   "execution_count": null,
   "id": "e05b3cf4",
   "metadata": {},
   "outputs": [],
   "source": [
    "Spurs_DF=pd.DataFrame(SB_Operator)\n",
    "Spurs_DF.head()"
   ]
  },
  {
   "cell_type": "code",
   "execution_count": null,
   "id": "0125bbc3",
   "metadata": {
    "scrolled": true
   },
   "outputs": [],
   "source": [
    "sports_odds_df = pd.DataFrame(odds_json)\n",
    "sports_odds_df.head(10)"
   ]
  },
  {
   "cell_type": "code",
   "execution_count": null,
   "id": "7f843b41",
   "metadata": {},
   "outputs": [],
   "source": []
  },
  {
   "cell_type": "code",
   "execution_count": null,
   "id": "94b1d983",
   "metadata": {},
   "outputs": [],
   "source": [
    "# Create the output file (CSV).\n",
    "output_data_file = \"SportsBook_Data.csv\"\n",
    "# Export the City_Data into a CSV.\n",
    "sports_odds_df.to_csv(output_data_file, index_label=\"id\")"
   ]
  },
  {
   "cell_type": "code",
   "execution_count": null,
   "id": "8ea3cfb3",
   "metadata": {},
   "outputs": [],
   "source": []
  }
 ],
 "metadata": {
  "kernelspec": {
   "display_name": "PythonData",
   "language": "python",
   "name": "pythondata"
  },
  "language_info": {
   "codemirror_mode": {
    "name": "ipython",
    "version": 3
   },
   "file_extension": ".py",
   "mimetype": "text/x-python",
   "name": "python",
   "nbconvert_exporter": "python",
   "pygments_lexer": "ipython3",
   "version": "3.9.7"
  }
 },
 "nbformat": 4,
 "nbformat_minor": 5
}
