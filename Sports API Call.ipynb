{
 "cells": [
  {
   "cell_type": "code",
   "execution_count": 1,
   "id": "968ed89d",
   "metadata": {},
   "outputs": [],
   "source": [
    "import requests\n",
    "import json\n",
    "import pandas as pd\n",
    "\n",
    "from config import sports_key \n"
   ]
  },
  {
   "cell_type": "code",
   "execution_count": 2,
   "id": "2e8fa90a",
   "metadata": {
    "scrolled": false
   },
   "outputs": [
    {
     "name": "stdout",
     "output_type": "stream",
     "text": [
      "List of in season sports: [{'key': 'americanfootball_nfl_super_bowl_winner', 'group': 'American Football', 'title': 'NFL Super Bowl Winner', 'description': 'Super Bowl Winner 2022/2023', 'active': True, 'has_outrights': True}, {'key': 'aussierules_afl', 'group': 'Aussie Rules', 'title': 'AFL', 'description': 'Aussie Football', 'active': True, 'has_outrights': False}, {'key': 'baseball_mlb_world_series_winner', 'group': 'Baseball', 'title': 'MLB World Series Winner', 'description': 'World Series Winner 2022', 'active': True, 'has_outrights': True}, {'key': 'basketball_nba', 'group': 'Basketball', 'title': 'NBA', 'description': 'US Basketball', 'active': True, 'has_outrights': False}, {'key': 'basketball_nba_championship_winner', 'group': 'Basketball', 'title': 'NBA Championship Winner', 'description': 'Championship Winner 2021/2022', 'active': True, 'has_outrights': True}, {'key': 'basketball_ncaab', 'group': 'Basketball', 'title': 'NCAAB', 'description': 'US College Basketball', 'active': True, 'has_outrights': False}, {'key': 'cricket_test_match', 'group': 'Cricket', 'title': 'Test Matches', 'description': 'International Test Matches', 'active': True, 'has_outrights': False}, {'key': 'golf_masters_tournament_winner', 'group': 'Golf', 'title': 'Masters Tournament Winner', 'description': '2022 Winner', 'active': True, 'has_outrights': True}, {'key': 'golf_pga_championship_winner', 'group': 'Golf', 'title': 'PGA Championship Winner', 'description': '2022 Winner', 'active': True, 'has_outrights': True}, {'key': 'golf_the_open_championship_winner', 'group': 'Golf', 'title': 'The Open Winner', 'description': '2022 Winner', 'active': True, 'has_outrights': True}, {'key': 'golf_us_open_winner', 'group': 'Golf', 'title': 'US Open Winner', 'description': '2022 Winner', 'active': True, 'has_outrights': True}, {'key': 'icehockey_nhl', 'group': 'Ice Hockey', 'title': 'NHL', 'description': 'US Ice Hockey', 'active': True, 'has_outrights': False}, {'key': 'icehockey_nhl_championship_winner', 'group': 'Ice Hockey', 'title': 'NHL Championship Winner', 'description': 'Stanley Cup Winner 2021/2022', 'active': True, 'has_outrights': True}, {'key': 'icehockey_sweden_allsvenskan', 'group': 'Ice Hockey', 'title': 'HockeyAllsvenskan', 'description': 'Swedish Hockey Allsvenskan', 'active': True, 'has_outrights': False}, {'key': 'icehockey_sweden_hockey_league', 'group': 'Ice Hockey', 'title': 'SHL', 'description': 'Swedish Hockey League', 'active': True, 'has_outrights': False}, {'key': 'mma_mixed_martial_arts', 'group': 'Mixed Martial Arts', 'title': 'MMA', 'description': 'Mixed Martial Arts', 'active': True, 'has_outrights': False}, {'key': 'rugbyleague_nrl', 'group': 'Rugby League', 'title': 'NRL', 'description': 'Aussie Rugby League', 'active': True, 'has_outrights': False}, {'key': 'soccer_argentina_primera_division', 'group': 'Soccer', 'title': 'Primera División - Argentina', 'description': 'Argentine Primera División', 'active': True, 'has_outrights': False}, {'key': 'soccer_australia_aleague', 'group': 'Soccer', 'title': 'A-League', 'description': 'Aussie Soccer', 'active': True, 'has_outrights': False}, {'key': 'soccer_belgium_first_div', 'group': 'Soccer', 'title': 'Belgium First Div', 'description': 'Belgian First Division A', 'active': True, 'has_outrights': False}, {'key': 'soccer_brazil_campeonato', 'group': 'Soccer', 'title': 'Brazil Série A', 'description': 'Brasileirão Série A', 'active': True, 'has_outrights': False}, {'key': 'soccer_denmark_superliga', 'group': 'Soccer', 'title': 'Denmark Superliga', 'description': '', 'active': True, 'has_outrights': False}, {'key': 'soccer_efl_champ', 'group': 'Soccer', 'title': 'Championship', 'description': 'EFL Championship', 'active': True, 'has_outrights': False}, {'key': 'soccer_england_league1', 'group': 'Soccer', 'title': 'League 1', 'description': 'EFL League 1', 'active': True, 'has_outrights': False}, {'key': 'soccer_england_league2', 'group': 'Soccer', 'title': 'League 2', 'description': 'EFL League 2 ', 'active': True, 'has_outrights': False}, {'key': 'soccer_epl', 'group': 'Soccer', 'title': 'EPL', 'description': 'English Premier League', 'active': True, 'has_outrights': False}, {'key': 'soccer_fa_cup', 'group': 'Soccer', 'title': 'FA Cup', 'description': 'Football Association Challenge Cup', 'active': True, 'has_outrights': False}, {'key': 'soccer_france_ligue_one', 'group': 'Soccer', 'title': 'Ligue 1 - France', 'description': '', 'active': True, 'has_outrights': False}, {'key': 'soccer_france_ligue_two', 'group': 'Soccer', 'title': 'Ligue 2 - France', 'description': 'French Soccer', 'active': True, 'has_outrights': False}, {'key': 'soccer_germany_bundesliga', 'group': 'Soccer', 'title': 'Bundesliga - Germany', 'description': 'German Soccer', 'active': True, 'has_outrights': False}, {'key': 'soccer_germany_bundesliga2', 'group': 'Soccer', 'title': 'Bundesliga 2 - Germany', 'description': 'German Soccer', 'active': True, 'has_outrights': False}, {'key': 'soccer_italy_serie_a', 'group': 'Soccer', 'title': 'Serie A - Italy', 'description': 'Italian Soccer', 'active': True, 'has_outrights': False}, {'key': 'soccer_italy_serie_b', 'group': 'Soccer', 'title': 'Serie B - Italy', 'description': 'Italian Soccer', 'active': True, 'has_outrights': False}, {'key': 'soccer_japan_j_league', 'group': 'Soccer', 'title': 'J League', 'description': 'Japan Soccer League', 'active': True, 'has_outrights': False}, {'key': 'soccer_korea_kleague1', 'group': 'Soccer', 'title': 'K League 1', 'description': 'Korean Soccer', 'active': True, 'has_outrights': False}, {'key': 'soccer_mexico_ligamx', 'group': 'Soccer', 'title': 'Liga MX', 'description': 'Mexican Soccer', 'active': True, 'has_outrights': False}, {'key': 'soccer_netherlands_eredivisie', 'group': 'Soccer', 'title': 'Dutch Eredivisie', 'description': 'Dutch Soccer', 'active': True, 'has_outrights': False}, {'key': 'soccer_norway_eliteserien', 'group': 'Soccer', 'title': 'Eliteserien - Norway', 'description': 'Norwegian Soccer', 'active': True, 'has_outrights': False}, {'key': 'soccer_portugal_primeira_liga', 'group': 'Soccer', 'title': 'Primeira Liga - Portugal', 'description': 'Portugese Soccer', 'active': True, 'has_outrights': False}, {'key': 'soccer_spain_la_liga', 'group': 'Soccer', 'title': 'La Liga - Spain', 'description': 'Spanish Soccer', 'active': True, 'has_outrights': False}, {'key': 'soccer_spain_segunda_division', 'group': 'Soccer', 'title': 'La Liga 2 - Spain', 'description': 'Spanish Soccer', 'active': True, 'has_outrights': False}, {'key': 'soccer_spl', 'group': 'Soccer', 'title': 'Premiership - Scotland', 'description': 'Scottish Premiership', 'active': True, 'has_outrights': False}, {'key': 'soccer_sweden_allsvenskan', 'group': 'Soccer', 'title': 'Allsvenskan - Sweden', 'description': 'Swedish Soccer', 'active': True, 'has_outrights': False}, {'key': 'soccer_sweden_superettan', 'group': 'Soccer', 'title': 'Superettan - Sweden', 'description': 'Swedish Soccer', 'active': True, 'has_outrights': False}, {'key': 'soccer_switzerland_superleague', 'group': 'Soccer', 'title': 'Swiss Superleague', 'description': 'Swiss Soccer', 'active': True, 'has_outrights': False}, {'key': 'soccer_turkey_super_league', 'group': 'Soccer', 'title': 'Turkey Super League', 'description': 'Turkish Soccer', 'active': True, 'has_outrights': False}, {'key': 'soccer_uefa_champs_league', 'group': 'Soccer', 'title': 'UEFA Champions', 'description': 'European Champions League', 'active': True, 'has_outrights': False}, {'key': 'soccer_uefa_europa_league', 'group': 'Soccer', 'title': 'UEFA Europa', 'description': 'European Europa League', 'active': True, 'has_outrights': False}, {'key': 'soccer_usa_mls', 'group': 'Soccer', 'title': 'MLS', 'description': 'Major League Soccer', 'active': True, 'has_outrights': False}]\n",
      "Number of events: 6\n",
      "[{'id': '3e6443834f16ff8a8f4a93afc3752b7a', 'sport_key': 'basketball_nba', 'sport_title': 'NBA', 'commence_time': '2022-03-05T22:11:00Z', 'home_team': 'Dallas Mavericks', 'away_team': 'Sacramento Kings', 'bookmakers': [{'key': 'fanduel', 'title': 'FanDuel', 'last_update': '2022-03-05T22:16:16Z', 'markets': [{'key': 'spreads', 'outcomes': [{'name': 'Dallas Mavericks', 'price': -111, 'point': -3.5}, {'name': 'Sacramento Kings', 'price': -115, 'point': 3.5}]}]}, {'key': 'foxbet', 'title': 'FOX Bet', 'last_update': '2022-03-05T22:16:15Z', 'markets': [{'key': 'spreads', 'outcomes': [{'name': 'Dallas Mavericks', 'price': -125, 'point': -3.5}, {'name': 'Sacramento Kings', 'price': -110, 'point': 3.5}]}]}, {'key': 'betmgm', 'title': 'BetMGM', 'last_update': '2022-03-05T22:16:19Z', 'markets': [{'key': 'spreads', 'outcomes': [{'name': 'Dallas Mavericks', 'price': -110, 'point': -2.5}, {'name': 'Sacramento Kings', 'price': -115, 'point': 2.5}]}]}, {'key': 'unibet', 'title': 'Unibet', 'last_update': '2022-03-05T22:16:10Z', 'markets': [{'key': 'spreads', 'outcomes': [{'name': 'Dallas Mavericks', 'price': -111, 'point': -2.0}, {'name': 'Sacramento Kings', 'price': -115, 'point': 2.0}]}]}, {'key': 'barstool', 'title': 'Barstool Sportsbook', 'last_update': '2022-03-05T22:16:17Z', 'markets': [{'key': 'spreads', 'outcomes': [{'name': 'Dallas Mavericks', 'price': -112, 'point': -0.5}, {'name': 'Sacramento Kings', 'price': -114, 'point': 0.5}]}]}, {'key': 'sugarhouse', 'title': 'SugarHouse', 'last_update': '2022-03-05T22:16:17Z', 'markets': [{'key': 'spreads', 'outcomes': [{'name': 'Dallas Mavericks', 'price': -112, 'point': -0.5}, {'name': 'Sacramento Kings', 'price': -114, 'point': 0.5}]}]}, {'key': 'twinspires', 'title': 'TwinSpires', 'last_update': '2022-03-05T22:16:17Z', 'markets': [{'key': 'spreads', 'outcomes': [{'name': 'Dallas Mavericks', 'price': -112, 'point': -0.5}, {'name': 'Sacramento Kings', 'price': -114, 'point': 0.5}]}]}, {'key': 'pointsbetus', 'title': 'PointsBet (US)', 'last_update': '2022-03-05T22:16:17Z', 'markets': [{'key': 'spreads', 'outcomes': [{'name': 'Dallas Mavericks', 'price': -110, 'point': -2.5}, {'name': 'Sacramento Kings', 'price': -110, 'point': 2.5}]}]}, {'key': 'draftkings', 'title': 'DraftKings', 'last_update': '2022-03-05T22:16:16Z', 'markets': [{'key': 'spreads', 'outcomes': [{'name': 'Dallas Mavericks', 'price': -120, 'point': -3.5}, {'name': 'Sacramento Kings', 'price': -110, 'point': 3.5}]}]}, {'key': 'gtbets', 'title': 'GTbets', 'last_update': '2022-03-05T22:16:15Z', 'markets': [{'key': 'spreads', 'outcomes': [{'name': 'Dallas Mavericks', 'price': -108, 'point': -3.5}, {'name': 'Sacramento Kings', 'price': -118, 'point': 3.5}]}]}, {'key': 'bovada', 'title': 'Bovada', 'last_update': '2022-03-05T22:16:14Z', 'markets': [{'key': 'spreads', 'outcomes': [{'name': 'Dallas Mavericks', 'price': -110, 'point': -3.5}, {'name': 'Sacramento Kings', 'price': -120, 'point': 3.5}]}]}, {'key': 'mybookieag', 'title': 'MyBookie.ag', 'last_update': '2022-03-05T22:16:17Z', 'markets': [{'key': 'spreads', 'outcomes': [{'name': 'Dallas Mavericks', 'price': -110, 'point': -4.5}, {'name': 'Sacramento Kings', 'price': -110, 'point': 4.5}]}]}, {'key': 'betus', 'title': 'BetUS', 'last_update': '2022-03-05T22:14:13Z', 'markets': [{'key': 'spreads', 'outcomes': [{'name': 'Dallas Mavericks', 'price': -110, 'point': -4.5}, {'name': 'Sacramento Kings', 'price': -110, 'point': 4.5}]}]}, {'key': 'lowvig', 'title': 'LowVig.ag', 'last_update': '2022-03-05T22:10:54Z', 'markets': [{'key': 'spreads', 'outcomes': [{'name': 'Dallas Mavericks', 'price': -105, 'point': -5.0}, {'name': 'Sacramento Kings', 'price': -105, 'point': 5.0}]}]}, {'key': 'betonlineag', 'title': 'BetOnline.ag', 'last_update': '2022-03-05T22:12:15Z', 'markets': [{'key': 'spreads', 'outcomes': [{'name': 'Dallas Mavericks', 'price': -111, 'point': -5.0}, {'name': 'Sacramento Kings', 'price': -111, 'point': 5.0}]}]}]}, {'id': '82cd0ec599fbcb3e2a2bf672acf86f37', 'sport_key': 'basketball_nba', 'sport_title': 'NBA', 'commence_time': '2022-03-06T00:10:00Z', 'home_team': 'Charlotte Hornets', 'away_team': 'San Antonio Spurs', 'bookmakers': [{'key': 'betonlineag', 'title': 'BetOnline.ag', 'last_update': '2022-03-05T22:16:14Z', 'markets': [{'key': 'spreads', 'outcomes': [{'name': 'Charlotte Hornets', 'price': -112, 'point': -3.5}, {'name': 'San Antonio Spurs', 'price': -109, 'point': 3.5}]}]}, {'key': 'foxbet', 'title': 'FOX Bet', 'last_update': '2022-03-05T22:16:15Z', 'markets': [{'key': 'spreads', 'outcomes': [{'name': 'Charlotte Hornets', 'price': -110, 'point': -4.0}, {'name': 'San Antonio Spurs', 'price': -110, 'point': 4.0}]}]}, {'key': 'pointsbetus', 'title': 'PointsBet (US)', 'last_update': '2022-03-05T22:16:17Z', 'markets': [{'key': 'spreads', 'outcomes': [{'name': 'Charlotte Hornets', 'price': -115, 'point': -3.5}, {'name': 'San Antonio Spurs', 'price': -105, 'point': 3.5}]}]}, {'key': 'fanduel', 'title': 'FanDuel', 'last_update': '2022-03-05T22:16:16Z', 'markets': [{'key': 'spreads', 'outcomes': [{'name': 'Charlotte Hornets', 'price': -106, 'point': -4.0}, {'name': 'San Antonio Spurs', 'price': -114, 'point': 4.0}]}]}, {'key': 'wynnbet', 'title': 'WynnBET', 'last_update': '2022-03-05T22:16:19Z', 'markets': [{'key': 'spreads', 'outcomes': [{'name': 'Charlotte Hornets', 'price': -110, 'point': -4.0}, {'name': 'San Antonio Spurs', 'price': -110, 'point': 4.0}]}]}, {'key': 'betmgm', 'title': 'BetMGM', 'last_update': '2022-03-05T22:16:19Z', 'markets': [{'key': 'spreads', 'outcomes': [{'name': 'Charlotte Hornets', 'price': -110, 'point': -3.5}, {'name': 'San Antonio Spurs', 'price': -110, 'point': 3.5}]}]}, {'key': 'lowvig', 'title': 'LowVig.ag', 'last_update': '2022-03-05T22:16:19Z', 'markets': [{'key': 'spreads', 'outcomes': [{'name': 'Charlotte Hornets', 'price': -107, 'point': -3.5}, {'name': 'San Antonio Spurs', 'price': -103, 'point': 3.5}]}]}, {'key': 'williamhill_us', 'title': 'William Hill (US)', 'last_update': '2022-03-05T22:16:17Z', 'markets': [{'key': 'spreads', 'outcomes': [{'name': 'Charlotte Hornets', 'price': -110, 'point': -4.0}, {'name': 'San Antonio Spurs', 'price': -110, 'point': 4.0}]}]}, {'key': 'draftkings', 'title': 'DraftKings', 'last_update': '2022-03-05T22:16:16Z', 'markets': [{'key': 'spreads', 'outcomes': [{'name': 'Charlotte Hornets', 'price': -115, 'point': -3.5}, {'name': 'San Antonio Spurs', 'price': -105, 'point': 3.5}]}]}, {'key': 'bovada', 'title': 'Bovada', 'last_update': '2022-03-05T22:16:14Z', 'markets': [{'key': 'spreads', 'outcomes': [{'name': 'Charlotte Hornets', 'price': -115, 'point': -3.5}, {'name': 'San Antonio Spurs', 'price': -105, 'point': 3.5}]}]}, {'key': 'unibet', 'title': 'Unibet', 'last_update': '2022-03-05T22:16:10Z', 'markets': [{'key': 'spreads', 'outcomes': [{'name': 'Charlotte Hornets', 'price': -110, 'point': -4.0}, {'name': 'San Antonio Spurs', 'price': -111, 'point': 4.0}]}]}, {'key': 'sugarhouse', 'title': 'SugarHouse', 'last_update': '2022-03-05T22:16:17Z', 'markets': [{'key': 'spreads', 'outcomes': [{'name': 'Charlotte Hornets', 'price': -110, 'point': -4.0}, {'name': 'San Antonio Spurs', 'price': -112, 'point': 4.0}]}]}, {'key': 'barstool', 'title': 'Barstool Sportsbook', 'last_update': '2022-03-05T22:16:17Z', 'markets': [{'key': 'spreads', 'outcomes': [{'name': 'Charlotte Hornets', 'price': -110, 'point': -4.0}, {'name': 'San Antonio Spurs', 'price': -112, 'point': 4.0}]}]}, {'key': 'twinspires', 'title': 'TwinSpires', 'last_update': '2022-03-05T22:16:17Z', 'markets': [{'key': 'spreads', 'outcomes': [{'name': 'Charlotte Hornets', 'price': -110, 'point': -4.0}, {'name': 'San Antonio Spurs', 'price': -112, 'point': 4.0}]}]}, {'key': 'betrivers', 'title': 'BetRivers', 'last_update': '2022-03-05T22:16:15Z', 'markets': [{'key': 'spreads', 'outcomes': [{'name': 'Charlotte Hornets', 'price': -110, 'point': -4.0}, {'name': 'San Antonio Spurs', 'price': -112, 'point': 4.0}]}]}, {'key': 'mybookieag', 'title': 'MyBookie.ag', 'last_update': '2022-03-05T22:16:17Z', 'markets': [{'key': 'spreads', 'outcomes': [{'name': 'Charlotte Hornets', 'price': -115, 'point': -4.0}, {'name': 'San Antonio Spurs', 'price': -105, 'point': 4.0}]}]}, {'key': 'gtbets', 'title': 'GTbets', 'last_update': '2022-03-05T22:16:15Z', 'markets': [{'key': 'spreads', 'outcomes': [{'name': 'Charlotte Hornets', 'price': -109, 'point': -4.0}, {'name': 'San Antonio Spurs', 'price': -109, 'point': 4.0}]}]}, {'key': 'betus', 'title': 'BetUS', 'last_update': '2022-03-05T22:16:16Z', 'markets': [{'key': 'spreads', 'outcomes': [{'name': 'Charlotte Hornets', 'price': -110, 'point': -4.0}, {'name': 'San Antonio Spurs', 'price': -110, 'point': 4.0}]}]}]}, {'id': 'ecead2342bc38df9adcf8200ede1dc43', 'sport_key': 'basketball_nba', 'sport_title': 'NBA', 'commence_time': '2022-03-06T01:10:00Z', 'home_team': 'Memphis Grizzlies', 'away_team': 'Orlando Magic', 'bookmakers': [{'key': 'wynnbet', 'title': 'WynnBET', 'last_update': '2022-03-05T22:16:19Z', 'markets': [{'key': 'spreads', 'outcomes': [{'name': 'Memphis Grizzlies', 'price': -110, 'point': -16.0}, {'name': 'Orlando Magic', 'price': -110, 'point': 16.0}]}]}, {'key': 'fanduel', 'title': 'FanDuel', 'last_update': '2022-03-05T22:16:16Z', 'markets': [{'key': 'spreads', 'outcomes': [{'name': 'Memphis Grizzlies', 'price': -110, 'point': -15.5}, {'name': 'Orlando Magic', 'price': -110, 'point': 15.5}]}]}, {'key': 'foxbet', 'title': 'FOX Bet', 'last_update': '2022-03-05T22:16:15Z', 'markets': [{'key': 'spreads', 'outcomes': [{'name': 'Memphis Grizzlies', 'price': -118, 'point': -15.5}, {'name': 'Orlando Magic', 'price': 100, 'point': 15.5}]}]}, {'key': 'unibet', 'title': 'Unibet', 'last_update': '2022-03-05T22:16:10Z', 'markets': [{'key': 'spreads', 'outcomes': [{'name': 'Memphis Grizzlies', 'price': -111, 'point': -15.5}, {'name': 'Orlando Magic', 'price': -109, 'point': 15.5}]}]}, {'key': 'betrivers', 'title': 'BetRivers', 'last_update': '2022-03-05T22:16:15Z', 'markets': [{'key': 'spreads', 'outcomes': [{'name': 'Memphis Grizzlies', 'price': -112, 'point': -15.5}, {'name': 'Orlando Magic', 'price': -109, 'point': 15.5}]}]}, {'key': 'sugarhouse', 'title': 'SugarHouse', 'last_update': '2022-03-05T22:16:17Z', 'markets': [{'key': 'spreads', 'outcomes': [{'name': 'Memphis Grizzlies', 'price': -112, 'point': -15.5}, {'name': 'Orlando Magic', 'price': -109, 'point': 15.5}]}]}, {'key': 'barstool', 'title': 'Barstool Sportsbook', 'last_update': '2022-03-05T22:16:17Z', 'markets': [{'key': 'spreads', 'outcomes': [{'name': 'Memphis Grizzlies', 'price': -112, 'point': -15.5}, {'name': 'Orlando Magic', 'price': -109, 'point': 15.5}]}]}, {'key': 'twinspires', 'title': 'TwinSpires', 'last_update': '2022-03-05T22:16:17Z', 'markets': [{'key': 'spreads', 'outcomes': [{'name': 'Memphis Grizzlies', 'price': -112, 'point': -15.5}, {'name': 'Orlando Magic', 'price': -109, 'point': 15.5}]}]}, {'key': 'pointsbetus', 'title': 'PointsBet (US)', 'last_update': '2022-03-05T22:16:17Z', 'markets': [{'key': 'spreads', 'outcomes': [{'name': 'Memphis Grizzlies', 'price': -110, 'point': -15.5}, {'name': 'Orlando Magic', 'price': -110, 'point': 15.5}]}]}, {'key': 'bovada', 'title': 'Bovada', 'last_update': '2022-03-05T22:16:14Z', 'markets': [{'key': 'spreads', 'outcomes': [{'name': 'Memphis Grizzlies', 'price': -110, 'point': -16.0}, {'name': 'Orlando Magic', 'price': -110, 'point': 16.0}]}]}, {'key': 'draftkings', 'title': 'DraftKings', 'last_update': '2022-03-05T22:16:16Z', 'markets': [{'key': 'spreads', 'outcomes': [{'name': 'Memphis Grizzlies', 'price': -110, 'point': -15.5}, {'name': 'Orlando Magic', 'price': -110, 'point': 15.5}]}]}, {'key': 'williamhill_us', 'title': 'William Hill (US)', 'last_update': '2022-03-05T22:16:17Z', 'markets': [{'key': 'spreads', 'outcomes': [{'name': 'Memphis Grizzlies', 'price': -110, 'point': -15.5}, {'name': 'Orlando Magic', 'price': -110, 'point': 15.5}]}]}, {'key': 'gtbets', 'title': 'GTbets', 'last_update': '2022-03-05T22:16:15Z', 'markets': [{'key': 'spreads', 'outcomes': [{'name': 'Memphis Grizzlies', 'price': -109, 'point': -15.5}, {'name': 'Orlando Magic', 'price': -109, 'point': 15.5}]}]}, {'key': 'betmgm', 'title': 'BetMGM', 'last_update': '2022-03-05T22:16:19Z', 'markets': [{'key': 'spreads', 'outcomes': [{'name': 'Memphis Grizzlies', 'price': -110, 'point': -15.5}, {'name': 'Orlando Magic', 'price': -110, 'point': 15.5}]}]}, {'key': 'mybookieag', 'title': 'MyBookie.ag', 'last_update': '2022-03-05T22:16:17Z', 'markets': [{'key': 'spreads', 'outcomes': [{'name': 'Memphis Grizzlies', 'price': -110, 'point': -16.0}, {'name': 'Orlando Magic', 'price': -110, 'point': 16.0}]}]}, {'key': 'betus', 'title': 'BetUS', 'last_update': '2022-03-05T22:16:16Z', 'markets': [{'key': 'spreads', 'outcomes': [{'name': 'Memphis Grizzlies', 'price': -110, 'point': -16.0}, {'name': 'Orlando Magic', 'price': -110, 'point': 16.0}]}]}, {'key': 'betonlineag', 'title': 'BetOnline.ag', 'last_update': '2022-03-05T22:16:14Z', 'markets': [{'key': 'spreads', 'outcomes': [{'name': 'Memphis Grizzlies', 'price': -112, 'point': -15.5}, {'name': 'Orlando Magic', 'price': -109, 'point': 15.5}]}]}, {'key': 'lowvig', 'title': 'LowVig.ag', 'last_update': '2022-03-05T22:16:19Z', 'markets': [{'key': 'spreads', 'outcomes': [{'name': 'Memphis Grizzlies', 'price': -107, 'point': -15.5}, {'name': 'Orlando Magic', 'price': -103, 'point': 15.5}]}]}]}, {'id': '30e61d039a2bf2af7994c3a14278fce0', 'sport_key': 'basketball_nba', 'sport_title': 'NBA', 'commence_time': '2022-03-06T01:10:00Z', 'home_team': 'Miami Heat', 'away_team': 'Philadelphia 76ers', 'bookmakers': [{'key': 'fanduel', 'title': 'FanDuel', 'last_update': '2022-03-05T22:16:16Z', 'markets': [{'key': 'spreads', 'outcomes': [{'name': 'Miami Heat', 'price': -110, 'point': -4.0}, {'name': 'Philadelphia 76ers', 'price': -110, 'point': 4.0}]}]}, {'key': 'wynnbet', 'title': 'WynnBET', 'last_update': '2022-03-05T22:16:19Z', 'markets': [{'key': 'spreads', 'outcomes': [{'name': 'Miami Heat', 'price': -110, 'point': -4.5}, {'name': 'Philadelphia 76ers', 'price': -110, 'point': 4.5}]}]}, {'key': 'foxbet', 'title': 'FOX Bet', 'last_update': '2022-03-05T22:16:15Z', 'markets': [{'key': 'spreads', 'outcomes': [{'name': 'Miami Heat', 'price': 100, 'point': -4.5}, {'name': 'Philadelphia 76ers', 'price': -118, 'point': 4.5}]}]}, {'key': 'betmgm', 'title': 'BetMGM', 'last_update': '2022-03-05T22:16:19Z', 'markets': [{'key': 'spreads', 'outcomes': [{'name': 'Miami Heat', 'price': -110, 'point': -4.5}, {'name': 'Philadelphia 76ers', 'price': -110, 'point': 4.5}]}]}, {'key': 'unibet', 'title': 'Unibet', 'last_update': '2022-03-05T22:16:10Z', 'markets': [{'key': 'spreads', 'outcomes': [{'name': 'Miami Heat', 'price': -111, 'point': -4.5}, {'name': 'Philadelphia 76ers', 'price': -109, 'point': 4.5}]}]}, {'key': 'sugarhouse', 'title': 'SugarHouse', 'last_update': '2022-03-05T22:16:17Z', 'markets': [{'key': 'spreads', 'outcomes': [{'name': 'Miami Heat', 'price': -112, 'point': -4.5}, {'name': 'Philadelphia 76ers', 'price': -109, 'point': 4.5}]}]}, {'key': 'barstool', 'title': 'Barstool Sportsbook', 'last_update': '2022-03-05T22:16:17Z', 'markets': [{'key': 'spreads', 'outcomes': [{'name': 'Miami Heat', 'price': -112, 'point': -4.5}, {'name': 'Philadelphia 76ers', 'price': -109, 'point': 4.5}]}]}, {'key': 'twinspires', 'title': 'TwinSpires', 'last_update': '2022-03-05T22:16:17Z', 'markets': [{'key': 'spreads', 'outcomes': [{'name': 'Miami Heat', 'price': -112, 'point': -4.5}, {'name': 'Philadelphia 76ers', 'price': -109, 'point': 4.5}]}]}, {'key': 'betrivers', 'title': 'BetRivers', 'last_update': '2022-03-05T22:16:15Z', 'markets': [{'key': 'spreads', 'outcomes': [{'name': 'Miami Heat', 'price': -112, 'point': -4.5}, {'name': 'Philadelphia 76ers', 'price': -109, 'point': 4.5}]}]}, {'key': 'pointsbetus', 'title': 'PointsBet (US)', 'last_update': '2022-03-05T22:16:17Z', 'markets': [{'key': 'spreads', 'outcomes': [{'name': 'Miami Heat', 'price': -105, 'point': -4.5}, {'name': 'Philadelphia 76ers', 'price': -115, 'point': 4.5}]}]}, {'key': 'draftkings', 'title': 'DraftKings', 'last_update': '2022-03-05T22:16:16Z', 'markets': [{'key': 'spreads', 'outcomes': [{'name': 'Miami Heat', 'price': -110, 'point': -4.5}, {'name': 'Philadelphia 76ers', 'price': -110, 'point': 4.5}]}]}, {'key': 'williamhill_us', 'title': 'William Hill (US)', 'last_update': '2022-03-05T22:16:17Z', 'markets': [{'key': 'spreads', 'outcomes': [{'name': 'Miami Heat', 'price': -110, 'point': -4.5}, {'name': 'Philadelphia 76ers', 'price': -110, 'point': 4.5}]}]}, {'key': 'gtbets', 'title': 'GTbets', 'last_update': '2022-03-05T22:16:15Z', 'markets': [{'key': 'spreads', 'outcomes': [{'name': 'Miami Heat', 'price': -109, 'point': -4.5}, {'name': 'Philadelphia 76ers', 'price': -109, 'point': 4.5}]}]}, {'key': 'bovada', 'title': 'Bovada', 'last_update': '2022-03-05T22:16:14Z', 'markets': [{'key': 'spreads', 'outcomes': [{'name': 'Miami Heat', 'price': -115, 'point': -4.5}, {'name': 'Philadelphia 76ers', 'price': -105, 'point': 4.5}]}]}, {'key': 'mybookieag', 'title': 'MyBookie.ag', 'last_update': '2022-03-05T22:16:17Z', 'markets': [{'key': 'spreads', 'outcomes': [{'name': 'Miami Heat', 'price': -110, 'point': -4.5}, {'name': 'Philadelphia 76ers', 'price': -110, 'point': 4.5}]}]}, {'key': 'betus', 'title': 'BetUS', 'last_update': '2022-03-05T22:16:16Z', 'markets': [{'key': 'spreads', 'outcomes': [{'name': 'Miami Heat', 'price': -110, 'point': -4.5}, {'name': 'Philadelphia 76ers', 'price': -110, 'point': 4.5}]}]}, {'key': 'betonlineag', 'title': 'BetOnline.ag', 'last_update': '2022-03-05T22:16:14Z', 'markets': [{'key': 'spreads', 'outcomes': [{'name': 'Miami Heat', 'price': -109, 'point': -4.5}, {'name': 'Philadelphia 76ers', 'price': -112, 'point': 4.5}]}]}, {'key': 'lowvig', 'title': 'LowVig.ag', 'last_update': '2022-03-05T22:16:19Z', 'markets': [{'key': 'spreads', 'outcomes': [{'name': 'Miami Heat', 'price': -103, 'point': -4.5}, {'name': 'Philadelphia 76ers', 'price': -107, 'point': 4.5}]}]}]}, {'id': '8374507f19d35bf75c630b1bcda705a4', 'sport_key': 'basketball_nba', 'sport_title': 'NBA', 'commence_time': '2022-03-06T01:10:00Z', 'home_team': 'Minnesota Timberwolves', 'away_team': 'Portland Trail Blazers', 'bookmakers': [{'key': 'fanduel', 'title': 'FanDuel', 'last_update': '2022-03-05T22:16:16Z', 'markets': [{'key': 'spreads', 'outcomes': [{'name': 'Minnesota Timberwolves', 'price': -110, 'point': -13.5}, {'name': 'Portland Trail Blazers', 'price': -110, 'point': 13.5}]}]}, {'key': 'wynnbet', 'title': 'WynnBET', 'last_update': '2022-03-05T22:16:19Z', 'markets': [{'key': 'spreads', 'outcomes': [{'name': 'Minnesota Timberwolves', 'price': -110, 'point': -12.5}, {'name': 'Portland Trail Blazers', 'price': -110, 'point': 12.5}]}]}, {'key': 'foxbet', 'title': 'FOX Bet', 'last_update': '2022-03-05T22:16:15Z', 'markets': [{'key': 'spreads', 'outcomes': [{'name': 'Minnesota Timberwolves', 'price': -110, 'point': -13.0}, {'name': 'Portland Trail Blazers', 'price': -110, 'point': 13.0}]}]}, {'key': 'betmgm', 'title': 'BetMGM', 'last_update': '2022-03-05T22:16:19Z', 'markets': [{'key': 'spreads', 'outcomes': [{'name': 'Minnesota Timberwolves', 'price': -110, 'point': -13.5}, {'name': 'Portland Trail Blazers', 'price': -110, 'point': 13.5}]}]}, {'key': 'draftkings', 'title': 'DraftKings', 'last_update': '2022-03-05T22:16:16Z', 'markets': [{'key': 'spreads', 'outcomes': [{'name': 'Minnesota Timberwolves', 'price': -105, 'point': -13.5}, {'name': 'Portland Trail Blazers', 'price': -115, 'point': 13.5}]}]}, {'key': 'unibet', 'title': 'Unibet', 'last_update': '2022-03-05T22:16:10Z', 'markets': [{'key': 'spreads', 'outcomes': [{'name': 'Minnesota Timberwolves', 'price': -112, 'point': -13.0}, {'name': 'Portland Trail Blazers', 'price': -108, 'point': 13.0}]}]}, {'key': 'sugarhouse', 'title': 'SugarHouse', 'last_update': '2022-03-05T22:16:17Z', 'markets': [{'key': 'spreads', 'outcomes': [{'name': 'Minnesota Timberwolves', 'price': -113, 'point': -13.0}, {'name': 'Portland Trail Blazers', 'price': -108, 'point': 13.0}]}]}, {'key': 'barstool', 'title': 'Barstool Sportsbook', 'last_update': '2022-03-05T22:16:17Z', 'markets': [{'key': 'spreads', 'outcomes': [{'name': 'Minnesota Timberwolves', 'price': -113, 'point': -13.0}, {'name': 'Portland Trail Blazers', 'price': -108, 'point': 13.0}]}]}, {'key': 'twinspires', 'title': 'TwinSpires', 'last_update': '2022-03-05T22:16:17Z', 'markets': [{'key': 'spreads', 'outcomes': [{'name': 'Minnesota Timberwolves', 'price': -113, 'point': -13.0}, {'name': 'Portland Trail Blazers', 'price': -108, 'point': 13.0}]}]}, {'key': 'betrivers', 'title': 'BetRivers', 'last_update': '2022-03-05T22:16:15Z', 'markets': [{'key': 'spreads', 'outcomes': [{'name': 'Minnesota Timberwolves', 'price': -113, 'point': -13.0}, {'name': 'Portland Trail Blazers', 'price': -108, 'point': 13.0}]}]}, {'key': 'pointsbetus', 'title': 'PointsBet (US)', 'last_update': '2022-03-05T22:16:17Z', 'markets': [{'key': 'spreads', 'outcomes': [{'name': 'Minnesota Timberwolves', 'price': -110, 'point': -13.0}, {'name': 'Portland Trail Blazers', 'price': -110, 'point': 13.0}]}]}, {'key': 'williamhill_us', 'title': 'William Hill (US)', 'last_update': '2022-03-05T22:16:17Z', 'markets': [{'key': 'spreads', 'outcomes': [{'name': 'Minnesota Timberwolves', 'price': -110, 'point': -13.0}, {'name': 'Portland Trail Blazers', 'price': -110, 'point': 13.0}]}]}, {'key': 'bovada', 'title': 'Bovada', 'last_update': '2022-03-05T22:16:14Z', 'markets': [{'key': 'spreads', 'outcomes': [{'name': 'Minnesota Timberwolves', 'price': -110, 'point': -13.0}, {'name': 'Portland Trail Blazers', 'price': -110, 'point': 13.0}]}]}, {'key': 'gtbets', 'title': 'GTbets', 'last_update': '2022-03-05T22:16:15Z', 'markets': [{'key': 'spreads', 'outcomes': [{'name': 'Minnesota Timberwolves', 'price': -109, 'point': -13.0}, {'name': 'Portland Trail Blazers', 'price': -109, 'point': 13.0}]}]}, {'key': 'mybookieag', 'title': 'MyBookie.ag', 'last_update': '2022-03-05T22:16:17Z', 'markets': [{'key': 'spreads', 'outcomes': [{'name': 'Minnesota Timberwolves', 'price': -110, 'point': -13.0}, {'name': 'Portland Trail Blazers', 'price': -110, 'point': 13.0}]}]}, {'key': 'betus', 'title': 'BetUS', 'last_update': '2022-03-05T22:16:16Z', 'markets': [{'key': 'spreads', 'outcomes': [{'name': 'Minnesota Timberwolves', 'price': -110, 'point': -13.0}, {'name': 'Portland Trail Blazers', 'price': -110, 'point': 13.0}]}]}, {'key': 'betonlineag', 'title': 'BetOnline.ag', 'last_update': '2022-03-05T22:16:14Z', 'markets': [{'key': 'spreads', 'outcomes': [{'name': 'Minnesota Timberwolves', 'price': -115, 'point': -13.0}, {'name': 'Portland Trail Blazers', 'price': -105, 'point': 13.0}]}]}, {'key': 'lowvig', 'title': 'LowVig.ag', 'last_update': '2022-03-05T22:16:19Z', 'markets': [{'key': 'spreads', 'outcomes': [{'name': 'Minnesota Timberwolves', 'price': -110, 'point': -13.0}, {'name': 'Portland Trail Blazers', 'price': 100, 'point': 13.0}]}]}]}, {'id': '66c9e4e0127c3ebd28b9e2284d1d6d17', 'sport_key': 'basketball_nba', 'sport_title': 'NBA', 'commence_time': '2022-03-06T01:40:00Z', 'home_team': 'Los Angeles Lakers', 'away_team': 'Golden State Warriors', 'bookmakers': [{'key': 'betonlineag', 'title': 'BetOnline.ag', 'last_update': '2022-03-05T22:16:14Z', 'markets': [{'key': 'spreads', 'outcomes': [{'name': 'Golden State Warriors', 'price': -112, 'point': -5.5}, {'name': 'Los Angeles Lakers', 'price': -109, 'point': 5.5}]}]}, {'key': 'foxbet', 'title': 'FOX Bet', 'last_update': '2022-03-05T22:16:15Z', 'markets': [{'key': 'spreads', 'outcomes': [{'name': 'Golden State Warriors', 'price': -118, 'point': -5.5}, {'name': 'Los Angeles Lakers', 'price': 100, 'point': 5.5}]}]}, {'key': 'pointsbetus', 'title': 'PointsBet (US)', 'last_update': '2022-03-05T22:16:17Z', 'markets': [{'key': 'spreads', 'outcomes': [{'name': 'Golden State Warriors', 'price': -110, 'point': -5.5}, {'name': 'Los Angeles Lakers', 'price': -110, 'point': 5.5}]}]}, {'key': 'fanduel', 'title': 'FanDuel', 'last_update': '2022-03-05T22:16:16Z', 'markets': [{'key': 'spreads', 'outcomes': [{'name': 'Golden State Warriors', 'price': -106, 'point': -5.5}, {'name': 'Los Angeles Lakers', 'price': -114, 'point': 5.5}]}]}, {'key': 'wynnbet', 'title': 'WynnBET', 'last_update': '2022-03-05T22:16:19Z', 'markets': [{'key': 'spreads', 'outcomes': [{'name': 'Golden State Warriors', 'price': -110, 'point': -6.0}, {'name': 'Los Angeles Lakers', 'price': -110, 'point': 6.0}]}]}, {'key': 'betmgm', 'title': 'BetMGM', 'last_update': '2022-03-05T22:16:19Z', 'markets': [{'key': 'spreads', 'outcomes': [{'name': 'Golden State Warriors', 'price': -110, 'point': -5.5}, {'name': 'Los Angeles Lakers', 'price': -110, 'point': 5.5}]}]}, {'key': 'lowvig', 'title': 'LowVig.ag', 'last_update': '2022-03-05T22:16:19Z', 'markets': [{'key': 'spreads', 'outcomes': [{'name': 'Golden State Warriors', 'price': -107, 'point': -5.5}, {'name': 'Los Angeles Lakers', 'price': -103, 'point': 5.5}]}]}, {'key': 'williamhill_us', 'title': 'William Hill (US)', 'last_update': '2022-03-05T22:16:17Z', 'markets': [{'key': 'spreads', 'outcomes': [{'name': 'Golden State Warriors', 'price': -110, 'point': -5.5}, {'name': 'Los Angeles Lakers', 'price': -110, 'point': 5.5}]}]}, {'key': 'draftkings', 'title': 'DraftKings', 'last_update': '2022-03-05T22:16:16Z', 'markets': [{'key': 'spreads', 'outcomes': [{'name': 'Golden State Warriors', 'price': -110, 'point': -5.5}, {'name': 'Los Angeles Lakers', 'price': -110, 'point': 5.5}]}]}, {'key': 'bovada', 'title': 'Bovada', 'last_update': '2022-03-05T22:16:14Z', 'markets': [{'key': 'spreads', 'outcomes': [{'name': 'Golden State Warriors', 'price': -105, 'point': -6.0}, {'name': 'Los Angeles Lakers', 'price': -115, 'point': 6.0}]}]}, {'key': 'unibet', 'title': 'Unibet', 'last_update': '2022-03-05T22:16:10Z', 'markets': [{'key': 'spreads', 'outcomes': [{'name': 'Golden State Warriors', 'price': -114, 'point': -5.5}, {'name': 'Los Angeles Lakers', 'price': -106, 'point': 5.5}]}]}, {'key': 'sugarhouse', 'title': 'SugarHouse', 'last_update': '2022-03-05T22:16:17Z', 'markets': [{'key': 'spreads', 'outcomes': [{'name': 'Golden State Warriors', 'price': -114, 'point': -5.5}, {'name': 'Los Angeles Lakers', 'price': -107, 'point': 5.5}]}]}, {'key': 'barstool', 'title': 'Barstool Sportsbook', 'last_update': '2022-03-05T22:16:17Z', 'markets': [{'key': 'spreads', 'outcomes': [{'name': 'Golden State Warriors', 'price': -114, 'point': -5.5}, {'name': 'Los Angeles Lakers', 'price': -107, 'point': 5.5}]}]}, {'key': 'twinspires', 'title': 'TwinSpires', 'last_update': '2022-03-05T22:16:17Z', 'markets': [{'key': 'spreads', 'outcomes': [{'name': 'Golden State Warriors', 'price': -114, 'point': -5.5}, {'name': 'Los Angeles Lakers', 'price': -107, 'point': 5.5}]}]}, {'key': 'betrivers', 'title': 'BetRivers', 'last_update': '2022-03-05T22:16:15Z', 'markets': [{'key': 'spreads', 'outcomes': [{'name': 'Golden State Warriors', 'price': -114, 'point': -5.5}, {'name': 'Los Angeles Lakers', 'price': -107, 'point': 5.5}]}]}, {'key': 'mybookieag', 'title': 'MyBookie.ag', 'last_update': '2022-03-05T22:16:17Z', 'markets': [{'key': 'spreads', 'outcomes': [{'name': 'Golden State Warriors', 'price': -110, 'point': -5.5}, {'name': 'Los Angeles Lakers', 'price': -110, 'point': 5.5}]}]}, {'key': 'gtbets', 'title': 'GTbets', 'last_update': '2022-03-05T22:16:15Z', 'markets': [{'key': 'spreads', 'outcomes': [{'name': 'Golden State Warriors', 'price': -109, 'point': -5.5}, {'name': 'Los Angeles Lakers', 'price': -109, 'point': 5.5}]}]}, {'key': 'betus', 'title': 'BetUS', 'last_update': '2022-03-05T22:16:16Z', 'markets': [{'key': 'spreads', 'outcomes': [{'name': 'Golden State Warriors', 'price': -110, 'point': -6.0}, {'name': 'Los Angeles Lakers', 'price': -110, 'point': 6.0}]}]}]}]\n",
      "Remaining requests 494\n",
      "Used requests 6\n"
     ]
    }
   ],
   "source": [
    "# An api key is emailed to you when you sign up to a plan\n",
    "# Get a free API key at https://api.the-odds-api.com/\n",
    "#API_KEY = 'YOUR_API_KEY'\n",
    "\n",
    "SPORT = 'basketball_nba' # use the sport_key from the /sports endpoint below, or use 'upcoming' to see the next 8 games across all sports\n",
    "\n",
    "REGIONS = 'us' # uk | us | eu | au. Multiple can be specified if comma delimited\n",
    "\n",
    "MARKETS = 'spreads' # h2h | spreads | totals. Multiple can be specified if comma delimited\n",
    "\n",
    "ODDS_FORMAT = 'american' # decimal | american\n",
    "\n",
    "DATE_FORMAT = 'iso' # iso | unix\n",
    "\n",
    "# # # # # # # # # # # # # # # # # # # # # # # # # # # # # # # # # # # # \n",
    "#\n",
    "# First get a list of in-season sports\n",
    "#   The sport 'key' from the response can be used to get odds in the next request\n",
    "#\n",
    "# # # # # # # # # # # # # # # # # # # # # # # # # # # # # # # # # # # # \n",
    "\n",
    "sports_response = requests.get(\n",
    "    'https://api.the-odds-api.com/v4/sports', \n",
    "    params={\n",
    "        'api_key': sports_key\n",
    "    }\n",
    ")\n",
    "\n",
    "\n",
    "if sports_response.status_code != 200:\n",
    "    print(f'Failed to get sports: status_code {sports_response.status_code}, response body {sports_response.text}')\n",
    "\n",
    "else:\n",
    "    print('List of in season sports:', sports_response.json())\n",
    "\n",
    "\n",
    "\n",
    "# # # # # # # # # # # # # # # # # # # # # # # # # # # # # # # # # # # # \n",
    "#\n",
    "# Now get a list of live & upcoming games for the sport you want, along with odds for different bookmakers\n",
    "# This will deduct from the usage quota\n",
    "# The usage quota cost = [number of markets specified] x [number of regions specified]\n",
    "# For examples of usage quota costs, see https://the-odds-api.com/liveapi/guides/v4/#usage-quota-costs\n",
    "#\n",
    "# # # # # # # # # # # # # # # # # # # # # # # # # # # # # # # # # # # # \n",
    "\n",
    "odds_response = requests.get(\n",
    "    f'https://api.the-odds-api.com/v4/sports/{SPORT}/odds',\n",
    "    params={\n",
    "        'api_key': sports_key,\n",
    "        'regions': REGIONS,\n",
    "        'markets': MARKETS,\n",
    "        'oddsFormat': ODDS_FORMAT,\n",
    "        'dateFormat': DATE_FORMAT,\n",
    "    }\n",
    ")\n",
    "\n",
    "\n",
    "\n",
    "if odds_response.status_code != 200:\n",
    "    print(f'Failed to get odds: status_code {odds_response.status_code}, response body {odds_response.text}')\n",
    "\n",
    "else:\n",
    "    odds_json = odds_response.json()\n",
    "    print('Number of events:', len(odds_json))\n",
    "    print(odds_json)\n",
    "\n",
    "    # Check the usage quota\n",
    "    print('Remaining requests', odds_response.headers['x-requests-remaining'])\n",
    "    print('Used requests', odds_response.headers['x-requests-used'])\n"
   ]
  },
  {
   "cell_type": "code",
   "execution_count": 3,
   "id": "679af6f1",
   "metadata": {},
   "outputs": [
    {
     "data": {
      "text/plain": [
       "{'id': '3e6443834f16ff8a8f4a93afc3752b7a',\n",
       " 'sport_key': 'basketball_nba',\n",
       " 'sport_title': 'NBA',\n",
       " 'commence_time': '2022-03-05T22:11:00Z',\n",
       " 'home_team': 'Dallas Mavericks',\n",
       " 'away_team': 'Sacramento Kings',\n",
       " 'bookmakers': [{'key': 'fanduel',\n",
       "   'title': 'FanDuel',\n",
       "   'last_update': '2022-03-05T22:16:16Z',\n",
       "   'markets': [{'key': 'spreads',\n",
       "     'outcomes': [{'name': 'Dallas Mavericks', 'price': -111, 'point': -3.5},\n",
       "      {'name': 'Sacramento Kings', 'price': -115, 'point': 3.5}]}]},\n",
       "  {'key': 'foxbet',\n",
       "   'title': 'FOX Bet',\n",
       "   'last_update': '2022-03-05T22:16:15Z',\n",
       "   'markets': [{'key': 'spreads',\n",
       "     'outcomes': [{'name': 'Dallas Mavericks', 'price': -125, 'point': -3.5},\n",
       "      {'name': 'Sacramento Kings', 'price': -110, 'point': 3.5}]}]},\n",
       "  {'key': 'betmgm',\n",
       "   'title': 'BetMGM',\n",
       "   'last_update': '2022-03-05T22:16:19Z',\n",
       "   'markets': [{'key': 'spreads',\n",
       "     'outcomes': [{'name': 'Dallas Mavericks', 'price': -110, 'point': -2.5},\n",
       "      {'name': 'Sacramento Kings', 'price': -115, 'point': 2.5}]}]},\n",
       "  {'key': 'unibet',\n",
       "   'title': 'Unibet',\n",
       "   'last_update': '2022-03-05T22:16:10Z',\n",
       "   'markets': [{'key': 'spreads',\n",
       "     'outcomes': [{'name': 'Dallas Mavericks', 'price': -111, 'point': -2.0},\n",
       "      {'name': 'Sacramento Kings', 'price': -115, 'point': 2.0}]}]},\n",
       "  {'key': 'barstool',\n",
       "   'title': 'Barstool Sportsbook',\n",
       "   'last_update': '2022-03-05T22:16:17Z',\n",
       "   'markets': [{'key': 'spreads',\n",
       "     'outcomes': [{'name': 'Dallas Mavericks', 'price': -112, 'point': -0.5},\n",
       "      {'name': 'Sacramento Kings', 'price': -114, 'point': 0.5}]}]},\n",
       "  {'key': 'sugarhouse',\n",
       "   'title': 'SugarHouse',\n",
       "   'last_update': '2022-03-05T22:16:17Z',\n",
       "   'markets': [{'key': 'spreads',\n",
       "     'outcomes': [{'name': 'Dallas Mavericks', 'price': -112, 'point': -0.5},\n",
       "      {'name': 'Sacramento Kings', 'price': -114, 'point': 0.5}]}]},\n",
       "  {'key': 'twinspires',\n",
       "   'title': 'TwinSpires',\n",
       "   'last_update': '2022-03-05T22:16:17Z',\n",
       "   'markets': [{'key': 'spreads',\n",
       "     'outcomes': [{'name': 'Dallas Mavericks', 'price': -112, 'point': -0.5},\n",
       "      {'name': 'Sacramento Kings', 'price': -114, 'point': 0.5}]}]},\n",
       "  {'key': 'pointsbetus',\n",
       "   'title': 'PointsBet (US)',\n",
       "   'last_update': '2022-03-05T22:16:17Z',\n",
       "   'markets': [{'key': 'spreads',\n",
       "     'outcomes': [{'name': 'Dallas Mavericks', 'price': -110, 'point': -2.5},\n",
       "      {'name': 'Sacramento Kings', 'price': -110, 'point': 2.5}]}]},\n",
       "  {'key': 'draftkings',\n",
       "   'title': 'DraftKings',\n",
       "   'last_update': '2022-03-05T22:16:16Z',\n",
       "   'markets': [{'key': 'spreads',\n",
       "     'outcomes': [{'name': 'Dallas Mavericks', 'price': -120, 'point': -3.5},\n",
       "      {'name': 'Sacramento Kings', 'price': -110, 'point': 3.5}]}]},\n",
       "  {'key': 'gtbets',\n",
       "   'title': 'GTbets',\n",
       "   'last_update': '2022-03-05T22:16:15Z',\n",
       "   'markets': [{'key': 'spreads',\n",
       "     'outcomes': [{'name': 'Dallas Mavericks', 'price': -108, 'point': -3.5},\n",
       "      {'name': 'Sacramento Kings', 'price': -118, 'point': 3.5}]}]},\n",
       "  {'key': 'bovada',\n",
       "   'title': 'Bovada',\n",
       "   'last_update': '2022-03-05T22:16:14Z',\n",
       "   'markets': [{'key': 'spreads',\n",
       "     'outcomes': [{'name': 'Dallas Mavericks', 'price': -110, 'point': -3.5},\n",
       "      {'name': 'Sacramento Kings', 'price': -120, 'point': 3.5}]}]},\n",
       "  {'key': 'mybookieag',\n",
       "   'title': 'MyBookie.ag',\n",
       "   'last_update': '2022-03-05T22:16:17Z',\n",
       "   'markets': [{'key': 'spreads',\n",
       "     'outcomes': [{'name': 'Dallas Mavericks', 'price': -110, 'point': -4.5},\n",
       "      {'name': 'Sacramento Kings', 'price': -110, 'point': 4.5}]}]},\n",
       "  {'key': 'betus',\n",
       "   'title': 'BetUS',\n",
       "   'last_update': '2022-03-05T22:14:13Z',\n",
       "   'markets': [{'key': 'spreads',\n",
       "     'outcomes': [{'name': 'Dallas Mavericks', 'price': -110, 'point': -4.5},\n",
       "      {'name': 'Sacramento Kings', 'price': -110, 'point': 4.5}]}]},\n",
       "  {'key': 'lowvig',\n",
       "   'title': 'LowVig.ag',\n",
       "   'last_update': '2022-03-05T22:10:54Z',\n",
       "   'markets': [{'key': 'spreads',\n",
       "     'outcomes': [{'name': 'Dallas Mavericks', 'price': -105, 'point': -5.0},\n",
       "      {'name': 'Sacramento Kings', 'price': -105, 'point': 5.0}]}]},\n",
       "  {'key': 'betonlineag',\n",
       "   'title': 'BetOnline.ag',\n",
       "   'last_update': '2022-03-05T22:12:15Z',\n",
       "   'markets': [{'key': 'spreads',\n",
       "     'outcomes': [{'name': 'Dallas Mavericks', 'price': -111, 'point': -5.0},\n",
       "      {'name': 'Sacramento Kings', 'price': -111, 'point': 5.0}]}]}]}"
      ]
     },
     "execution_count": 3,
     "metadata": {},
     "output_type": "execute_result"
    }
   ],
   "source": [
    "# odds_json\n",
    "\n",
    "odds_json[0]"
   ]
  },
  {
   "cell_type": "code",
   "execution_count": 4,
   "id": "67e8bf63",
   "metadata": {
    "scrolled": true
   },
   "outputs": [
    {
     "name": "stdout",
     "output_type": "stream",
     "text": [
      "{'key': 'betonlineag', 'title': 'BetOnline.ag', 'last_update': '2022-03-05T22:16:14Z', 'markets': [{'key': 'spreads', 'outcomes': [{'name': 'Charlotte Hornets', 'price': -112, 'point': -3.5}, {'name': 'San Antonio Spurs', 'price': -109, 'point': 3.5}]}]}\n"
     ]
    }
   ],
   "source": [
    "# print(odds_json[1][\"bookmakers\"][0][\"markets\"][0][\"outcomes\"][1][\"point\"])\n",
    "print(odds_json[1][\"bookmakers\"][0])"
   ]
  },
  {
   "cell_type": "code",
   "execution_count": 5,
   "id": "ee900d09",
   "metadata": {},
   "outputs": [
    {
     "data": {
      "text/plain": [
       "6"
      ]
     },
     "execution_count": 5,
     "metadata": {},
     "output_type": "execute_result"
    }
   ],
   "source": [
    "len(odds_json)"
   ]
  },
  {
   "cell_type": "code",
   "execution_count": 6,
   "id": "b6f674ca",
   "metadata": {},
   "outputs": [
    {
     "name": "stdout",
     "output_type": "stream",
     "text": [
      "FANDUEL LIVE ODDS\n",
      "\n",
      "----------------------\n",
      "Dallas Mavericks 3.5\n",
      "----------------------\n",
      "Sacramento Kings -3.5\n",
      "                      \n",
      "----------------------\n",
      "Charlotte Hornets 4.0\n",
      "----------------------\n",
      "San Antonio Spurs -4.0\n",
      "                      \n",
      "----------------------\n",
      "Memphis Grizzlies 15.5\n",
      "----------------------\n",
      "Orlando Magic -15.5\n",
      "                      \n",
      "----------------------\n",
      "Miami Heat 4.5\n",
      "----------------------\n",
      "Philadelphia 76ers -4.5\n",
      "                      \n",
      "----------------------\n",
      "Minnesota Timberwolves 13.5\n",
      "----------------------\n",
      "Portland Trail Blazers -13.5\n",
      "                      \n",
      "----------------------\n",
      "Los Angeles Lakers 5.5\n",
      "----------------------\n",
      "Golden State Warriors -5.5\n",
      "                      \n"
     ]
    }
   ],
   "source": [
    "# Create for loop to iterate through each basketball game.  We want home team, \n",
    "print(\"FANDUEL LIVE ODDS\")\n",
    "print(\"\")\n",
    "for x in range(len(odds_json)):\n",
    "    print(\"----------------------\")\n",
    "    print(odds_json[x][\"home_team\"],odds_json[x][\"bookmakers\"][x][\"markets\"][0][\"outcomes\"][1][\"point\"])\n",
    "    print(\"----------------------\")\n",
    "    print(odds_json[x][\"away_team\"],odds_json[x][\"bookmakers\"][x][\"markets\"][0][\"outcomes\"][0][\"point\"])\n",
    "    print(\"                      \")\n",
    "    \n",
    "    \n",
    "    "
   ]
  },
  {
   "cell_type": "code",
   "execution_count": 49,
   "id": "fa5df0b3",
   "metadata": {},
   "outputs": [
    {
     "data": {
      "text/plain": [
       "['Dallas Mavericks',\n",
       " 'Charlotte Hornets',\n",
       " 'Memphis Grizzlies',\n",
       " 'Miami Heat',\n",
       " 'Minnesota Timberwolves',\n",
       " 'Golden State Warriors']"
      ]
     },
     "execution_count": 49,
     "metadata": {},
     "output_type": "execute_result"
    }
   ],
   "source": [
    "favorite_team_list=[]\n",
    "\n",
    "for x in range(len(odds_json)):\n",
    "    favored_team = (odds_json[x][\"bookmakers\"][x][\"markets\"][0][\"outcomes\"][0]['name'])\n",
    "    if favored_team not in favorite_team_list:\n",
    "                 favorite_team_list.append(favored_team)\n",
    "                     \n",
    "favorite_team_list\n",
    "    \n",
    "    \n",
    "#     odds_json[x][\"bookmakers\"][x][\"markets\"][0][\"outcomes\"][1][\"point\"])\n",
    "#     print(\"----------------------\")\n",
    "#     print(odds_json[x][\"away_team\"])\n",
    "#     print(\"                      \")\n",
    "    "
   ]
  },
  {
   "cell_type": "code",
   "execution_count": 57,
   "id": "9fcebd26",
   "metadata": {},
   "outputs": [
    {
     "data": {
      "text/plain": [
       "['Sacramento Kings',\n",
       " 'San Antonio Spurs',\n",
       " 'Orlando Magic',\n",
       " 'Philadelphia 76ers',\n",
       " 'Portland Trail Blazers',\n",
       " 'Los Angeles Lakers']"
      ]
     },
     "execution_count": 57,
     "metadata": {},
     "output_type": "execute_result"
    }
   ],
   "source": [
    "dog_team_list=[]\n",
    "\n",
    "\n",
    "for x in range(len(odds_json)):\n",
    "    dog_team = odds_json[x][\"bookmakers\"][x][\"markets\"][0][\"outcomes\"][1]['name']\n",
    "\n",
    "    if dog_team not in dog_team_list:\n",
    "                 dog_team_list.append(dog_team)\n",
    "                     \n",
    "dog_team_list"
   ]
  },
  {
   "cell_type": "code",
   "execution_count": 55,
   "id": "59b351f4",
   "metadata": {},
   "outputs": [
    {
     "data": {
      "text/plain": [
       "{'name': 'San Antonio Spurs', 'price': -110, 'point': 4.0}"
      ]
     },
     "execution_count": 55,
     "metadata": {},
     "output_type": "execute_result"
    }
   ],
   "source": [
    "# TEST CELL DELETE AFTER USE\n",
    "\n",
    "home_spread_test = odds_json[1][\"bookmakers\"][1][\"markets\"][0][\"outcomes\"][1]\n",
    "home_spread_test"
   ]
  },
  {
   "cell_type": "code",
   "execution_count": 60,
   "id": "9106c34a",
   "metadata": {},
   "outputs": [
    {
     "name": "stdout",
     "output_type": "stream",
     "text": [
      "[-3.5, -4.0, -15.5, -4.5, -13.5, -5.5]\n",
      "[3.5, 4.0, 15.5, 4.5, 13.5, 5.5]\n"
     ]
    }
   ],
   "source": [
    "fave_team_spread=[]\n",
    "sportsbook_list=[]\n",
    "\n",
    "for x in range(len(odds_json)):\n",
    "    fave_spread = odds_json[x][\"bookmakers\"][x][\"markets\"][0][\"outcomes\"][0][\"point\"]\n",
    "    sportsbook= odds_json[x][\"bookmakers\"][x]['title']\n",
    "    if fave_spread not in fave_team_spread:\n",
    "        fave_team_spread.append(fave_spread)\n",
    "        sportsbook_list.append(sportsbook)\n",
    "            \n",
    "            \n",
    "            \n",
    "\n",
    "fave_team_spread\n",
    "\n",
    "\n",
    "\n",
    "sportsbook_list2=[]\n",
    "dog_team_spread=[]\n",
    "\n",
    "for x in range(len(odds_json)):\n",
    "    dog_spread = odds_json[x][\"bookmakers\"][x][\"markets\"][0][\"outcomes\"][1][\"point\"]\n",
    "    sportsbook2= odds_json[x][\"bookmakers\"][x]['title']\n",
    "\n",
    "    if dog_spread not in dog_team_spread:\n",
    "        dog_team_spread.append(dog_spread)\n",
    "        sportsbook_list2.append(sportsbook2)\n",
    "\n",
    "            \n",
    "            \n",
    "\n",
    "away_team_spread\n",
    "\n",
    "print(home_team_spread)\n",
    "print(away_team_spread)\n"
   ]
  },
  {
   "cell_type": "code",
   "execution_count": 73,
   "id": "91d1bec4",
   "metadata": {},
   "outputs": [
    {
     "data": {
      "text/plain": [
       "['Dallas Mavericks',\n",
       " 'Charlotte Hornets',\n",
       " 'Memphis Grizzlies',\n",
       " 'Miami Heat',\n",
       " 'Minnesota Timberwolves',\n",
       " 'Los Angeles Lakers']"
      ]
     },
     "execution_count": 73,
     "metadata": {},
     "output_type": "execute_result"
    }
   ],
   "source": [
    "competition_site=[]\n",
    "\n",
    "for x in range(len(odds_json)):\n",
    "    home_arena = odds_json[x][\"home_team\"]\n",
    "    if home_arena not in competition_site:\n",
    "        competition_site.append(home_arena)\n",
    "\n",
    "competition_site"
   ]
  },
  {
   "cell_type": "code",
   "execution_count": 74,
   "id": "744ba102",
   "metadata": {
    "scrolled": true
   },
   "outputs": [
    {
     "data": {
      "text/plain": [
       "{'Best Sports Book(HT)': ['FanDuel',\n",
       "  'FOX Bet',\n",
       "  'FOX Bet',\n",
       "  'BetMGM',\n",
       "  'DraftKings',\n",
       "  'BetMGM'],\n",
       " 'Favorite': ['Dallas Mavericks',\n",
       "  'Charlotte Hornets',\n",
       "  'Memphis Grizzlies',\n",
       "  'Miami Heat',\n",
       "  'Minnesota Timberwolves',\n",
       "  'Golden State Warriors'],\n",
       " 'Favored Team Spread': -5.5,\n",
       " 'Underdog Team': ['Sacramento Kings',\n",
       "  'San Antonio Spurs',\n",
       "  'Orlando Magic',\n",
       "  'Philadelphia 76ers',\n",
       "  'Portland Trail Blazers',\n",
       "  'Los Angeles Lakers'],\n",
       " 'Underdog Team Spread': 5.5,\n",
       " 'Home Arena Belongs To': ['Dallas Mavericks',\n",
       "  'Charlotte Hornets',\n",
       "  'Memphis Grizzlies',\n",
       "  'Miami Heat',\n",
       "  'Minnesota Timberwolves',\n",
       "  'Los Angeles Lakers']}"
      ]
     },
     "execution_count": 74,
     "metadata": {},
     "output_type": "execute_result"
    }
   ],
   "source": [
    "FD_Daily_Spread_Dict={\"Best Sports Book(HT)\":sportsbook_list,\"Favorite\":favorite_team_list, \"Favored Team Spread\":fave_spread,\"Best Sports Book(HT)\":sportsbook_list2, \"Underdog Team\":dog_team_list, \"Underdog Team Spread\":dog_spread, \"Home Arena Belongs To\":competition_site}\n",
    "FD_Daily_Spread_Dict"
   ]
  },
  {
   "cell_type": "code",
   "execution_count": 75,
   "id": "0ba5dbee",
   "metadata": {},
   "outputs": [
    {
     "data": {
      "text/plain": [
       "['FanDuel',\n",
       " 'FOX Bet',\n",
       " 'BetMGM',\n",
       " 'Unibet',\n",
       " 'Barstool Sportsbook',\n",
       " 'SugarHouse',\n",
       " 'TwinSpires',\n",
       " 'PointsBet (US)',\n",
       " 'DraftKings',\n",
       " 'GTbets',\n",
       " 'Bovada',\n",
       " 'MyBookie.ag',\n",
       " 'BetUS',\n",
       " 'LowVig.ag',\n",
       " 'BetOnline.ag']"
      ]
     },
     "execution_count": 75,
     "metadata": {},
     "output_type": "execute_result"
    }
   ],
   "source": [
    "SB_Operators=[]\n",
    "\n",
    "for x in range(len(odds_json[0][\"bookmakers\"])):\n",
    "    SB_Operator = odds_json[0][\"bookmakers\"][x][\"title\"]\n",
    "    if SB_Operator not in SB_Operators:\n",
    "                 SB_Operators.append(SB_Operator)\n",
    "\n",
    "SB_Operators\n",
    "\n"
   ]
  },
  {
   "cell_type": "code",
   "execution_count": 79,
   "id": "28e2003b",
   "metadata": {},
   "outputs": [
    {
     "data": {
      "text/html": [
       "<div>\n",
       "<style scoped>\n",
       "    .dataframe tbody tr th:only-of-type {\n",
       "        vertical-align: middle;\n",
       "    }\n",
       "\n",
       "    .dataframe tbody tr th {\n",
       "        vertical-align: top;\n",
       "    }\n",
       "\n",
       "    .dataframe thead th {\n",
       "        text-align: right;\n",
       "    }\n",
       "</style>\n",
       "<table border=\"1\" class=\"dataframe\">\n",
       "  <thead>\n",
       "    <tr style=\"text-align: right;\">\n",
       "      <th></th>\n",
       "      <th>Best Sports Book(HT)</th>\n",
       "      <th>Favorite</th>\n",
       "      <th>Favored Team Spread</th>\n",
       "      <th>Underdog Team</th>\n",
       "      <th>Underdog Team Spread</th>\n",
       "      <th>Home Arena Belongs To</th>\n",
       "    </tr>\n",
       "  </thead>\n",
       "  <tbody>\n",
       "    <tr>\n",
       "      <th>0</th>\n",
       "      <td>FanDuel</td>\n",
       "      <td>Dallas Mavericks</td>\n",
       "      <td>-5.5</td>\n",
       "      <td>Sacramento Kings</td>\n",
       "      <td>5.5</td>\n",
       "      <td>Dallas Mavericks</td>\n",
       "    </tr>\n",
       "    <tr>\n",
       "      <th>1</th>\n",
       "      <td>FOX Bet</td>\n",
       "      <td>Charlotte Hornets</td>\n",
       "      <td>-5.5</td>\n",
       "      <td>San Antonio Spurs</td>\n",
       "      <td>5.5</td>\n",
       "      <td>Charlotte Hornets</td>\n",
       "    </tr>\n",
       "    <tr>\n",
       "      <th>2</th>\n",
       "      <td>FOX Bet</td>\n",
       "      <td>Memphis Grizzlies</td>\n",
       "      <td>-5.5</td>\n",
       "      <td>Orlando Magic</td>\n",
       "      <td>5.5</td>\n",
       "      <td>Memphis Grizzlies</td>\n",
       "    </tr>\n",
       "    <tr>\n",
       "      <th>3</th>\n",
       "      <td>BetMGM</td>\n",
       "      <td>Miami Heat</td>\n",
       "      <td>-5.5</td>\n",
       "      <td>Philadelphia 76ers</td>\n",
       "      <td>5.5</td>\n",
       "      <td>Miami Heat</td>\n",
       "    </tr>\n",
       "    <tr>\n",
       "      <th>4</th>\n",
       "      <td>DraftKings</td>\n",
       "      <td>Minnesota Timberwolves</td>\n",
       "      <td>-5.5</td>\n",
       "      <td>Portland Trail Blazers</td>\n",
       "      <td>5.5</td>\n",
       "      <td>Minnesota Timberwolves</td>\n",
       "    </tr>\n",
       "    <tr>\n",
       "      <th>5</th>\n",
       "      <td>BetMGM</td>\n",
       "      <td>Golden State Warriors</td>\n",
       "      <td>-5.5</td>\n",
       "      <td>Los Angeles Lakers</td>\n",
       "      <td>5.5</td>\n",
       "      <td>Los Angeles Lakers</td>\n",
       "    </tr>\n",
       "  </tbody>\n",
       "</table>\n",
       "</div>"
      ],
      "text/plain": [
       "  Best Sports Book(HT)                Favorite  Favored Team Spread  \\\n",
       "0              FanDuel        Dallas Mavericks                 -5.5   \n",
       "1              FOX Bet       Charlotte Hornets                 -5.5   \n",
       "2              FOX Bet       Memphis Grizzlies                 -5.5   \n",
       "3               BetMGM              Miami Heat                 -5.5   \n",
       "4           DraftKings  Minnesota Timberwolves                 -5.5   \n",
       "5               BetMGM   Golden State Warriors                 -5.5   \n",
       "\n",
       "            Underdog Team  Underdog Team Spread   Home Arena Belongs To  \n",
       "0        Sacramento Kings                   5.5        Dallas Mavericks  \n",
       "1       San Antonio Spurs                   5.5       Charlotte Hornets  \n",
       "2           Orlando Magic                   5.5       Memphis Grizzlies  \n",
       "3      Philadelphia 76ers                   5.5              Miami Heat  \n",
       "4  Portland Trail Blazers                   5.5  Minnesota Timberwolves  \n",
       "5      Los Angeles Lakers                   5.5      Los Angeles Lakers  "
      ]
     },
     "execution_count": 79,
     "metadata": {},
     "output_type": "execute_result"
    }
   ],
   "source": [
    "SB_NBA_Odds_df=pd.DataFrame(FD_Daily_Spread_Dict)\n",
    "FanDuel_Spread_df"
   ]
  },
  {
   "cell_type": "code",
   "execution_count": 80,
   "id": "94b1d983",
   "metadata": {},
   "outputs": [],
   "source": [
    "# Create the output file (CSV).\n",
    "output_data_file = \"NBA_Basketball_Saturday.xlsx\"\n",
    "# Export the City_Data into a CSV.\n",
    "SB_NBA_Odds_df.to_excel(output_data_file, index_label=\"id\")"
   ]
  },
  {
   "cell_type": "code",
   "execution_count": null,
   "id": "8ea3cfb3",
   "metadata": {},
   "outputs": [],
   "source": []
  }
 ],
 "metadata": {
  "kernelspec": {
   "display_name": "PythonData",
   "language": "python",
   "name": "pythondata"
  },
  "language_info": {
   "codemirror_mode": {
    "name": "ipython",
    "version": 3
   },
   "file_extension": ".py",
   "mimetype": "text/x-python",
   "name": "python",
   "nbconvert_exporter": "python",
   "pygments_lexer": "ipython3",
   "version": "3.9.7"
  }
 },
 "nbformat": 4,
 "nbformat_minor": 5
}
