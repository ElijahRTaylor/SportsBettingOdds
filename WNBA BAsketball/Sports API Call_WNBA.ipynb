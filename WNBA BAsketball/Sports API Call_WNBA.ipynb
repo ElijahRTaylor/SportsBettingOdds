{
 "cells": [
  {
   "cell_type": "code",
   "execution_count": 1,
   "id": "968ed89d",
   "metadata": {},
   "outputs": [],
   "source": [
    "import requests\n",
    "import json\n",
    "import pandas as pd\n",
    "\n",
    "from config import sports_key \n"
   ]
  },
  {
   "cell_type": "code",
   "execution_count": 2,
   "id": "2e8fa90a",
   "metadata": {
    "scrolled": false
   },
   "outputs": [
    {
     "name": "stdout",
     "output_type": "stream",
     "text": [
      "List of in season sports: [{'key': 'americanfootball_ncaaf', 'group': 'American Football', 'title': 'NCAAF', 'description': 'US College Football', 'active': True, 'has_outrights': False}, {'key': 'americanfootball_nfl', 'group': 'American Football', 'title': 'NFL', 'description': 'US Football', 'active': True, 'has_outrights': False}, {'key': 'americanfootball_nfl_super_bowl_winner', 'group': 'American Football', 'title': 'NFL Super Bowl Winner', 'description': 'Super Bowl Winner 2022/2023', 'active': True, 'has_outrights': True}, {'key': 'aussierules_afl', 'group': 'Aussie Rules', 'title': 'AFL', 'description': 'Aussie Football', 'active': True, 'has_outrights': False}, {'key': 'baseball_mlb', 'group': 'Baseball', 'title': 'MLB', 'description': 'Major League Baseball', 'active': True, 'has_outrights': False}, {'key': 'baseball_mlb_world_series_winner', 'group': 'Baseball', 'title': 'MLB World Series Winner', 'description': 'World Series Winner 2022', 'active': True, 'has_outrights': True}, {'key': 'basketball_nba', 'group': 'Basketball', 'title': 'NBA', 'description': 'US Basketball', 'active': True, 'has_outrights': False}, {'key': 'basketball_nba_championship_winner', 'group': 'Basketball', 'title': 'NBA Championship Winner', 'description': 'Championship Winner 2021/2022', 'active': True, 'has_outrights': True}, {'key': 'basketball_wnba', 'group': 'Basketball', 'title': 'WNBA', 'description': 'US Basketball', 'active': True, 'has_outrights': False}, {'key': 'cricket_odi', 'group': 'Cricket', 'title': 'One Day Internationals', 'description': 'One Day Internationals', 'active': True, 'has_outrights': False}, {'key': 'cricket_test_match', 'group': 'Cricket', 'title': 'Test Matches', 'description': 'International Test Matches', 'active': True, 'has_outrights': False}, {'key': 'golf_the_open_championship_winner', 'group': 'Golf', 'title': 'The Open Winner', 'description': '2022 Winner', 'active': True, 'has_outrights': True}, {'key': 'golf_us_open_winner', 'group': 'Golf', 'title': 'US Open Winner', 'description': '2022 Winner', 'active': True, 'has_outrights': True}, {'key': 'icehockey_nhl', 'group': 'Ice Hockey', 'title': 'NHL', 'description': 'US Ice Hockey', 'active': True, 'has_outrights': False}, {'key': 'icehockey_nhl_championship_winner', 'group': 'Ice Hockey', 'title': 'NHL Championship Winner', 'description': 'Stanley Cup Winner 2021/2022', 'active': True, 'has_outrights': True}, {'key': 'icehockey_sweden_hockey_league', 'group': 'Ice Hockey', 'title': 'SHL', 'description': 'Swedish Hockey League', 'active': True, 'has_outrights': False}, {'key': 'mma_mixed_martial_arts', 'group': 'Mixed Martial Arts', 'title': 'MMA', 'description': 'Mixed Martial Arts', 'active': True, 'has_outrights': False}, {'key': 'rugbyleague_nrl', 'group': 'Rugby League', 'title': 'NRL', 'description': 'Aussie Rugby League', 'active': True, 'has_outrights': False}, {'key': 'soccer_argentina_primera_division', 'group': 'Soccer', 'title': 'Primera División - Argentina', 'description': 'Argentine Primera División', 'active': True, 'has_outrights': False}, {'key': 'soccer_brazil_campeonato', 'group': 'Soccer', 'title': 'Brazil Série A', 'description': 'Brasileirão Série A', 'active': True, 'has_outrights': False}, {'key': 'soccer_china_superleague', 'group': 'Soccer', 'title': 'Super League - China', 'description': '', 'active': True, 'has_outrights': False}, {'key': 'soccer_conmebol_copa_libertadores', 'group': 'Soccer', 'title': 'Copa Libertadores', 'description': 'CONMEBOL Copa Libertadores', 'active': True, 'has_outrights': False}, {'key': 'soccer_denmark_superliga', 'group': 'Soccer', 'title': 'Denmark Superliga', 'description': '', 'active': True, 'has_outrights': False}, {'key': 'soccer_fifa_world_cup', 'group': 'Soccer', 'title': 'FIFA World Cup', 'description': 'FIFA World Cup 2022', 'active': True, 'has_outrights': False}, {'key': 'soccer_fifa_world_cup_winner', 'group': 'Soccer', 'title': 'FIFA World Cup Winner', 'description': 'FIFA World Cup Winner 2022', 'active': True, 'has_outrights': True}, {'key': 'soccer_finland_veikkausliiga', 'group': 'Soccer', 'title': 'Veikkausliiga - Finland', 'description': '', 'active': True, 'has_outrights': False}, {'key': 'soccer_japan_j_league', 'group': 'Soccer', 'title': 'J League', 'description': 'Japan Soccer League', 'active': True, 'has_outrights': False}, {'key': 'soccer_korea_kleague1', 'group': 'Soccer', 'title': 'K League 1', 'description': 'Korean Soccer', 'active': True, 'has_outrights': False}, {'key': 'soccer_league_of_ireland', 'group': 'Soccer', 'title': 'League of Ireland', 'description': 'Airtricity League Premier Division', 'active': True, 'has_outrights': False}, {'key': 'soccer_norway_eliteserien', 'group': 'Soccer', 'title': 'Eliteserien - Norway', 'description': 'Norwegian Soccer', 'active': True, 'has_outrights': False}, {'key': 'soccer_spain_segunda_division', 'group': 'Soccer', 'title': 'La Liga 2 - Spain', 'description': 'Spanish Soccer', 'active': True, 'has_outrights': False}, {'key': 'soccer_sweden_allsvenskan', 'group': 'Soccer', 'title': 'Allsvenskan - Sweden', 'description': 'Swedish Soccer', 'active': True, 'has_outrights': False}, {'key': 'soccer_sweden_superettan', 'group': 'Soccer', 'title': 'Superettan - Sweden', 'description': 'Swedish Soccer', 'active': True, 'has_outrights': False}, {'key': 'soccer_uefa_nations_league', 'group': 'Soccer', 'title': 'UEFA Nations League', 'description': 'UEFA Nations League', 'active': True, 'has_outrights': False}, {'key': 'soccer_usa_mls', 'group': 'Soccer', 'title': 'MLS', 'description': 'Major League Soccer', 'active': True, 'has_outrights': False}]\n",
      "Number of events: 1\n",
      "[{'id': '52dd4b5caabbd5970789c901890c619b', 'sport_key': 'basketball_wnba', 'sport_title': 'WNBA', 'commence_time': '2022-06-12T01:00:00Z', 'home_team': 'Los Angeles Sparks', 'away_team': 'Las Vegas Aces', 'bookmakers': [{'key': 'fanduel', 'title': 'FanDuel', 'last_update': '2022-06-11T07:59:37Z', 'markets': [{'key': 'spreads', 'outcomes': [{'name': 'Las Vegas Aces', 'price': -120, 'point': -7.5}, {'name': 'Los Angeles Sparks', 'price': -102, 'point': 7.5}]}]}, {'key': 'foxbet', 'title': 'FOX Bet', 'last_update': '2022-06-11T07:58:24Z', 'markets': [{'key': 'spreads', 'outcomes': [{'name': 'Las Vegas Aces', 'price': -110, 'point': -8.0}, {'name': 'Los Angeles Sparks', 'price': -110, 'point': 8.0}]}]}, {'key': 'williamhill_us', 'title': 'William Hill (US)', 'last_update': '2022-06-11T07:59:20Z', 'markets': [{'key': 'spreads', 'outcomes': [{'name': 'Las Vegas Aces', 'price': -110, 'point': -8.0}, {'name': 'Los Angeles Sparks', 'price': -110, 'point': 8.0}]}]}, {'key': 'unibet', 'title': 'Unibet', 'last_update': '2022-06-11T07:58:45Z', 'markets': [{'key': 'spreads', 'outcomes': [{'name': 'Las Vegas Aces', 'price': -112, 'point': -8.0}, {'name': 'Los Angeles Sparks', 'price': -112, 'point': 8.0}]}]}, {'key': 'betus', 'title': 'BetUS', 'last_update': '2022-06-11T07:58:21Z', 'markets': [{'key': 'spreads', 'outcomes': [{'name': 'Las Vegas Aces', 'price': -110, 'point': -8.0}, {'name': 'Los Angeles Sparks', 'price': -110, 'point': 8.0}]}]}, {'key': 'bovada', 'title': 'Bovada', 'last_update': '2022-06-11T07:56:41Z', 'markets': [{'key': 'spreads', 'outcomes': [{'name': 'Las Vegas Aces', 'price': -110, 'point': -8.0}, {'name': 'Los Angeles Sparks', 'price': -110, 'point': 8.0}]}]}]}]\n",
      "Remaining requests 494\n",
      "Used requests 6\n"
     ]
    }
   ],
   "source": [
    "# An api key is emailed to you when you sign up to a plan\n",
    "# Get a free API key at https://api.the-odds-api.com/\n",
    "#API_KEY = 'YOUR_API_KEY'\n",
    "\n",
    "SPORT = 'basketball_wnba' # use the sport_key from the /sports endpoint below, or use 'upcoming' to see the next 8 games across all sports\n",
    "\n",
    "REGIONS = 'us' # uk | us | eu | au. Multiple can be specified if comma delimited\n",
    "\n",
    "MARKETS = 'spreads' # h2h | spreads | totals. Multiple can be specified if comma delimited\n",
    "\n",
    "ODDS_FORMAT = 'american' # decimal | american\n",
    "\n",
    "DATE_FORMAT = 'iso' # iso | unix\n",
    "\n",
    "# # # # # # # # # # # # # # # # # # # # # # # # # # # # # # # # # # # # \n",
    "#\n",
    "# First get a list of in-season sports\n",
    "#   The sport 'key' from the response can be used to get odds in the next request\n",
    "#\n",
    "# # # # # # # # # # # # # # # # # # # # # # # # # # # # # # # # # # # # \n",
    "\n",
    "sports_response = requests.get(\n",
    "    'https://api.the-odds-api.com/v4/sports', \n",
    "    params={\n",
    "        'api_key': sports_key\n",
    "    }\n",
    ")\n",
    "\n",
    "\n",
    "if sports_response.status_code != 200:\n",
    "    print(f'Failed to get sports: status_code {sports_response.status_code}, response body {sports_response.text}')\n",
    "\n",
    "else:\n",
    "    print('List of in season sports:', sports_response.json())\n",
    "\n",
    "\n",
    "\n",
    "# # # # # # # # # # # # # # # # # # # # # # # # # # # # # # # # # # # # \n",
    "#\n",
    "# Now get a list of live & upcoming games for the sport you want, along with odds for different bookmakers\n",
    "# This will deduct from the usage quota\n",
    "# The usage quota cost = [number of markets specified] x [number of regions specified]\n",
    "# For examples of usage quota costs, see https://the-odds-api.com/liveapi/guides/v4/#usage-quota-costs\n",
    "#\n",
    "# # # # # # # # # # # # # # # # # # # # # # # # # # # # # # # # # # # # \n",
    "\n",
    "odds_response = requests.get(\n",
    "    f'https://api.the-odds-api.com/v4/sports/{SPORT}/odds',\n",
    "    params={\n",
    "        'api_key': sports_key,\n",
    "        'regions': REGIONS,\n",
    "        'markets': MARKETS,\n",
    "        'oddsFormat': ODDS_FORMAT,\n",
    "        'dateFormat': DATE_FORMAT,\n",
    "    }\n",
    ")\n",
    "\n",
    "\n",
    "\n",
    "if odds_response.status_code != 200:\n",
    "    print(f'Failed to get odds: status_code {odds_response.status_code}, response body {odds_response.text}')\n",
    "\n",
    "else:\n",
    "    odds_json = odds_response.json()\n",
    "    print('Number of events:', len(odds_json))\n",
    "    print(odds_json)\n",
    "\n",
    "    # Check the usage quota\n",
    "    print('Remaining requests', odds_response.headers['x-requests-remaining'])\n",
    "    print('Used requests', odds_response.headers['x-requests-used'])\n"
   ]
  },
  {
   "cell_type": "code",
   "execution_count": 3,
   "id": "679af6f1",
   "metadata": {},
   "outputs": [
    {
     "data": {
      "text/plain": [
       "[{'id': '52dd4b5caabbd5970789c901890c619b',\n",
       "  'sport_key': 'basketball_wnba',\n",
       "  'sport_title': 'WNBA',\n",
       "  'commence_time': '2022-06-12T01:00:00Z',\n",
       "  'home_team': 'Los Angeles Sparks',\n",
       "  'away_team': 'Las Vegas Aces',\n",
       "  'bookmakers': [{'key': 'fanduel',\n",
       "    'title': 'FanDuel',\n",
       "    'last_update': '2022-06-11T07:59:37Z',\n",
       "    'markets': [{'key': 'spreads',\n",
       "      'outcomes': [{'name': 'Las Vegas Aces', 'price': -120, 'point': -7.5},\n",
       "       {'name': 'Los Angeles Sparks', 'price': -102, 'point': 7.5}]}]},\n",
       "   {'key': 'foxbet',\n",
       "    'title': 'FOX Bet',\n",
       "    'last_update': '2022-06-11T07:58:24Z',\n",
       "    'markets': [{'key': 'spreads',\n",
       "      'outcomes': [{'name': 'Las Vegas Aces', 'price': -110, 'point': -8.0},\n",
       "       {'name': 'Los Angeles Sparks', 'price': -110, 'point': 8.0}]}]},\n",
       "   {'key': 'williamhill_us',\n",
       "    'title': 'William Hill (US)',\n",
       "    'last_update': '2022-06-11T07:59:20Z',\n",
       "    'markets': [{'key': 'spreads',\n",
       "      'outcomes': [{'name': 'Las Vegas Aces', 'price': -110, 'point': -8.0},\n",
       "       {'name': 'Los Angeles Sparks', 'price': -110, 'point': 8.0}]}]},\n",
       "   {'key': 'unibet',\n",
       "    'title': 'Unibet',\n",
       "    'last_update': '2022-06-11T07:58:45Z',\n",
       "    'markets': [{'key': 'spreads',\n",
       "      'outcomes': [{'name': 'Las Vegas Aces', 'price': -112, 'point': -8.0},\n",
       "       {'name': 'Los Angeles Sparks', 'price': -112, 'point': 8.0}]}]},\n",
       "   {'key': 'betus',\n",
       "    'title': 'BetUS',\n",
       "    'last_update': '2022-06-11T07:58:21Z',\n",
       "    'markets': [{'key': 'spreads',\n",
       "      'outcomes': [{'name': 'Las Vegas Aces', 'price': -110, 'point': -8.0},\n",
       "       {'name': 'Los Angeles Sparks', 'price': -110, 'point': 8.0}]}]},\n",
       "   {'key': 'bovada',\n",
       "    'title': 'Bovada',\n",
       "    'last_update': '2022-06-11T07:56:41Z',\n",
       "    'markets': [{'key': 'spreads',\n",
       "      'outcomes': [{'name': 'Las Vegas Aces', 'price': -110, 'point': -8.0},\n",
       "       {'name': 'Los Angeles Sparks', 'price': -110, 'point': 8.0}]}]}]}]"
      ]
     },
     "execution_count": 3,
     "metadata": {},
     "output_type": "execute_result"
    }
   ],
   "source": [
    "# odds_json\n",
    "\n",
    "odds_json"
   ]
  },
  {
   "cell_type": "code",
   "execution_count": 4,
   "id": "ee900d09",
   "metadata": {},
   "outputs": [
    {
     "data": {
      "text/plain": [
       "1"
      ]
     },
     "execution_count": 4,
     "metadata": {},
     "output_type": "execute_result"
    }
   ],
   "source": [
    "len(odds_json)"
   ]
  },
  {
   "cell_type": "code",
   "execution_count": 5,
   "id": "b6f674ca",
   "metadata": {},
   "outputs": [
    {
     "name": "stdout",
     "output_type": "stream",
     "text": [
      "FANDUEL LIVE ODDS\n",
      "\n",
      "----------------------\n",
      "Los Angeles Sparks -7.5\n",
      "----------------------\n",
      "Las Vegas Aces 7.5\n",
      "                      \n"
     ]
    }
   ],
   "source": [
    "# Create for loop to iterate through each basketball game.  We want home team, \n",
    "print(\"FANDUEL LIVE ODDS\")\n",
    "print(\"\")\n",
    "for x in range(len(odds_json)):\n",
    "    print(\"----------------------\")\n",
    "    print(odds_json[x][\"home_team\"],odds_json[x][\"bookmakers\"][0][\"markets\"][0][\"outcomes\"][0][\"point\"])\n",
    "    print(\"----------------------\")\n",
    "    print(odds_json[x][\"away_team\"],odds_json[x][\"bookmakers\"][0][\"markets\"][0][\"outcomes\"][1][\"point\"])\n",
    "    print(\"                      \")\n",
    "    \n",
    "    \n",
    "    "
   ]
  },
  {
   "cell_type": "code",
   "execution_count": 6,
   "id": "fa5df0b3",
   "metadata": {},
   "outputs": [
    {
     "data": {
      "text/plain": [
       "['Los Angeles Sparks']"
      ]
     },
     "execution_count": 6,
     "metadata": {},
     "output_type": "execute_result"
    }
   ],
   "source": [
    "# Iterate through all of the home teams and save to list\n",
    "\n",
    "home_team_list=[]\n",
    "\n",
    "for x in range(len(odds_json)):\n",
    "    home_team = odds_json[x][\"home_team\"]\n",
    "    if home_team not in home_team_list:\n",
    "                 home_team_list.append(home_team)\n",
    "                     \n",
    "home_team_list\n",
    "\n",
    "# favored_team_test = (odds_json[8][\"bookmakers\"][0][\"markets\"][0][\"outcomes\"][0]['name'])\n",
    "\n",
    "# favored_team_test\n"
   ]
  },
  {
   "cell_type": "code",
   "execution_count": 7,
   "id": "9fcebd26",
   "metadata": {},
   "outputs": [
    {
     "data": {
      "text/plain": [
       "['Las Vegas Aces']"
      ]
     },
     "execution_count": 7,
     "metadata": {},
     "output_type": "execute_result"
    }
   ],
   "source": [
    "# Iterate through all of the away teams and save to list\n",
    "\n",
    "away_team_list=[]\n",
    "\n",
    "for x in range(len(odds_json)):\n",
    "    away_team = odds_json[x][\"away_team\"]\n",
    "    if away_team not in away_team_list:\n",
    "                 away_team_list.append(away_team)\n",
    "            \n",
    "away_team_list"
   ]
  },
  {
   "cell_type": "code",
   "execution_count": 8,
   "id": "9106c34a",
   "metadata": {},
   "outputs": [
    {
     "name": "stdout",
     "output_type": "stream",
     "text": [
      "[-7.5]\n",
      "[7.5]\n"
     ]
    }
   ],
   "source": [
    "# fave_team_spread=[]\n",
    "# sportsbook_list=[]\n",
    "\n",
    "# for x in range(len(odds_json)):\n",
    "#     fave_spread = odds_json[x][\"bookmakers\"][x][\"markets\"][0][\"outcomes\"][0][\"point\"]\n",
    "#     sportsbook= odds_json[x][\"bookmakers\"][x]['title']\n",
    "#     if fave_spread not in fave_team_spread:\n",
    "#         fave_team_spread.append(fave_spread)\n",
    "#         sportsbook_list.append(sportsbook)\n",
    "            \n",
    "            \n",
    "            \n",
    "\n",
    "# fave_team_spread\n",
    "\n",
    "\n",
    "\n",
    "# sportsbook_list2=[]\n",
    "# dog_team_spread=[]\n",
    "\n",
    "# for x in range(len(odds_json)):\n",
    "#     dog_spread = odds_json[x][\"bookmakers\"][x][\"markets\"][0][\"outcomes\"][1][\"point\"]\n",
    "#     sportsbook2= odds_json[x][\"bookmakers\"][x]['title']\n",
    "\n",
    "#     if dog_spread not in dog_team_spread:\n",
    "#         dog_team_spread.append(dog_spread)\n",
    "#         sportsbook_list2.append(sportsbook2)\n",
    "\n",
    "            \n",
    "            \n",
    "\n",
    "# dog_team_spread\n",
    "\n",
    "# print(fave_team_spread)\n",
    "# print(dog_team_spread)\n",
    "\n",
    "\n",
    "\n",
    "home_team_spread=[]\n",
    "sportsbook_list=[]\n",
    "\n",
    "for x in range(len(odds_json)):\n",
    "    fave_spread = odds_json[x][\"bookmakers\"][x][\"markets\"][0][\"outcomes\"][0][\"point\"]\n",
    "    sportsbook= odds_json[x][\"bookmakers\"][x]['title']\n",
    "    home_team_spread.append(fave_spread)\n",
    "    sportsbook_list.append(sportsbook)\n",
    "            \n",
    "            \n",
    "            \n",
    "\n",
    "home_team_spread\n",
    "\n",
    "\n",
    "\n",
    "sportsbook_list2=[]\n",
    "away_team_spread=[]\n",
    "\n",
    "for x in range(len(odds_json)):\n",
    "    dog_spread = odds_json[x][\"bookmakers\"][x][\"markets\"][0][\"outcomes\"][1][\"point\"]\n",
    "    sportsbook2= odds_json[x][\"bookmakers\"][x]['title']\n",
    "\n",
    "    away_team_spread.append(dog_spread)\n",
    "    sportsbook_list2.append(sportsbook2)\n",
    "\n",
    "            \n",
    "            \n",
    "\n",
    "away_team_spread\n",
    "\n",
    "print(home_team_spread)\n",
    "print(away_team_spread)"
   ]
  },
  {
   "cell_type": "code",
   "execution_count": 9,
   "id": "b6b0ef05",
   "metadata": {},
   "outputs": [
    {
     "data": {
      "text/plain": [
       "['Los Angeles Sparks']"
      ]
     },
     "execution_count": 9,
     "metadata": {},
     "output_type": "execute_result"
    }
   ],
   "source": [
    "competition_site=[]\n",
    "\n",
    "for x in range(len(odds_json)):\n",
    "    home_arena = odds_json[x][\"home_team\"]\n",
    "    if home_arena not in competition_site:\n",
    "        competition_site.append(home_arena)\n",
    "\n",
    "competition_site"
   ]
  },
  {
   "cell_type": "code",
   "execution_count": 10,
   "id": "744ba102",
   "metadata": {
    "scrolled": true
   },
   "outputs": [
    {
     "data": {
      "text/plain": [
       "{'Best Sports Book(HT)': ['FanDuel'],\n",
       " 'Home_Team': ['Los Angeles Sparks'],\n",
       " 'Home Team Spread': [-7.5],\n",
       " 'Away_Team': ['Las Vegas Aces'],\n",
       " 'Away Team Spread': [7.5],\n",
       " 'Home Arena Belongs To': ['Los Angeles Sparks']}"
      ]
     },
     "execution_count": 10,
     "metadata": {},
     "output_type": "execute_result"
    }
   ],
   "source": [
    "FD_Daily_Spread_Dict={\"Best Sports Book(HT)\":sportsbook_list,\"Home_Team\":home_team_list, \"Home Team Spread\":home_team_spread,\"Best Sports Book(HT)\":sportsbook_list2, \"Away_Team\":away_team_list, \"Away Team Spread\":away_team_spread, \"Home Arena Belongs To\":competition_site}\n",
    "FD_Daily_Spread_Dict"
   ]
  },
  {
   "cell_type": "code",
   "execution_count": 11,
   "id": "f93e5ab0",
   "metadata": {},
   "outputs": [
    {
     "data": {
      "text/plain": [
       "['FanDuel', 'FOX Bet', 'William Hill (US)', 'Unibet', 'BetUS', 'Bovada']"
      ]
     },
     "execution_count": 11,
     "metadata": {},
     "output_type": "execute_result"
    }
   ],
   "source": [
    "SB_Operators=[]\n",
    "\n",
    "for x in range(len(odds_json[0][\"bookmakers\"])):\n",
    "    SB_Operator = odds_json[0][\"bookmakers\"][x][\"title\"]\n",
    "    if SB_Operator not in SB_Operators:\n",
    "                 SB_Operators.append(SB_Operator)\n",
    "\n",
    "SB_Operators\n",
    "\n"
   ]
  },
  {
   "cell_type": "code",
   "execution_count": 12,
   "id": "28e2003b",
   "metadata": {},
   "outputs": [
    {
     "data": {
      "text/html": [
       "<div>\n",
       "<style scoped>\n",
       "    .dataframe tbody tr th:only-of-type {\n",
       "        vertical-align: middle;\n",
       "    }\n",
       "\n",
       "    .dataframe tbody tr th {\n",
       "        vertical-align: top;\n",
       "    }\n",
       "\n",
       "    .dataframe thead th {\n",
       "        text-align: right;\n",
       "    }\n",
       "</style>\n",
       "<table border=\"1\" class=\"dataframe\">\n",
       "  <thead>\n",
       "    <tr style=\"text-align: right;\">\n",
       "      <th></th>\n",
       "      <th>Best Sports Book(HT)</th>\n",
       "      <th>Home_Team</th>\n",
       "      <th>Home Team Spread</th>\n",
       "      <th>Away_Team</th>\n",
       "      <th>Away Team Spread</th>\n",
       "      <th>Home Arena Belongs To</th>\n",
       "    </tr>\n",
       "  </thead>\n",
       "  <tbody>\n",
       "    <tr>\n",
       "      <th>0</th>\n",
       "      <td>FanDuel</td>\n",
       "      <td>Los Angeles Sparks</td>\n",
       "      <td>-7.5</td>\n",
       "      <td>Las Vegas Aces</td>\n",
       "      <td>7.5</td>\n",
       "      <td>Los Angeles Sparks</td>\n",
       "    </tr>\n",
       "  </tbody>\n",
       "</table>\n",
       "</div>"
      ],
      "text/plain": [
       "  Best Sports Book(HT)           Home_Team  Home Team Spread       Away_Team  \\\n",
       "0              FanDuel  Los Angeles Sparks              -7.5  Las Vegas Aces   \n",
       "\n",
       "   Away Team Spread Home Arena Belongs To  \n",
       "0               7.5    Los Angeles Sparks  "
      ]
     },
     "execution_count": 12,
     "metadata": {},
     "output_type": "execute_result"
    }
   ],
   "source": [
    "# This layout is perfect for volume bettors who bet smaller units across multiple games\n",
    "\n",
    "SB_NBA_Odds_df=pd.DataFrame(FD_Daily_Spread_Dict)\n",
    "SB_NBA_Odds_df"
   ]
  },
  {
   "cell_type": "code",
   "execution_count": 14,
   "id": "94b1d983",
   "metadata": {},
   "outputs": [],
   "source": [
    "# Create the output file (CSV).\n",
    "output_data_file = \"WNBA_Basketball_6.11.2022.xlsx\"\n",
    "# Export the City_Data into a Excel File for later analysis\n",
    "SB_NBA_Odds_df.to_excel(output_data_file, index_label=\"id\")\n"
   ]
  },
  {
   "cell_type": "code",
   "execution_count": null,
   "id": "8ea3cfb3",
   "metadata": {},
   "outputs": [],
   "source": []
  },
  {
   "cell_type": "code",
   "execution_count": null,
   "id": "b5ec486a",
   "metadata": {},
   "outputs": [],
   "source": []
  }
 ],
 "metadata": {
  "kernelspec": {
   "display_name": "PythonData",
   "language": "python",
   "name": "pythondata"
  },
  "language_info": {
   "codemirror_mode": {
    "name": "ipython",
    "version": 3
   },
   "file_extension": ".py",
   "mimetype": "text/x-python",
   "name": "python",
   "nbconvert_exporter": "python",
   "pygments_lexer": "ipython3",
   "version": "3.9.7"
  }
 },
 "nbformat": 4,
 "nbformat_minor": 5
}
